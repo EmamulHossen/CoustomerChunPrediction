{
  "nbformat": 4,
  "nbformat_minor": 0,
  "metadata": {
    "colab": {
      "provenance": [],
      "mount_file_id": "1piSVXwWRZsZ3YfMPpjplrhabKHAwFuxQ",
      "authorship_tag": "ABX9TyOxo7Pw6FLnqe/dWJfLQLhi",
      "include_colab_link": true
    },
    "kernelspec": {
      "name": "python3",
      "display_name": "Python 3"
    },
    "language_info": {
      "name": "python"
    }
  },
  "cells": [
    {
      "cell_type": "markdown",
      "metadata": {
        "id": "view-in-github",
        "colab_type": "text"
      },
      "source": [
        "<a href=\"https://colab.research.google.com/github/EmamulHossen/CoustomerChunPrediction/blob/main/CustomerChurnPrediction.ipynb\" target=\"_parent\"><img src=\"https://colab.research.google.com/assets/colab-badge.svg\" alt=\"Open In Colab\"/></a>"
      ]
    },
    {
      "cell_type": "code",
      "execution_count": null,
      "metadata": {
        "id": "i8XMt_U_DyUQ"
      },
      "outputs": [],
      "source": [
        "from google.colab import drive"
      ]
    },
    {
      "cell_type": "code",
      "source": [
        "drive.mount(\"/content/drive\")"
      ],
      "metadata": {
        "colab": {
          "base_uri": "https://localhost:8080/"
        },
        "id": "O2vrSngXD84k",
        "outputId": "367bef2d-f621-4785-d56c-e3800a17c0d5"
      },
      "execution_count": null,
      "outputs": [
        {
          "output_type": "stream",
          "name": "stdout",
          "text": [
            "Drive already mounted at /content/drive; to attempt to forcibly remount, call drive.mount(\"/content/drive\", force_remount=True).\n"
          ]
        }
      ]
    },
    {
      "cell_type": "markdown",
      "source": [
        "**Importing Library**"
      ],
      "metadata": {
        "id": "U005sFboEUD0"
      }
    },
    {
      "cell_type": "code",
      "source": [
        "import pandas as pd\n",
        "import numpy as np\n",
        "import matplotlib.pyplot as plt\n",
        "import seaborn as sns\n",
        "import warnings\n",
        "\n",
        "warnings.filterwarnings(\"ignore\")"
      ],
      "metadata": {
        "id": "d_YJmY4AERZV"
      },
      "execution_count": null,
      "outputs": []
    },
    {
      "cell_type": "markdown",
      "source": [
        "**Read the dataset**"
      ],
      "metadata": {
        "id": "U_2oetM-ExGK"
      }
    },
    {
      "cell_type": "markdown",
      "source": [
        "**The goal of this dataset is to customer churn prediction i.e the customer who take the service for next month or not.**"
      ],
      "metadata": {
        "id": "cxNE38gsQo8z"
      }
    },
    {
      "cell_type": "code",
      "source": [
        "df=pd.read_csv(\"/content/drive/MyDrive/Data/Customer-Churn-Prediction.csv\")"
      ],
      "metadata": {
        "id": "NNJwhChNERVT"
      },
      "execution_count": null,
      "outputs": []
    },
    {
      "cell_type": "code",
      "source": [
        "df1=df.copy()"
      ],
      "metadata": {
        "id": "-rezzudZozSx"
      },
      "execution_count": null,
      "outputs": []
    },
    {
      "cell_type": "code",
      "source": [
        "df.head(5) # This dataset is an ISP Company .it is a internet service company."
      ],
      "metadata": {
        "colab": {
          "base_uri": "https://localhost:8080/",
          "height": 342
        },
        "id": "SIlNo9yNERRP",
        "outputId": "14404998-8c5e-4dcf-e3f3-7ff892dd4944"
      },
      "execution_count": null,
      "outputs": [
        {
          "output_type": "execute_result",
          "data": {
            "text/plain": [
              "   customerID  gender  SeniorCitizen Partner Dependents  tenure PhoneService  \\\n",
              "0  7590-VHVEG  Female              0     Yes         No       1           No   \n",
              "1  5575-GNVDE    Male              0      No         No      34          Yes   \n",
              "2  3668-QPYBK    Male              0      No         No       2          Yes   \n",
              "3  7795-CFOCW    Male              0      No         No      45           No   \n",
              "4  9237-HQITU  Female              0      No         No       2          Yes   \n",
              "\n",
              "      MultipleLines InternetService OnlineSecurity  ... DeviceProtection  \\\n",
              "0  No phone service             DSL             No  ...               No   \n",
              "1                No             DSL            Yes  ...              Yes   \n",
              "2                No             DSL            Yes  ...               No   \n",
              "3  No phone service             DSL            Yes  ...              Yes   \n",
              "4                No     Fiber optic             No  ...               No   \n",
              "\n",
              "  TechSupport StreamingTV StreamingMovies        Contract PaperlessBilling  \\\n",
              "0          No          No              No  Month-to-month              Yes   \n",
              "1          No          No              No        One year               No   \n",
              "2          No          No              No  Month-to-month              Yes   \n",
              "3         Yes          No              No        One year               No   \n",
              "4          No          No              No  Month-to-month              Yes   \n",
              "\n",
              "               PaymentMethod MonthlyCharges  TotalCharges Churn  \n",
              "0           Electronic check          29.85         29.85    No  \n",
              "1               Mailed check          56.95        1889.5    No  \n",
              "2               Mailed check          53.85        108.15   Yes  \n",
              "3  Bank transfer (automatic)          42.30       1840.75    No  \n",
              "4           Electronic check          70.70        151.65   Yes  \n",
              "\n",
              "[5 rows x 21 columns]"
            ],
            "text/html": [
              "\n",
              "  <div id=\"df-18a874bf-8f8c-44b4-a724-29acb2e59399\" class=\"colab-df-container\">\n",
              "    <div>\n",
              "<style scoped>\n",
              "    .dataframe tbody tr th:only-of-type {\n",
              "        vertical-align: middle;\n",
              "    }\n",
              "\n",
              "    .dataframe tbody tr th {\n",
              "        vertical-align: top;\n",
              "    }\n",
              "\n",
              "    .dataframe thead th {\n",
              "        text-align: right;\n",
              "    }\n",
              "</style>\n",
              "<table border=\"1\" class=\"dataframe\">\n",
              "  <thead>\n",
              "    <tr style=\"text-align: right;\">\n",
              "      <th></th>\n",
              "      <th>customerID</th>\n",
              "      <th>gender</th>\n",
              "      <th>SeniorCitizen</th>\n",
              "      <th>Partner</th>\n",
              "      <th>Dependents</th>\n",
              "      <th>tenure</th>\n",
              "      <th>PhoneService</th>\n",
              "      <th>MultipleLines</th>\n",
              "      <th>InternetService</th>\n",
              "      <th>OnlineSecurity</th>\n",
              "      <th>...</th>\n",
              "      <th>DeviceProtection</th>\n",
              "      <th>TechSupport</th>\n",
              "      <th>StreamingTV</th>\n",
              "      <th>StreamingMovies</th>\n",
              "      <th>Contract</th>\n",
              "      <th>PaperlessBilling</th>\n",
              "      <th>PaymentMethod</th>\n",
              "      <th>MonthlyCharges</th>\n",
              "      <th>TotalCharges</th>\n",
              "      <th>Churn</th>\n",
              "    </tr>\n",
              "  </thead>\n",
              "  <tbody>\n",
              "    <tr>\n",
              "      <th>0</th>\n",
              "      <td>7590-VHVEG</td>\n",
              "      <td>Female</td>\n",
              "      <td>0</td>\n",
              "      <td>Yes</td>\n",
              "      <td>No</td>\n",
              "      <td>1</td>\n",
              "      <td>No</td>\n",
              "      <td>No phone service</td>\n",
              "      <td>DSL</td>\n",
              "      <td>No</td>\n",
              "      <td>...</td>\n",
              "      <td>No</td>\n",
              "      <td>No</td>\n",
              "      <td>No</td>\n",
              "      <td>No</td>\n",
              "      <td>Month-to-month</td>\n",
              "      <td>Yes</td>\n",
              "      <td>Electronic check</td>\n",
              "      <td>29.85</td>\n",
              "      <td>29.85</td>\n",
              "      <td>No</td>\n",
              "    </tr>\n",
              "    <tr>\n",
              "      <th>1</th>\n",
              "      <td>5575-GNVDE</td>\n",
              "      <td>Male</td>\n",
              "      <td>0</td>\n",
              "      <td>No</td>\n",
              "      <td>No</td>\n",
              "      <td>34</td>\n",
              "      <td>Yes</td>\n",
              "      <td>No</td>\n",
              "      <td>DSL</td>\n",
              "      <td>Yes</td>\n",
              "      <td>...</td>\n",
              "      <td>Yes</td>\n",
              "      <td>No</td>\n",
              "      <td>No</td>\n",
              "      <td>No</td>\n",
              "      <td>One year</td>\n",
              "      <td>No</td>\n",
              "      <td>Mailed check</td>\n",
              "      <td>56.95</td>\n",
              "      <td>1889.5</td>\n",
              "      <td>No</td>\n",
              "    </tr>\n",
              "    <tr>\n",
              "      <th>2</th>\n",
              "      <td>3668-QPYBK</td>\n",
              "      <td>Male</td>\n",
              "      <td>0</td>\n",
              "      <td>No</td>\n",
              "      <td>No</td>\n",
              "      <td>2</td>\n",
              "      <td>Yes</td>\n",
              "      <td>No</td>\n",
              "      <td>DSL</td>\n",
              "      <td>Yes</td>\n",
              "      <td>...</td>\n",
              "      <td>No</td>\n",
              "      <td>No</td>\n",
              "      <td>No</td>\n",
              "      <td>No</td>\n",
              "      <td>Month-to-month</td>\n",
              "      <td>Yes</td>\n",
              "      <td>Mailed check</td>\n",
              "      <td>53.85</td>\n",
              "      <td>108.15</td>\n",
              "      <td>Yes</td>\n",
              "    </tr>\n",
              "    <tr>\n",
              "      <th>3</th>\n",
              "      <td>7795-CFOCW</td>\n",
              "      <td>Male</td>\n",
              "      <td>0</td>\n",
              "      <td>No</td>\n",
              "      <td>No</td>\n",
              "      <td>45</td>\n",
              "      <td>No</td>\n",
              "      <td>No phone service</td>\n",
              "      <td>DSL</td>\n",
              "      <td>Yes</td>\n",
              "      <td>...</td>\n",
              "      <td>Yes</td>\n",
              "      <td>Yes</td>\n",
              "      <td>No</td>\n",
              "      <td>No</td>\n",
              "      <td>One year</td>\n",
              "      <td>No</td>\n",
              "      <td>Bank transfer (automatic)</td>\n",
              "      <td>42.30</td>\n",
              "      <td>1840.75</td>\n",
              "      <td>No</td>\n",
              "    </tr>\n",
              "    <tr>\n",
              "      <th>4</th>\n",
              "      <td>9237-HQITU</td>\n",
              "      <td>Female</td>\n",
              "      <td>0</td>\n",
              "      <td>No</td>\n",
              "      <td>No</td>\n",
              "      <td>2</td>\n",
              "      <td>Yes</td>\n",
              "      <td>No</td>\n",
              "      <td>Fiber optic</td>\n",
              "      <td>No</td>\n",
              "      <td>...</td>\n",
              "      <td>No</td>\n",
              "      <td>No</td>\n",
              "      <td>No</td>\n",
              "      <td>No</td>\n",
              "      <td>Month-to-month</td>\n",
              "      <td>Yes</td>\n",
              "      <td>Electronic check</td>\n",
              "      <td>70.70</td>\n",
              "      <td>151.65</td>\n",
              "      <td>Yes</td>\n",
              "    </tr>\n",
              "  </tbody>\n",
              "</table>\n",
              "<p>5 rows × 21 columns</p>\n",
              "</div>\n",
              "    <div class=\"colab-df-buttons\">\n",
              "\n",
              "  <div class=\"colab-df-container\">\n",
              "    <button class=\"colab-df-convert\" onclick=\"convertToInteractive('df-18a874bf-8f8c-44b4-a724-29acb2e59399')\"\n",
              "            title=\"Convert this dataframe to an interactive table.\"\n",
              "            style=\"display:none;\">\n",
              "\n",
              "  <svg xmlns=\"http://www.w3.org/2000/svg\" height=\"24px\" viewBox=\"0 -960 960 960\">\n",
              "    <path d=\"M120-120v-720h720v720H120Zm60-500h600v-160H180v160Zm220 220h160v-160H400v160Zm0 220h160v-160H400v160ZM180-400h160v-160H180v160Zm440 0h160v-160H620v160ZM180-180h160v-160H180v160Zm440 0h160v-160H620v160Z\"/>\n",
              "  </svg>\n",
              "    </button>\n",
              "\n",
              "  <style>\n",
              "    .colab-df-container {\n",
              "      display:flex;\n",
              "      gap: 12px;\n",
              "    }\n",
              "\n",
              "    .colab-df-convert {\n",
              "      background-color: #E8F0FE;\n",
              "      border: none;\n",
              "      border-radius: 50%;\n",
              "      cursor: pointer;\n",
              "      display: none;\n",
              "      fill: #1967D2;\n",
              "      height: 32px;\n",
              "      padding: 0 0 0 0;\n",
              "      width: 32px;\n",
              "    }\n",
              "\n",
              "    .colab-df-convert:hover {\n",
              "      background-color: #E2EBFA;\n",
              "      box-shadow: 0px 1px 2px rgba(60, 64, 67, 0.3), 0px 1px 3px 1px rgba(60, 64, 67, 0.15);\n",
              "      fill: #174EA6;\n",
              "    }\n",
              "\n",
              "    .colab-df-buttons div {\n",
              "      margin-bottom: 4px;\n",
              "    }\n",
              "\n",
              "    [theme=dark] .colab-df-convert {\n",
              "      background-color: #3B4455;\n",
              "      fill: #D2E3FC;\n",
              "    }\n",
              "\n",
              "    [theme=dark] .colab-df-convert:hover {\n",
              "      background-color: #434B5C;\n",
              "      box-shadow: 0px 1px 3px 1px rgba(0, 0, 0, 0.15);\n",
              "      filter: drop-shadow(0px 1px 2px rgba(0, 0, 0, 0.3));\n",
              "      fill: #FFFFFF;\n",
              "    }\n",
              "  </style>\n",
              "\n",
              "    <script>\n",
              "      const buttonEl =\n",
              "        document.querySelector('#df-18a874bf-8f8c-44b4-a724-29acb2e59399 button.colab-df-convert');\n",
              "      buttonEl.style.display =\n",
              "        google.colab.kernel.accessAllowed ? 'block' : 'none';\n",
              "\n",
              "      async function convertToInteractive(key) {\n",
              "        const element = document.querySelector('#df-18a874bf-8f8c-44b4-a724-29acb2e59399');\n",
              "        const dataTable =\n",
              "          await google.colab.kernel.invokeFunction('convertToInteractive',\n",
              "                                                    [key], {});\n",
              "        if (!dataTable) return;\n",
              "\n",
              "        const docLinkHtml = 'Like what you see? Visit the ' +\n",
              "          '<a target=\"_blank\" href=https://colab.research.google.com/notebooks/data_table.ipynb>data table notebook</a>'\n",
              "          + ' to learn more about interactive tables.';\n",
              "        element.innerHTML = '';\n",
              "        dataTable['output_type'] = 'display_data';\n",
              "        await google.colab.output.renderOutput(dataTable, element);\n",
              "        const docLink = document.createElement('div');\n",
              "        docLink.innerHTML = docLinkHtml;\n",
              "        element.appendChild(docLink);\n",
              "      }\n",
              "    </script>\n",
              "  </div>\n",
              "\n",
              "\n",
              "<div id=\"df-108e26ab-a5e1-4c4b-a22a-bf61dc242088\">\n",
              "  <button class=\"colab-df-quickchart\" onclick=\"quickchart('df-108e26ab-a5e1-4c4b-a22a-bf61dc242088')\"\n",
              "            title=\"Suggest charts.\"\n",
              "            style=\"display:none;\">\n",
              "\n",
              "<svg xmlns=\"http://www.w3.org/2000/svg\" height=\"24px\"viewBox=\"0 0 24 24\"\n",
              "     width=\"24px\">\n",
              "    <g>\n",
              "        <path d=\"M19 3H5c-1.1 0-2 .9-2 2v14c0 1.1.9 2 2 2h14c1.1 0 2-.9 2-2V5c0-1.1-.9-2-2-2zM9 17H7v-7h2v7zm4 0h-2V7h2v10zm4 0h-2v-4h2v4z\"/>\n",
              "    </g>\n",
              "</svg>\n",
              "  </button>\n",
              "\n",
              "<style>\n",
              "  .colab-df-quickchart {\n",
              "      --bg-color: #E8F0FE;\n",
              "      --fill-color: #1967D2;\n",
              "      --hover-bg-color: #E2EBFA;\n",
              "      --hover-fill-color: #174EA6;\n",
              "      --disabled-fill-color: #AAA;\n",
              "      --disabled-bg-color: #DDD;\n",
              "  }\n",
              "\n",
              "  [theme=dark] .colab-df-quickchart {\n",
              "      --bg-color: #3B4455;\n",
              "      --fill-color: #D2E3FC;\n",
              "      --hover-bg-color: #434B5C;\n",
              "      --hover-fill-color: #FFFFFF;\n",
              "      --disabled-bg-color: #3B4455;\n",
              "      --disabled-fill-color: #666;\n",
              "  }\n",
              "\n",
              "  .colab-df-quickchart {\n",
              "    background-color: var(--bg-color);\n",
              "    border: none;\n",
              "    border-radius: 50%;\n",
              "    cursor: pointer;\n",
              "    display: none;\n",
              "    fill: var(--fill-color);\n",
              "    height: 32px;\n",
              "    padding: 0;\n",
              "    width: 32px;\n",
              "  }\n",
              "\n",
              "  .colab-df-quickchart:hover {\n",
              "    background-color: var(--hover-bg-color);\n",
              "    box-shadow: 0 1px 2px rgba(60, 64, 67, 0.3), 0 1px 3px 1px rgba(60, 64, 67, 0.15);\n",
              "    fill: var(--button-hover-fill-color);\n",
              "  }\n",
              "\n",
              "  .colab-df-quickchart-complete:disabled,\n",
              "  .colab-df-quickchart-complete:disabled:hover {\n",
              "    background-color: var(--disabled-bg-color);\n",
              "    fill: var(--disabled-fill-color);\n",
              "    box-shadow: none;\n",
              "  }\n",
              "\n",
              "  .colab-df-spinner {\n",
              "    border: 2px solid var(--fill-color);\n",
              "    border-color: transparent;\n",
              "    border-bottom-color: var(--fill-color);\n",
              "    animation:\n",
              "      spin 1s steps(1) infinite;\n",
              "  }\n",
              "\n",
              "  @keyframes spin {\n",
              "    0% {\n",
              "      border-color: transparent;\n",
              "      border-bottom-color: var(--fill-color);\n",
              "      border-left-color: var(--fill-color);\n",
              "    }\n",
              "    20% {\n",
              "      border-color: transparent;\n",
              "      border-left-color: var(--fill-color);\n",
              "      border-top-color: var(--fill-color);\n",
              "    }\n",
              "    30% {\n",
              "      border-color: transparent;\n",
              "      border-left-color: var(--fill-color);\n",
              "      border-top-color: var(--fill-color);\n",
              "      border-right-color: var(--fill-color);\n",
              "    }\n",
              "    40% {\n",
              "      border-color: transparent;\n",
              "      border-right-color: var(--fill-color);\n",
              "      border-top-color: var(--fill-color);\n",
              "    }\n",
              "    60% {\n",
              "      border-color: transparent;\n",
              "      border-right-color: var(--fill-color);\n",
              "    }\n",
              "    80% {\n",
              "      border-color: transparent;\n",
              "      border-right-color: var(--fill-color);\n",
              "      border-bottom-color: var(--fill-color);\n",
              "    }\n",
              "    90% {\n",
              "      border-color: transparent;\n",
              "      border-bottom-color: var(--fill-color);\n",
              "    }\n",
              "  }\n",
              "</style>\n",
              "\n",
              "  <script>\n",
              "    async function quickchart(key) {\n",
              "      const quickchartButtonEl =\n",
              "        document.querySelector('#' + key + ' button');\n",
              "      quickchartButtonEl.disabled = true;  // To prevent multiple clicks.\n",
              "      quickchartButtonEl.classList.add('colab-df-spinner');\n",
              "      try {\n",
              "        const charts = await google.colab.kernel.invokeFunction(\n",
              "            'suggestCharts', [key], {});\n",
              "      } catch (error) {\n",
              "        console.error('Error during call to suggestCharts:', error);\n",
              "      }\n",
              "      quickchartButtonEl.classList.remove('colab-df-spinner');\n",
              "      quickchartButtonEl.classList.add('colab-df-quickchart-complete');\n",
              "    }\n",
              "    (() => {\n",
              "      let quickchartButtonEl =\n",
              "        document.querySelector('#df-108e26ab-a5e1-4c4b-a22a-bf61dc242088 button');\n",
              "      quickchartButtonEl.style.display =\n",
              "        google.colab.kernel.accessAllowed ? 'block' : 'none';\n",
              "    })();\n",
              "  </script>\n",
              "</div>\n",
              "    </div>\n",
              "  </div>\n"
            ]
          },
          "metadata": {},
          "execution_count": 6
        }
      ]
    },
    {
      "cell_type": "code",
      "source": [
        "df.tail(5)"
      ],
      "metadata": {
        "colab": {
          "base_uri": "https://localhost:8080/",
          "height": 342
        },
        "id": "6frmbgWlQYVr",
        "outputId": "dfaa720a-1082-4aff-852e-7521a560efeb"
      },
      "execution_count": null,
      "outputs": [
        {
          "output_type": "execute_result",
          "data": {
            "text/plain": [
              "      customerID  gender  SeniorCitizen Partner Dependents  tenure  \\\n",
              "7038  6840-RESVB    Male              0     Yes        Yes      24   \n",
              "7039  2234-XADUH  Female              0     Yes        Yes      72   \n",
              "7040  4801-JZAZL  Female              0     Yes        Yes      11   \n",
              "7041  8361-LTMKD    Male              1     Yes         No       4   \n",
              "7042  3186-AJIEK    Male              0      No         No      66   \n",
              "\n",
              "     PhoneService     MultipleLines InternetService OnlineSecurity  ...  \\\n",
              "7038          Yes               Yes             DSL            Yes  ...   \n",
              "7039          Yes               Yes     Fiber optic             No  ...   \n",
              "7040           No  No phone service             DSL            Yes  ...   \n",
              "7041          Yes               Yes     Fiber optic             No  ...   \n",
              "7042          Yes                No     Fiber optic            Yes  ...   \n",
              "\n",
              "     DeviceProtection TechSupport StreamingTV StreamingMovies        Contract  \\\n",
              "7038              Yes         Yes         Yes             Yes        One year   \n",
              "7039              Yes          No         Yes             Yes        One year   \n",
              "7040               No          No          No              No  Month-to-month   \n",
              "7041               No          No          No              No  Month-to-month   \n",
              "7042              Yes         Yes         Yes             Yes        Two year   \n",
              "\n",
              "     PaperlessBilling              PaymentMethod MonthlyCharges  TotalCharges  \\\n",
              "7038              Yes               Mailed check          84.80        1990.5   \n",
              "7039              Yes    Credit card (automatic)         103.20        7362.9   \n",
              "7040              Yes           Electronic check          29.60        346.45   \n",
              "7041              Yes               Mailed check          74.40         306.6   \n",
              "7042              Yes  Bank transfer (automatic)         105.65        6844.5   \n",
              "\n",
              "     Churn  \n",
              "7038    No  \n",
              "7039    No  \n",
              "7040    No  \n",
              "7041   Yes  \n",
              "7042    No  \n",
              "\n",
              "[5 rows x 21 columns]"
            ],
            "text/html": [
              "\n",
              "  <div id=\"df-bb78967a-c6ae-4a06-850e-202277006605\" class=\"colab-df-container\">\n",
              "    <div>\n",
              "<style scoped>\n",
              "    .dataframe tbody tr th:only-of-type {\n",
              "        vertical-align: middle;\n",
              "    }\n",
              "\n",
              "    .dataframe tbody tr th {\n",
              "        vertical-align: top;\n",
              "    }\n",
              "\n",
              "    .dataframe thead th {\n",
              "        text-align: right;\n",
              "    }\n",
              "</style>\n",
              "<table border=\"1\" class=\"dataframe\">\n",
              "  <thead>\n",
              "    <tr style=\"text-align: right;\">\n",
              "      <th></th>\n",
              "      <th>customerID</th>\n",
              "      <th>gender</th>\n",
              "      <th>SeniorCitizen</th>\n",
              "      <th>Partner</th>\n",
              "      <th>Dependents</th>\n",
              "      <th>tenure</th>\n",
              "      <th>PhoneService</th>\n",
              "      <th>MultipleLines</th>\n",
              "      <th>InternetService</th>\n",
              "      <th>OnlineSecurity</th>\n",
              "      <th>...</th>\n",
              "      <th>DeviceProtection</th>\n",
              "      <th>TechSupport</th>\n",
              "      <th>StreamingTV</th>\n",
              "      <th>StreamingMovies</th>\n",
              "      <th>Contract</th>\n",
              "      <th>PaperlessBilling</th>\n",
              "      <th>PaymentMethod</th>\n",
              "      <th>MonthlyCharges</th>\n",
              "      <th>TotalCharges</th>\n",
              "      <th>Churn</th>\n",
              "    </tr>\n",
              "  </thead>\n",
              "  <tbody>\n",
              "    <tr>\n",
              "      <th>7038</th>\n",
              "      <td>6840-RESVB</td>\n",
              "      <td>Male</td>\n",
              "      <td>0</td>\n",
              "      <td>Yes</td>\n",
              "      <td>Yes</td>\n",
              "      <td>24</td>\n",
              "      <td>Yes</td>\n",
              "      <td>Yes</td>\n",
              "      <td>DSL</td>\n",
              "      <td>Yes</td>\n",
              "      <td>...</td>\n",
              "      <td>Yes</td>\n",
              "      <td>Yes</td>\n",
              "      <td>Yes</td>\n",
              "      <td>Yes</td>\n",
              "      <td>One year</td>\n",
              "      <td>Yes</td>\n",
              "      <td>Mailed check</td>\n",
              "      <td>84.80</td>\n",
              "      <td>1990.5</td>\n",
              "      <td>No</td>\n",
              "    </tr>\n",
              "    <tr>\n",
              "      <th>7039</th>\n",
              "      <td>2234-XADUH</td>\n",
              "      <td>Female</td>\n",
              "      <td>0</td>\n",
              "      <td>Yes</td>\n",
              "      <td>Yes</td>\n",
              "      <td>72</td>\n",
              "      <td>Yes</td>\n",
              "      <td>Yes</td>\n",
              "      <td>Fiber optic</td>\n",
              "      <td>No</td>\n",
              "      <td>...</td>\n",
              "      <td>Yes</td>\n",
              "      <td>No</td>\n",
              "      <td>Yes</td>\n",
              "      <td>Yes</td>\n",
              "      <td>One year</td>\n",
              "      <td>Yes</td>\n",
              "      <td>Credit card (automatic)</td>\n",
              "      <td>103.20</td>\n",
              "      <td>7362.9</td>\n",
              "      <td>No</td>\n",
              "    </tr>\n",
              "    <tr>\n",
              "      <th>7040</th>\n",
              "      <td>4801-JZAZL</td>\n",
              "      <td>Female</td>\n",
              "      <td>0</td>\n",
              "      <td>Yes</td>\n",
              "      <td>Yes</td>\n",
              "      <td>11</td>\n",
              "      <td>No</td>\n",
              "      <td>No phone service</td>\n",
              "      <td>DSL</td>\n",
              "      <td>Yes</td>\n",
              "      <td>...</td>\n",
              "      <td>No</td>\n",
              "      <td>No</td>\n",
              "      <td>No</td>\n",
              "      <td>No</td>\n",
              "      <td>Month-to-month</td>\n",
              "      <td>Yes</td>\n",
              "      <td>Electronic check</td>\n",
              "      <td>29.60</td>\n",
              "      <td>346.45</td>\n",
              "      <td>No</td>\n",
              "    </tr>\n",
              "    <tr>\n",
              "      <th>7041</th>\n",
              "      <td>8361-LTMKD</td>\n",
              "      <td>Male</td>\n",
              "      <td>1</td>\n",
              "      <td>Yes</td>\n",
              "      <td>No</td>\n",
              "      <td>4</td>\n",
              "      <td>Yes</td>\n",
              "      <td>Yes</td>\n",
              "      <td>Fiber optic</td>\n",
              "      <td>No</td>\n",
              "      <td>...</td>\n",
              "      <td>No</td>\n",
              "      <td>No</td>\n",
              "      <td>No</td>\n",
              "      <td>No</td>\n",
              "      <td>Month-to-month</td>\n",
              "      <td>Yes</td>\n",
              "      <td>Mailed check</td>\n",
              "      <td>74.40</td>\n",
              "      <td>306.6</td>\n",
              "      <td>Yes</td>\n",
              "    </tr>\n",
              "    <tr>\n",
              "      <th>7042</th>\n",
              "      <td>3186-AJIEK</td>\n",
              "      <td>Male</td>\n",
              "      <td>0</td>\n",
              "      <td>No</td>\n",
              "      <td>No</td>\n",
              "      <td>66</td>\n",
              "      <td>Yes</td>\n",
              "      <td>No</td>\n",
              "      <td>Fiber optic</td>\n",
              "      <td>Yes</td>\n",
              "      <td>...</td>\n",
              "      <td>Yes</td>\n",
              "      <td>Yes</td>\n",
              "      <td>Yes</td>\n",
              "      <td>Yes</td>\n",
              "      <td>Two year</td>\n",
              "      <td>Yes</td>\n",
              "      <td>Bank transfer (automatic)</td>\n",
              "      <td>105.65</td>\n",
              "      <td>6844.5</td>\n",
              "      <td>No</td>\n",
              "    </tr>\n",
              "  </tbody>\n",
              "</table>\n",
              "<p>5 rows × 21 columns</p>\n",
              "</div>\n",
              "    <div class=\"colab-df-buttons\">\n",
              "\n",
              "  <div class=\"colab-df-container\">\n",
              "    <button class=\"colab-df-convert\" onclick=\"convertToInteractive('df-bb78967a-c6ae-4a06-850e-202277006605')\"\n",
              "            title=\"Convert this dataframe to an interactive table.\"\n",
              "            style=\"display:none;\">\n",
              "\n",
              "  <svg xmlns=\"http://www.w3.org/2000/svg\" height=\"24px\" viewBox=\"0 -960 960 960\">\n",
              "    <path d=\"M120-120v-720h720v720H120Zm60-500h600v-160H180v160Zm220 220h160v-160H400v160Zm0 220h160v-160H400v160ZM180-400h160v-160H180v160Zm440 0h160v-160H620v160ZM180-180h160v-160H180v160Zm440 0h160v-160H620v160Z\"/>\n",
              "  </svg>\n",
              "    </button>\n",
              "\n",
              "  <style>\n",
              "    .colab-df-container {\n",
              "      display:flex;\n",
              "      gap: 12px;\n",
              "    }\n",
              "\n",
              "    .colab-df-convert {\n",
              "      background-color: #E8F0FE;\n",
              "      border: none;\n",
              "      border-radius: 50%;\n",
              "      cursor: pointer;\n",
              "      display: none;\n",
              "      fill: #1967D2;\n",
              "      height: 32px;\n",
              "      padding: 0 0 0 0;\n",
              "      width: 32px;\n",
              "    }\n",
              "\n",
              "    .colab-df-convert:hover {\n",
              "      background-color: #E2EBFA;\n",
              "      box-shadow: 0px 1px 2px rgba(60, 64, 67, 0.3), 0px 1px 3px 1px rgba(60, 64, 67, 0.15);\n",
              "      fill: #174EA6;\n",
              "    }\n",
              "\n",
              "    .colab-df-buttons div {\n",
              "      margin-bottom: 4px;\n",
              "    }\n",
              "\n",
              "    [theme=dark] .colab-df-convert {\n",
              "      background-color: #3B4455;\n",
              "      fill: #D2E3FC;\n",
              "    }\n",
              "\n",
              "    [theme=dark] .colab-df-convert:hover {\n",
              "      background-color: #434B5C;\n",
              "      box-shadow: 0px 1px 3px 1px rgba(0, 0, 0, 0.15);\n",
              "      filter: drop-shadow(0px 1px 2px rgba(0, 0, 0, 0.3));\n",
              "      fill: #FFFFFF;\n",
              "    }\n",
              "  </style>\n",
              "\n",
              "    <script>\n",
              "      const buttonEl =\n",
              "        document.querySelector('#df-bb78967a-c6ae-4a06-850e-202277006605 button.colab-df-convert');\n",
              "      buttonEl.style.display =\n",
              "        google.colab.kernel.accessAllowed ? 'block' : 'none';\n",
              "\n",
              "      async function convertToInteractive(key) {\n",
              "        const element = document.querySelector('#df-bb78967a-c6ae-4a06-850e-202277006605');\n",
              "        const dataTable =\n",
              "          await google.colab.kernel.invokeFunction('convertToInteractive',\n",
              "                                                    [key], {});\n",
              "        if (!dataTable) return;\n",
              "\n",
              "        const docLinkHtml = 'Like what you see? Visit the ' +\n",
              "          '<a target=\"_blank\" href=https://colab.research.google.com/notebooks/data_table.ipynb>data table notebook</a>'\n",
              "          + ' to learn more about interactive tables.';\n",
              "        element.innerHTML = '';\n",
              "        dataTable['output_type'] = 'display_data';\n",
              "        await google.colab.output.renderOutput(dataTable, element);\n",
              "        const docLink = document.createElement('div');\n",
              "        docLink.innerHTML = docLinkHtml;\n",
              "        element.appendChild(docLink);\n",
              "      }\n",
              "    </script>\n",
              "  </div>\n",
              "\n",
              "\n",
              "<div id=\"df-a13bdcaa-9b4b-4eb0-9056-67d346ed0b0e\">\n",
              "  <button class=\"colab-df-quickchart\" onclick=\"quickchart('df-a13bdcaa-9b4b-4eb0-9056-67d346ed0b0e')\"\n",
              "            title=\"Suggest charts.\"\n",
              "            style=\"display:none;\">\n",
              "\n",
              "<svg xmlns=\"http://www.w3.org/2000/svg\" height=\"24px\"viewBox=\"0 0 24 24\"\n",
              "     width=\"24px\">\n",
              "    <g>\n",
              "        <path d=\"M19 3H5c-1.1 0-2 .9-2 2v14c0 1.1.9 2 2 2h14c1.1 0 2-.9 2-2V5c0-1.1-.9-2-2-2zM9 17H7v-7h2v7zm4 0h-2V7h2v10zm4 0h-2v-4h2v4z\"/>\n",
              "    </g>\n",
              "</svg>\n",
              "  </button>\n",
              "\n",
              "<style>\n",
              "  .colab-df-quickchart {\n",
              "      --bg-color: #E8F0FE;\n",
              "      --fill-color: #1967D2;\n",
              "      --hover-bg-color: #E2EBFA;\n",
              "      --hover-fill-color: #174EA6;\n",
              "      --disabled-fill-color: #AAA;\n",
              "      --disabled-bg-color: #DDD;\n",
              "  }\n",
              "\n",
              "  [theme=dark] .colab-df-quickchart {\n",
              "      --bg-color: #3B4455;\n",
              "      --fill-color: #D2E3FC;\n",
              "      --hover-bg-color: #434B5C;\n",
              "      --hover-fill-color: #FFFFFF;\n",
              "      --disabled-bg-color: #3B4455;\n",
              "      --disabled-fill-color: #666;\n",
              "  }\n",
              "\n",
              "  .colab-df-quickchart {\n",
              "    background-color: var(--bg-color);\n",
              "    border: none;\n",
              "    border-radius: 50%;\n",
              "    cursor: pointer;\n",
              "    display: none;\n",
              "    fill: var(--fill-color);\n",
              "    height: 32px;\n",
              "    padding: 0;\n",
              "    width: 32px;\n",
              "  }\n",
              "\n",
              "  .colab-df-quickchart:hover {\n",
              "    background-color: var(--hover-bg-color);\n",
              "    box-shadow: 0 1px 2px rgba(60, 64, 67, 0.3), 0 1px 3px 1px rgba(60, 64, 67, 0.15);\n",
              "    fill: var(--button-hover-fill-color);\n",
              "  }\n",
              "\n",
              "  .colab-df-quickchart-complete:disabled,\n",
              "  .colab-df-quickchart-complete:disabled:hover {\n",
              "    background-color: var(--disabled-bg-color);\n",
              "    fill: var(--disabled-fill-color);\n",
              "    box-shadow: none;\n",
              "  }\n",
              "\n",
              "  .colab-df-spinner {\n",
              "    border: 2px solid var(--fill-color);\n",
              "    border-color: transparent;\n",
              "    border-bottom-color: var(--fill-color);\n",
              "    animation:\n",
              "      spin 1s steps(1) infinite;\n",
              "  }\n",
              "\n",
              "  @keyframes spin {\n",
              "    0% {\n",
              "      border-color: transparent;\n",
              "      border-bottom-color: var(--fill-color);\n",
              "      border-left-color: var(--fill-color);\n",
              "    }\n",
              "    20% {\n",
              "      border-color: transparent;\n",
              "      border-left-color: var(--fill-color);\n",
              "      border-top-color: var(--fill-color);\n",
              "    }\n",
              "    30% {\n",
              "      border-color: transparent;\n",
              "      border-left-color: var(--fill-color);\n",
              "      border-top-color: var(--fill-color);\n",
              "      border-right-color: var(--fill-color);\n",
              "    }\n",
              "    40% {\n",
              "      border-color: transparent;\n",
              "      border-right-color: var(--fill-color);\n",
              "      border-top-color: var(--fill-color);\n",
              "    }\n",
              "    60% {\n",
              "      border-color: transparent;\n",
              "      border-right-color: var(--fill-color);\n",
              "    }\n",
              "    80% {\n",
              "      border-color: transparent;\n",
              "      border-right-color: var(--fill-color);\n",
              "      border-bottom-color: var(--fill-color);\n",
              "    }\n",
              "    90% {\n",
              "      border-color: transparent;\n",
              "      border-bottom-color: var(--fill-color);\n",
              "    }\n",
              "  }\n",
              "</style>\n",
              "\n",
              "  <script>\n",
              "    async function quickchart(key) {\n",
              "      const quickchartButtonEl =\n",
              "        document.querySelector('#' + key + ' button');\n",
              "      quickchartButtonEl.disabled = true;  // To prevent multiple clicks.\n",
              "      quickchartButtonEl.classList.add('colab-df-spinner');\n",
              "      try {\n",
              "        const charts = await google.colab.kernel.invokeFunction(\n",
              "            'suggestCharts', [key], {});\n",
              "      } catch (error) {\n",
              "        console.error('Error during call to suggestCharts:', error);\n",
              "      }\n",
              "      quickchartButtonEl.classList.remove('colab-df-spinner');\n",
              "      quickchartButtonEl.classList.add('colab-df-quickchart-complete');\n",
              "    }\n",
              "    (() => {\n",
              "      let quickchartButtonEl =\n",
              "        document.querySelector('#df-a13bdcaa-9b4b-4eb0-9056-67d346ed0b0e button');\n",
              "      quickchartButtonEl.style.display =\n",
              "        google.colab.kernel.accessAllowed ? 'block' : 'none';\n",
              "    })();\n",
              "  </script>\n",
              "</div>\n",
              "    </div>\n",
              "  </div>\n"
            ]
          },
          "metadata": {},
          "execution_count": 7
        }
      ]
    },
    {
      "cell_type": "code",
      "source": [
        "df.shape # Shape of the dataset."
      ],
      "metadata": {
        "colab": {
          "base_uri": "https://localhost:8080/"
        },
        "id": "jUIDzwqNERMT",
        "outputId": "6d2f7f6f-f49c-4676-f512-c54767266eef"
      },
      "execution_count": null,
      "outputs": [
        {
          "output_type": "execute_result",
          "data": {
            "text/plain": [
              "(7043, 21)"
            ]
          },
          "metadata": {},
          "execution_count": 8
        }
      ]
    },
    {
      "cell_type": "code",
      "source": [
        "df.columns # All columns of the dataset."
      ],
      "metadata": {
        "colab": {
          "base_uri": "https://localhost:8080/"
        },
        "id": "IYwsfC6sERH3",
        "outputId": "bdb2cee6-8493-41af-e8b7-f8f8d602cde4"
      },
      "execution_count": null,
      "outputs": [
        {
          "output_type": "execute_result",
          "data": {
            "text/plain": [
              "Index(['customerID', 'gender', 'SeniorCitizen', 'Partner', 'Dependents',\n",
              "       'tenure', 'PhoneService', 'MultipleLines', 'InternetService',\n",
              "       'OnlineSecurity', 'OnlineBackup', 'DeviceProtection', 'TechSupport',\n",
              "       'StreamingTV', 'StreamingMovies', 'Contract', 'PaperlessBilling',\n",
              "       'PaymentMethod', 'MonthlyCharges', 'TotalCharges', 'Churn'],\n",
              "      dtype='object')"
            ]
          },
          "metadata": {},
          "execution_count": 9
        }
      ]
    },
    {
      "cell_type": "code",
      "source": [
        "df.isnull().any() # Check the Null Value."
      ],
      "metadata": {
        "colab": {
          "base_uri": "https://localhost:8080/"
        },
        "id": "TGst42LvEQ_k",
        "outputId": "f5070b88-f9eb-4ce3-c853-45e8f1e1e820"
      },
      "execution_count": null,
      "outputs": [
        {
          "output_type": "execute_result",
          "data": {
            "text/plain": [
              "customerID          False\n",
              "gender              False\n",
              "SeniorCitizen       False\n",
              "Partner             False\n",
              "Dependents          False\n",
              "tenure              False\n",
              "PhoneService        False\n",
              "MultipleLines       False\n",
              "InternetService     False\n",
              "OnlineSecurity      False\n",
              "OnlineBackup        False\n",
              "DeviceProtection    False\n",
              "TechSupport         False\n",
              "StreamingTV         False\n",
              "StreamingMovies     False\n",
              "Contract            False\n",
              "PaperlessBilling    False\n",
              "PaymentMethod       False\n",
              "MonthlyCharges      False\n",
              "TotalCharges        False\n",
              "Churn               False\n",
              "dtype: bool"
            ]
          },
          "metadata": {},
          "execution_count": 10
        }
      ]
    },
    {
      "cell_type": "code",
      "source": [
        "df.isnull().sum()"
      ],
      "metadata": {
        "colab": {
          "base_uri": "https://localhost:8080/"
        },
        "id": "8Q6Lu49TEQ7H",
        "outputId": "dffb4930-1b38-4e78-9cfc-70d6753c99ad"
      },
      "execution_count": null,
      "outputs": [
        {
          "output_type": "execute_result",
          "data": {
            "text/plain": [
              "customerID          0\n",
              "gender              0\n",
              "SeniorCitizen       0\n",
              "Partner             0\n",
              "Dependents          0\n",
              "tenure              0\n",
              "PhoneService        0\n",
              "MultipleLines       0\n",
              "InternetService     0\n",
              "OnlineSecurity      0\n",
              "OnlineBackup        0\n",
              "DeviceProtection    0\n",
              "TechSupport         0\n",
              "StreamingTV         0\n",
              "StreamingMovies     0\n",
              "Contract            0\n",
              "PaperlessBilling    0\n",
              "PaymentMethod       0\n",
              "MonthlyCharges      0\n",
              "TotalCharges        0\n",
              "Churn               0\n",
              "dtype: int64"
            ]
          },
          "metadata": {},
          "execution_count": 11
        }
      ]
    },
    {
      "cell_type": "code",
      "source": [
        "df[\"Churn\"].value_counts()"
      ],
      "metadata": {
        "colab": {
          "base_uri": "https://localhost:8080/"
        },
        "id": "SI67Avy3EQ3S",
        "outputId": "b129f412-83d6-4651-80ba-b87c3f0c9f33"
      },
      "execution_count": null,
      "outputs": [
        {
          "output_type": "execute_result",
          "data": {
            "text/plain": [
              "No     5174\n",
              "Yes    1869\n",
              "Name: Churn, dtype: int64"
            ]
          },
          "metadata": {},
          "execution_count": 12
        }
      ]
    },
    {
      "cell_type": "code",
      "source": [
        "not_churned=(5174)/(5174+1869)*100"
      ],
      "metadata": {
        "id": "S6PJdziZEQyz"
      },
      "execution_count": null,
      "outputs": []
    },
    {
      "cell_type": "code",
      "source": [
        "not_churned #73% customer not churn for next month."
      ],
      "metadata": {
        "colab": {
          "base_uri": "https://localhost:8080/"
        },
        "id": "7sYiMwPfEQuo",
        "outputId": "d24fd98c-d2db-4f98-f90d-f14b33e07f0b"
      },
      "execution_count": null,
      "outputs": [
        {
          "output_type": "execute_result",
          "data": {
            "text/plain": [
              "73.4630129206304"
            ]
          },
          "metadata": {},
          "execution_count": 14
        }
      ]
    },
    {
      "cell_type": "code",
      "source": [
        "# Percentage of churn customer\n",
        "churned=(1869)/(5174+1869)*100"
      ],
      "metadata": {
        "id": "WEF7bEPIEQqX"
      },
      "execution_count": null,
      "outputs": []
    },
    {
      "cell_type": "code",
      "source": [
        "churned #26% customer will be churned for next month."
      ],
      "metadata": {
        "colab": {
          "base_uri": "https://localhost:8080/"
        },
        "id": "xLPNYjpbEQlQ",
        "outputId": "d726d346-cfdf-4f4e-81c2-6e7342358e2b"
      },
      "execution_count": null,
      "outputs": [
        {
          "output_type": "execute_result",
          "data": {
            "text/plain": [
              "26.536987079369588"
            ]
          },
          "metadata": {},
          "execution_count": 16
        }
      ]
    },
    {
      "cell_type": "code",
      "source": [
        "print(\"Not churned {} percentage of total people\".format(not_churned))\n",
        "print(\"Churned {} percentage of total people\".format(churned))"
      ],
      "metadata": {
        "colab": {
          "base_uri": "https://localhost:8080/"
        },
        "id": "-gPT4x6AEQgb",
        "outputId": "a140c812-a7bb-419d-f006-336ad89cb514"
      },
      "execution_count": null,
      "outputs": [
        {
          "output_type": "stream",
          "name": "stdout",
          "text": [
            "Not churned 73.4630129206304 percentage of total people\n",
            "Churned 26.536987079369588 percentage of total people\n"
          ]
        }
      ]
    },
    {
      "cell_type": "code",
      "source": [
        "sns.countplot(x=df[\"Churn\"],color=\"#2800FF\")"
      ],
      "metadata": {
        "colab": {
          "base_uri": "https://localhost:8080/",
          "height": 466
        },
        "id": "PgS7KH0ZEQci",
        "outputId": "5bb9464c-7be1-413a-d2fc-e54040c4d326"
      },
      "execution_count": null,
      "outputs": [
        {
          "output_type": "execute_result",
          "data": {
            "text/plain": [
              "<Axes: xlabel='Churn', ylabel='count'>"
            ]
          },
          "metadata": {},
          "execution_count": 18
        },
        {
          "output_type": "display_data",
          "data": {
            "text/plain": [
              "<Figure size 640x480 with 1 Axes>"
            ],
            "image/png": "[encoded data removed]"
          },
          "metadata": {}
        }
      ]
    },
    {
      "cell_type": "code",
      "source": [
        "sns.countplot(x=df[\"Churn\"],color=\"yellow\")"
      ],
      "metadata": {
        "colab": {
          "base_uri": "https://localhost:8080/",
          "height": 466
        },
        "id": "43YOuI15EQYI",
        "outputId": "49da2f62-1692-4d3a-fa73-37d3b6da8fb8"
      },
      "execution_count": null,
      "outputs": [
        {
          "output_type": "execute_result",
          "data": {
            "text/plain": [
              "<Axes: xlabel='Churn', ylabel='count'>"
            ]
          },
          "metadata": {},
          "execution_count": 19
        },
        {
          "output_type": "display_data",
          "data": {
            "text/plain": [
              "<Figure size 640x480 with 1 Axes>"
            ],
            "image/png": "[encoded data removed]"
          },
          "metadata": {}
        }
      ]
    },
    {
      "cell_type": "code",
      "source": [
        "df.duplicated() # Checking duplicates value."
      ],
      "metadata": {
        "colab": {
          "base_uri": "https://localhost:8080/"
        },
        "id": "AlCaUVx9EQUY",
        "outputId": "9afeb10f-dc1f-4bcd-f82a-b9c3c063a9cb"
      },
      "execution_count": null,
      "outputs": [
        {
          "output_type": "execute_result",
          "data": {
            "text/plain": [
              "0       False\n",
              "1       False\n",
              "2       False\n",
              "3       False\n",
              "4       False\n",
              "        ...  \n",
              "7038    False\n",
              "7039    False\n",
              "7040    False\n",
              "7041    False\n",
              "7042    False\n",
              "Length: 7043, dtype: bool"
            ]
          },
          "metadata": {},
          "execution_count": 20
        }
      ]
    },
    {
      "cell_type": "code",
      "source": [
        "df.drop_duplicates(inplace=True) # Here drop duplicate value.But in this dataset no duplicates value."
      ],
      "metadata": {
        "id": "pdWeHLcmEQQD"
      },
      "execution_count": null,
      "outputs": []
    },
    {
      "cell_type": "code",
      "source": [
        "df.shape"
      ],
      "metadata": {
        "colab": {
          "base_uri": "https://localhost:8080/"
        },
        "id": "B8JGfO_JEQL_",
        "outputId": "77c06c57-8516-4780-8144-e77cfab4b4b7"
      },
      "execution_count": null,
      "outputs": [
        {
          "output_type": "execute_result",
          "data": {
            "text/plain": [
              "(7043, 21)"
            ]
          },
          "metadata": {},
          "execution_count": 22
        }
      ]
    },
    {
      "cell_type": "markdown",
      "source": [
        "# **Basic Visualization using seaborn Library**"
      ],
      "metadata": {
        "id": "ENIeun_qXT3w"
      }
    },
    {
      "cell_type": "code",
      "source": [
        "sns.countplot(y=\"gender\",hue=\"Churn\",data=df)"
      ],
      "metadata": {
        "colab": {
          "base_uri": "https://localhost:8080/",
          "height": 466
        },
        "id": "2bsN3llIEQIH",
        "outputId": "49f2649c-d0cc-4789-99ca-dc2d18fdb4f0"
      },
      "execution_count": null,
      "outputs": [
        {
          "output_type": "execute_result",
          "data": {
            "text/plain": [
              "<Axes: xlabel='count', ylabel='gender'>"
            ]
          },
          "metadata": {},
          "execution_count": 23
        },
        {
          "output_type": "display_data",
          "data": {
            "text/plain": [
              "<Figure size 640x480 with 1 Axes>"
            ],
            "image/png": "[encoded data removed]"
          },
          "metadata": {}
        }
      ]
    },
    {
      "cell_type": "code",
      "source": [
        "sns.countplot(x=\"gender\",hue=\"Churn\",data=df)"
      ],
      "metadata": {
        "colab": {
          "base_uri": "https://localhost:8080/",
          "height": 466
        },
        "id": "Kb6Cp2LMEQEL",
        "outputId": "d2bf358b-0307-4c53-ca99-a721a8225173"
      },
      "execution_count": null,
      "outputs": [
        {
          "output_type": "execute_result",
          "data": {
            "text/plain": [
              "<Axes: xlabel='gender', ylabel='count'>"
            ]
          },
          "metadata": {},
          "execution_count": 24
        },
        {
          "output_type": "display_data",
          "data": {
            "text/plain": [
              "<Figure size 640x480 with 1 Axes>"
            ],
            "image/png": "[encoded data removed]"
          },
          "metadata": {}
        }
      ]
    },
    {
      "cell_type": "code",
      "source": [
        "sns.countplot(x=df[\"SeniorCitizen\"],hue=\"Churn\",data=df)"
      ],
      "metadata": {
        "colab": {
          "base_uri": "https://localhost:8080/",
          "height": 466
        },
        "id": "L6YWfJ48EP8l",
        "outputId": "6b6dcfbd-67b0-49cc-9297-2099f889415a"
      },
      "execution_count": null,
      "outputs": [
        {
          "output_type": "execute_result",
          "data": {
            "text/plain": [
              "<Axes: xlabel='SeniorCitizen', ylabel='count'>"
            ]
          },
          "metadata": {},
          "execution_count": 25
        },
        {
          "output_type": "display_data",
          "data": {
            "text/plain": [
              "<Figure size 640x480 with 1 Axes>"
            ],
            "image/png": "[encoded data removed]"
          },
          "metadata": {}
        }
      ]
    },
    {
      "cell_type": "code",
      "source": [
        "sns.countplot(x=df['Partner'],hue=\"Churn\",data=df)"
      ],
      "metadata": {
        "colab": {
          "base_uri": "https://localhost:8080/",
          "height": 466
        },
        "id": "xRsEMq_ZEP1W",
        "outputId": "e9290336-c527-40e4-d4a1-708bd63074b5"
      },
      "execution_count": null,
      "outputs": [
        {
          "output_type": "execute_result",
          "data": {
            "text/plain": [
              "<Axes: xlabel='Partner', ylabel='count'>"
            ]
          },
          "metadata": {},
          "execution_count": 26
        },
        {
          "output_type": "display_data",
          "data": {
            "text/plain": [
              "<Figure size 640x480 with 1 Axes>"
            ],
            "image/png": "[encoded data removed]"
          },
          "metadata": {}
        }
      ]
    },
    {
      "cell_type": "code",
      "source": [
        "sns.countplot(x=df['Dependents'],hue=\"Churn\",data=df)"
      ],
      "metadata": {
        "colab": {
          "base_uri": "https://localhost:8080/",
          "height": 466
        },
        "id": "kZ3p9aagEPxn",
        "outputId": "652df50b-4f92-47e2-f144-8ac345b48894"
      },
      "execution_count": null,
      "outputs": [
        {
          "output_type": "execute_result",
          "data": {
            "text/plain": [
              "<Axes: xlabel='Dependents', ylabel='count'>"
            ]
          },
          "metadata": {},
          "execution_count": 27
        },
        {
          "output_type": "display_data",
          "data": {
            "text/plain": [
              "<Figure size 640x480 with 1 Axes>"
            ],
            "image/png": "[encoded data removed]"
          },
          "metadata": {}
        }
      ]
    },
    {
      "cell_type": "code",
      "source": [
        "sns.countplot(x=df['tenure'],hue=\"Churn\",data=df)"
      ],
      "metadata": {
        "colab": {
          "base_uri": "https://localhost:8080/",
          "height": 466
        },
        "id": "kWIZldSUEPtT",
        "outputId": "669ca14f-92e3-4d8b-88d5-89987b54ea8b"
      },
      "execution_count": null,
      "outputs": [
        {
          "output_type": "execute_result",
          "data": {
            "text/plain": [
              "<Axes: xlabel='tenure', ylabel='count'>"
            ]
          },
          "metadata": {},
          "execution_count": 28
        },
        {
          "output_type": "display_data",
          "data": {
            "text/plain": [
              "<Figure size 640x480 with 1 Axes>"
            ],
            "image/png": "[encoded data removed]"
          },
          "metadata": {}
        }
      ]
    },
    {
      "cell_type": "code",
      "source": [
        "sns.countplot(x=df['tenure'],hue=\"Churn\",data=df)"
      ],
      "metadata": {
        "colab": {
          "base_uri": "https://localhost:8080/",
          "height": 466
        },
        "id": "B69RBlPOEPL8",
        "outputId": "616fb6f1-ecaa-4c07-c7ec-e7e96fbf297c"
      },
      "execution_count": null,
      "outputs": [
        {
          "output_type": "execute_result",
          "data": {
            "text/plain": [
              "<Axes: xlabel='tenure', ylabel='count'>"
            ]
          },
          "metadata": {},
          "execution_count": 29
        },
        {
          "output_type": "display_data",
          "data": {
            "text/plain": [
              "<Figure size 640x480 with 1 Axes>"
            ],
            "image/png": "[encoded data removed]"
          },
          "metadata": {}
        }
      ]
    },
    {
      "cell_type": "code",
      "source": [
        "sns.countplot(x=df['MultipleLines'],hue=\"Churn\",data=df)"
      ],
      "metadata": {
        "colab": {
          "base_uri": "https://localhost:8080/",
          "height": 466
        },
        "id": "5hAJeGcnEPHj",
        "outputId": "87c2fd57-c08b-4bd5-f008-233ea893f53c"
      },
      "execution_count": null,
      "outputs": [
        {
          "output_type": "execute_result",
          "data": {
            "text/plain": [
              "<Axes: xlabel='MultipleLines', ylabel='count'>"
            ]
          },
          "metadata": {},
          "execution_count": 30
        },
        {
          "output_type": "display_data",
          "data": {
            "text/plain": [
              "<Figure size 640x480 with 1 Axes>"
            ],
            "image/png": "[encoded data removed]"
          },
          "metadata": {}
        }
      ]
    },
    {
      "cell_type": "code",
      "source": [
        "sns.countplot(x=df['InternetService'],hue=\"Churn\",data=df)"
      ],
      "metadata": {
        "colab": {
          "base_uri": "https://localhost:8080/",
          "height": 466
        },
        "id": "VIRM1qv_EPD-",
        "outputId": "8cac9c41-8833-4698-dc38-938b296ec774"
      },
      "execution_count": null,
      "outputs": [
        {
          "output_type": "execute_result",
          "data": {
            "text/plain": [
              "<Axes: xlabel='InternetService', ylabel='count'>"
            ]
          },
          "metadata": {},
          "execution_count": 31
        },
        {
          "output_type": "display_data",
          "data": {
            "text/plain": [
              "<Figure size 640x480 with 1 Axes>"
            ],
            "image/png": "[encoded data removed]"
          },
          "metadata": {}
        }
      ]
    },
    {
      "cell_type": "code",
      "source": [
        "sns.countplot(x=df['OnlineSecurity'],hue=\"Churn\",data=df)"
      ],
      "metadata": {
        "colab": {
          "base_uri": "https://localhost:8080/",
          "height": 466
        },
        "id": "xSHKCpFgEPAg",
        "outputId": "68437a65-9d9c-49f0-8fbf-3d85ad4d7ec2"
      },
      "execution_count": null,
      "outputs": [
        {
          "output_type": "execute_result",
          "data": {
            "text/plain": [
              "<Axes: xlabel='OnlineSecurity', ylabel='count'>"
            ]
          },
          "metadata": {},
          "execution_count": 32
        },
        {
          "output_type": "display_data",
          "data": {
            "text/plain": [
              "<Figure size 640x480 with 1 Axes>"
            ],
            "image/png": "[encoded data removed]"
          },
          "metadata": {}
        }
      ]
    },
    {
      "cell_type": "code",
      "source": [
        "sns.countplot(x=df['DeviceProtection'],hue=\"Churn\",data=df)"
      ],
      "metadata": {
        "colab": {
          "base_uri": "https://localhost:8080/",
          "height": 466
        },
        "id": "XTsD7qpIEO8L",
        "outputId": "ce75eabe-5920-494a-9914-0757f4c64fb4"
      },
      "execution_count": null,
      "outputs": [
        {
          "output_type": "execute_result",
          "data": {
            "text/plain": [
              "<Axes: xlabel='DeviceProtection', ylabel='count'>"
            ]
          },
          "metadata": {},
          "execution_count": 33
        },
        {
          "output_type": "display_data",
          "data": {
            "text/plain": [
              "<Figure size 640x480 with 1 Axes>"
            ],
            "image/png": "[encoded data removed]"
          },
          "metadata": {}
        }
      ]
    },
    {
      "cell_type": "code",
      "source": [
        "sns.countplot(x=df['TechSupport'],hue=\"Churn\",data=df)"
      ],
      "metadata": {
        "colab": {
          "base_uri": "https://localhost:8080/",
          "height": 466
        },
        "id": "0OXGn7ycEO4D",
        "outputId": "775eaeaf-294f-41b9-cdf6-a8fc1c58291e"
      },
      "execution_count": null,
      "outputs": [
        {
          "output_type": "execute_result",
          "data": {
            "text/plain": [
              "<Axes: xlabel='TechSupport', ylabel='count'>"
            ]
          },
          "metadata": {},
          "execution_count": 34
        },
        {
          "output_type": "display_data",
          "data": {
            "text/plain": [
              "<Figure size 640x480 with 1 Axes>"
            ],
            "image/png": "[encoded data removed]"
          },
          "metadata": {}
        }
      ]
    },
    {
      "cell_type": "code",
      "source": [
        "sns.countplot(x=df['StreamingTV'],hue=\"Churn\",data=df)"
      ],
      "metadata": {
        "colab": {
          "base_uri": "https://localhost:8080/",
          "height": 466
        },
        "id": "ZF4PamEFEOzz",
        "outputId": "1373e7ce-4da3-461f-92d5-0eae8fd21b9f"
      },
      "execution_count": null,
      "outputs": [
        {
          "output_type": "execute_result",
          "data": {
            "text/plain": [
              "<Axes: xlabel='StreamingTV', ylabel='count'>"
            ]
          },
          "metadata": {},
          "execution_count": 35
        },
        {
          "output_type": "display_data",
          "data": {
            "text/plain": [
              "<Figure size 640x480 with 1 Axes>"
            ],
            "image/png": "[encoded data removed]"
          },
          "metadata": {}
        }
      ]
    },
    {
      "cell_type": "code",
      "source": [
        "sns.countplot(x=df['StreamingMovies'],hue=\"Churn\",data=df)"
      ],
      "metadata": {
        "colab": {
          "base_uri": "https://localhost:8080/",
          "height": 470
        },
        "id": "KZlqrSKWEOv7",
        "outputId": "7ec50828-a077-4cdf-d2e5-0f937bbc5a96"
      },
      "execution_count": null,
      "outputs": [
        {
          "output_type": "execute_result",
          "data": {
            "text/plain": [
              "<Axes: xlabel='StreamingMovies', ylabel='count'>"
            ]
          },
          "metadata": {},
          "execution_count": 36
        },
        {
          "output_type": "display_data",
          "data": {
            "text/plain": [
              "<Figure size 640x480 with 1 Axes>"
            ],
            "image/png": "[encoded data removed]"
          },
          "metadata": {}
        }
      ]
    },
    {
      "cell_type": "code",
      "source": [
        "sns.countplot(x=df['Contract'],hue=\"Churn\",data=df)"
      ],
      "metadata": {
        "colab": {
          "base_uri": "https://localhost:8080/",
          "height": 466
        },
        "id": "TPguNb5CEOsk",
        "outputId": "97658595-478f-4cb2-df92-07a13d67a799"
      },
      "execution_count": null,
      "outputs": [
        {
          "output_type": "execute_result",
          "data": {
            "text/plain": [
              "<Axes: xlabel='Contract', ylabel='count'>"
            ]
          },
          "metadata": {},
          "execution_count": 37
        },
        {
          "output_type": "display_data",
          "data": {
            "text/plain": [
              "<Figure size 640x480 with 1 Axes>"
            ],
            "image/png": "[encoded data removed]"
          },
          "metadata": {}
        }
      ]
    },
    {
      "cell_type": "code",
      "source": [
        "sns.countplot(x=df['PaperlessBilling'],hue=\"Churn\",data=df)"
      ],
      "metadata": {
        "colab": {
          "base_uri": "https://localhost:8080/",
          "height": 466
        },
        "id": "eqVZOfQBEOnz",
        "outputId": "07fb8083-209f-444d-9756-2485cff96249"
      },
      "execution_count": null,
      "outputs": [
        {
          "output_type": "execute_result",
          "data": {
            "text/plain": [
              "<Axes: xlabel='PaperlessBilling', ylabel='count'>"
            ]
          },
          "metadata": {},
          "execution_count": 38
        },
        {
          "output_type": "display_data",
          "data": {
            "text/plain": [
              "<Figure size 640x480 with 1 Axes>"
            ],
            "image/png": "[encoded data removed]"
          },
          "metadata": {}
        }
      ]
    },
    {
      "cell_type": "code",
      "source": [
        "sns.countplot(y=df['PaymentMethod'],hue=\"Churn\",data=df)"
      ],
      "metadata": {
        "colab": {
          "base_uri": "https://localhost:8080/",
          "height": 466
        },
        "id": "egDBFq2fEOCs",
        "outputId": "2d8f6a69-27c7-4a1d-9c70-635cc091bdf7"
      },
      "execution_count": null,
      "outputs": [
        {
          "output_type": "execute_result",
          "data": {
            "text/plain": [
              "<Axes: xlabel='count', ylabel='PaymentMethod'>"
            ]
          },
          "metadata": {},
          "execution_count": 39
        },
        {
          "output_type": "display_data",
          "data": {
            "text/plain": [
              "<Figure size 640x480 with 1 Axes>"
            ],
            "image/png": "[encoded data removed]"
          },
          "metadata": {}
        }
      ]
    },
    {
      "cell_type": "markdown",
      "source": [
        "# **Preprocess The Dataset**"
      ],
      "metadata": {
        "id": "ibamZiU-bdhG"
      }
    },
    {
      "cell_type": "code",
      "source": [
        "#Drop the customer ID\n",
        "df=df.drop(\"customerID\",axis=1)"
      ],
      "metadata": {
        "id": "SkSYNsX1a86a"
      },
      "execution_count": null,
      "outputs": []
    },
    {
      "cell_type": "code",
      "source": [
        "df.shape"
      ],
      "metadata": {
        "colab": {
          "base_uri": "https://localhost:8080/"
        },
        "id": "hECGjd1oa825",
        "outputId": "46ad690a-05d9-4244-cc02-e51fc88393b4"
      },
      "execution_count": null,
      "outputs": [
        {
          "output_type": "execute_result",
          "data": {
            "text/plain": [
              "(7043, 20)"
            ]
          },
          "metadata": {},
          "execution_count": 41
        }
      ]
    },
    {
      "cell_type": "code",
      "source": [
        "df.head()"
      ],
      "metadata": {
        "colab": {
          "base_uri": "https://localhost:8080/",
          "height": 296
        },
        "id": "41cnWLr7a8zS",
        "outputId": "02bd1a79-7108-435a-af30-03047d426cf4"
      },
      "execution_count": null,
      "outputs": [
        {
          "output_type": "execute_result",
          "data": {
            "text/plain": [
              "   gender  SeniorCitizen Partner Dependents  tenure PhoneService  \\\n",
              "0  Female              0     Yes         No       1           No   \n",
              "1    Male              0      No         No      34          Yes   \n",
              "2    Male              0      No         No       2          Yes   \n",
              "3    Male              0      No         No      45           No   \n",
              "4  Female              0      No         No       2          Yes   \n",
              "\n",
              "      MultipleLines InternetService OnlineSecurity OnlineBackup  \\\n",
              "0  No phone service             DSL             No          Yes   \n",
              "1                No             DSL            Yes           No   \n",
              "2                No             DSL            Yes          Yes   \n",
              "3  No phone service             DSL            Yes           No   \n",
              "4                No     Fiber optic             No           No   \n",
              "\n",
              "  DeviceProtection TechSupport StreamingTV StreamingMovies        Contract  \\\n",
              "0               No          No          No              No  Month-to-month   \n",
              "1              Yes          No          No              No        One year   \n",
              "2               No          No          No              No  Month-to-month   \n",
              "3              Yes         Yes          No              No        One year   \n",
              "4               No          No          No              No  Month-to-month   \n",
              "\n",
              "  PaperlessBilling              PaymentMethod  MonthlyCharges TotalCharges  \\\n",
              "0              Yes           Electronic check           29.85        29.85   \n",
              "1               No               Mailed check           56.95       1889.5   \n",
              "2              Yes               Mailed check           53.85       108.15   \n",
              "3               No  Bank transfer (automatic)           42.30      1840.75   \n",
              "4              Yes           Electronic check           70.70       151.65   \n",
              "\n",
              "  Churn  \n",
              "0    No  \n",
              "1    No  \n",
              "2   Yes  \n",
              "3    No  \n",
              "4   Yes  "
            ],
            "text/html": [
              "\n",
              "  <div id=\"df-6637fd55-bd28-4ae6-b41b-8b943dbec83b\" class=\"colab-df-container\">\n",
              "    <div>\n",
              "<style scoped>\n",
              "    .dataframe tbody tr th:only-of-type {\n",
              "        vertical-align: middle;\n",
              "    }\n",
              "\n",
              "    .dataframe tbody tr th {\n",
              "        vertical-align: top;\n",
              "    }\n",
              "\n",
              "    .dataframe thead th {\n",
              "        text-align: right;\n",
              "    }\n",
              "</style>\n",
              "<table border=\"1\" class=\"dataframe\">\n",
              "  <thead>\n",
              "    <tr style=\"text-align: right;\">\n",
              "      <th></th>\n",
              "      <th>gender</th>\n",
              "      <th>SeniorCitizen</th>\n",
              "      <th>Partner</th>\n",
              "      <th>Dependents</th>\n",
              "      <th>tenure</th>\n",
              "      <th>PhoneService</th>\n",
              "      <th>MultipleLines</th>\n",
              "      <th>InternetService</th>\n",
              "      <th>OnlineSecurity</th>\n",
              "      <th>OnlineBackup</th>\n",
              "      <th>DeviceProtection</th>\n",
              "      <th>TechSupport</th>\n",
              "      <th>StreamingTV</th>\n",
              "      <th>StreamingMovies</th>\n",
              "      <th>Contract</th>\n",
              "      <th>PaperlessBilling</th>\n",
              "      <th>PaymentMethod</th>\n",
              "      <th>MonthlyCharges</th>\n",
              "      <th>TotalCharges</th>\n",
              "      <th>Churn</th>\n",
              "    </tr>\n",
              "  </thead>\n",
              "  <tbody>\n",
              "    <tr>\n",
              "      <th>0</th>\n",
              "      <td>Female</td>\n",
              "      <td>0</td>\n",
              "      <td>Yes</td>\n",
              "      <td>No</td>\n",
              "      <td>1</td>\n",
              "      <td>No</td>\n",
              "      <td>No phone service</td>\n",
              "      <td>DSL</td>\n",
              "      <td>No</td>\n",
              "      <td>Yes</td>\n",
              "      <td>No</td>\n",
              "      <td>No</td>\n",
              "      <td>No</td>\n",
              "      <td>No</td>\n",
              "      <td>Month-to-month</td>\n",
              "      <td>Yes</td>\n",
              "      <td>Electronic check</td>\n",
              "      <td>29.85</td>\n",
              "      <td>29.85</td>\n",
              "      <td>No</td>\n",
              "    </tr>\n",
              "    <tr>\n",
              "      <th>1</th>\n",
              "      <td>Male</td>\n",
              "      <td>0</td>\n",
              "      <td>No</td>\n",
              "      <td>No</td>\n",
              "      <td>34</td>\n",
              "      <td>Yes</td>\n",
              "      <td>No</td>\n",
              "      <td>DSL</td>\n",
              "      <td>Yes</td>\n",
              "      <td>No</td>\n",
              "      <td>Yes</td>\n",
              "      <td>No</td>\n",
              "      <td>No</td>\n",
              "      <td>No</td>\n",
              "      <td>One year</td>\n",
              "      <td>No</td>\n",
              "      <td>Mailed check</td>\n",
              "      <td>56.95</td>\n",
              "      <td>1889.5</td>\n",
              "      <td>No</td>\n",
              "    </tr>\n",
              "    <tr>\n",
              "      <th>2</th>\n",
              "      <td>Male</td>\n",
              "      <td>0</td>\n",
              "      <td>No</td>\n",
              "      <td>No</td>\n",
              "      <td>2</td>\n",
              "      <td>Yes</td>\n",
              "      <td>No</td>\n",
              "      <td>DSL</td>\n",
              "      <td>Yes</td>\n",
              "      <td>Yes</td>\n",
              "      <td>No</td>\n",
              "      <td>No</td>\n",
              "      <td>No</td>\n",
              "      <td>No</td>\n",
              "      <td>Month-to-month</td>\n",
              "      <td>Yes</td>\n",
              "      <td>Mailed check</td>\n",
              "      <td>53.85</td>\n",
              "      <td>108.15</td>\n",
              "      <td>Yes</td>\n",
              "    </tr>\n",
              "    <tr>\n",
              "      <th>3</th>\n",
              "      <td>Male</td>\n",
              "      <td>0</td>\n",
              "      <td>No</td>\n",
              "      <td>No</td>\n",
              "      <td>45</td>\n",
              "      <td>No</td>\n",
              "      <td>No phone service</td>\n",
              "      <td>DSL</td>\n",
              "      <td>Yes</td>\n",
              "      <td>No</td>\n",
              "      <td>Yes</td>\n",
              "      <td>Yes</td>\n",
              "      <td>No</td>\n",
              "      <td>No</td>\n",
              "      <td>One year</td>\n",
              "      <td>No</td>\n",
              "      <td>Bank transfer (automatic)</td>\n",
              "      <td>42.30</td>\n",
              "      <td>1840.75</td>\n",
              "      <td>No</td>\n",
              "    </tr>\n",
              "    <tr>\n",
              "      <th>4</th>\n",
              "      <td>Female</td>\n",
              "      <td>0</td>\n",
              "      <td>No</td>\n",
              "      <td>No</td>\n",
              "      <td>2</td>\n",
              "      <td>Yes</td>\n",
              "      <td>No</td>\n",
              "      <td>Fiber optic</td>\n",
              "      <td>No</td>\n",
              "      <td>No</td>\n",
              "      <td>No</td>\n",
              "      <td>No</td>\n",
              "      <td>No</td>\n",
              "      <td>No</td>\n",
              "      <td>Month-to-month</td>\n",
              "      <td>Yes</td>\n",
              "      <td>Electronic check</td>\n",
              "      <td>70.70</td>\n",
              "      <td>151.65</td>\n",
              "      <td>Yes</td>\n",
              "    </tr>\n",
              "  </tbody>\n",
              "</table>\n",
              "</div>\n",
              "    <div class=\"colab-df-buttons\">\n",
              "\n",
              "  <div class=\"colab-df-container\">\n",
              "    <button class=\"colab-df-convert\" onclick=\"convertToInteractive('df-6637fd55-bd28-4ae6-b41b-8b943dbec83b')\"\n",
              "            title=\"Convert this dataframe to an interactive table.\"\n",
              "            style=\"display:none;\">\n",
              "\n",
              "  <svg xmlns=\"http://www.w3.org/2000/svg\" height=\"24px\" viewBox=\"0 -960 960 960\">\n",
              "    <path d=\"M120-120v-720h720v720H120Zm60-500h600v-160H180v160Zm220 220h160v-160H400v160Zm0 220h160v-160H400v160ZM180-400h160v-160H180v160Zm440 0h160v-160H620v160ZM180-180h160v-160H180v160Zm440 0h160v-160H620v160Z\"/>\n",
              "  </svg>\n",
              "    </button>\n",
              "\n",
              "  <style>\n",
              "    .colab-df-container {\n",
              "      display:flex;\n",
              "      gap: 12px;\n",
              "    }\n",
              "\n",
              "    .colab-df-convert {\n",
              "      background-color: #E8F0FE;\n",
              "      border: none;\n",
              "      border-radius: 50%;\n",
              "      cursor: pointer;\n",
              "      display: none;\n",
              "      fill: #1967D2;\n",
              "      height: 32px;\n",
              "      padding: 0 0 0 0;\n",
              "      width: 32px;\n",
              "    }\n",
              "\n",
              "    .colab-df-convert:hover {\n",
              "      background-color: #E2EBFA;\n",
              "      box-shadow: 0px 1px 2px rgba(60, 64, 67, 0.3), 0px 1px 3px 1px rgba(60, 64, 67, 0.15);\n",
              "      fill: #174EA6;\n",
              "    }\n",
              "\n",
              "    .colab-df-buttons div {\n",
              "      margin-bottom: 4px;\n",
              "    }\n",
              "\n",
              "    [theme=dark] .colab-df-convert {\n",
              "      background-color: #3B4455;\n",
              "      fill: #D2E3FC;\n",
              "    }\n",
              "\n",
              "    [theme=dark] .colab-df-convert:hover {\n",
              "      background-color: #434B5C;\n",
              "      box-shadow: 0px 1px 3px 1px rgba(0, 0, 0, 0.15);\n",
              "      filter: drop-shadow(0px 1px 2px rgba(0, 0, 0, 0.3));\n",
              "      fill: #FFFFFF;\n",
              "    }\n",
              "  </style>\n",
              "\n",
              "    <script>\n",
              "      const buttonEl =\n",
              "        document.querySelector('#df-6637fd55-bd28-4ae6-b41b-8b943dbec83b button.colab-df-convert');\n",
              "      buttonEl.style.display =\n",
              "        google.colab.kernel.accessAllowed ? 'block' : 'none';\n",
              "\n",
              "      async function convertToInteractive(key) {\n",
              "        const element = document.querySelector('#df-6637fd55-bd28-4ae6-b41b-8b943dbec83b');\n",
              "        const dataTable =\n",
              "          await google.colab.kernel.invokeFunction('convertToInteractive',\n",
              "                                                    [key], {});\n",
              "        if (!dataTable) return;\n",
              "\n",
              "        const docLinkHtml = 'Like what you see? Visit the ' +\n",
              "          '<a target=\"_blank\" href=https://colab.research.google.com/notebooks/data_table.ipynb>data table notebook</a>'\n",
              "          + ' to learn more about interactive tables.';\n",
              "        element.innerHTML = '';\n",
              "        dataTable['output_type'] = 'display_data';\n",
              "        await google.colab.output.renderOutput(dataTable, element);\n",
              "        const docLink = document.createElement('div');\n",
              "        docLink.innerHTML = docLinkHtml;\n",
              "        element.appendChild(docLink);\n",
              "      }\n",
              "    </script>\n",
              "  </div>\n",
              "\n",
              "\n",
              "<div id=\"df-f5b89722-0f6a-40a0-a9a8-ffe073dd151d\">\n",
              "  <button class=\"colab-df-quickchart\" onclick=\"quickchart('df-f5b89722-0f6a-40a0-a9a8-ffe073dd151d')\"\n",
              "            title=\"Suggest charts.\"\n",
              "            style=\"display:none;\">\n",
              "\n",
              "<svg xmlns=\"http://www.w3.org/2000/svg\" height=\"24px\"viewBox=\"0 0 24 24\"\n",
              "     width=\"24px\">\n",
              "    <g>\n",
              "        <path d=\"M19 3H5c-1.1 0-2 .9-2 2v14c0 1.1.9 2 2 2h14c1.1 0 2-.9 2-2V5c0-1.1-.9-2-2-2zM9 17H7v-7h2v7zm4 0h-2V7h2v10zm4 0h-2v-4h2v4z\"/>\n",
              "    </g>\n",
              "</svg>\n",
              "  </button>\n",
              "\n",
              "<style>\n",
              "  .colab-df-quickchart {\n",
              "      --bg-color: #E8F0FE;\n",
              "      --fill-color: #1967D2;\n",
              "      --hover-bg-color: #E2EBFA;\n",
              "      --hover-fill-color: #174EA6;\n",
              "      --disabled-fill-color: #AAA;\n",
              "      --disabled-bg-color: #DDD;\n",
              "  }\n",
              "\n",
              "  [theme=dark] .colab-df-quickchart {\n",
              "      --bg-color: #3B4455;\n",
              "      --fill-color: #D2E3FC;\n",
              "      --hover-bg-color: #434B5C;\n",
              "      --hover-fill-color: #FFFFFF;\n",
              "      --disabled-bg-color: #3B4455;\n",
              "      --disabled-fill-color: #666;\n",
              "  }\n",
              "\n",
              "  .colab-df-quickchart {\n",
              "    background-color: var(--bg-color);\n",
              "    border: none;\n",
              "    border-radius: 50%;\n",
              "    cursor: pointer;\n",
              "    display: none;\n",
              "    fill: var(--fill-color);\n",
              "    height: 32px;\n",
              "    padding: 0;\n",
              "    width: 32px;\n",
              "  }\n",
              "\n",
              "  .colab-df-quickchart:hover {\n",
              "    background-color: var(--hover-bg-color);\n",
              "    box-shadow: 0 1px 2px rgba(60, 64, 67, 0.3), 0 1px 3px 1px rgba(60, 64, 67, 0.15);\n",
              "    fill: var(--button-hover-fill-color);\n",
              "  }\n",
              "\n",
              "  .colab-df-quickchart-complete:disabled,\n",
              "  .colab-df-quickchart-complete:disabled:hover {\n",
              "    background-color: var(--disabled-bg-color);\n",
              "    fill: var(--disabled-fill-color);\n",
              "    box-shadow: none;\n",
              "  }\n",
              "\n",
              "  .colab-df-spinner {\n",
              "    border: 2px solid var(--fill-color);\n",
              "    border-color: transparent;\n",
              "    border-bottom-color: var(--fill-color);\n",
              "    animation:\n",
              "      spin 1s steps(1) infinite;\n",
              "  }\n",
              "\n",
              "  @keyframes spin {\n",
              "    0% {\n",
              "      border-color: transparent;\n",
              "      border-bottom-color: var(--fill-color);\n",
              "      border-left-color: var(--fill-color);\n",
              "    }\n",
              "    20% {\n",
              "      border-color: transparent;\n",
              "      border-left-color: var(--fill-color);\n",
              "      border-top-color: var(--fill-color);\n",
              "    }\n",
              "    30% {\n",
              "      border-color: transparent;\n",
              "      border-left-color: var(--fill-color);\n",
              "      border-top-color: var(--fill-color);\n",
              "      border-right-color: var(--fill-color);\n",
              "    }\n",
              "    40% {\n",
              "      border-color: transparent;\n",
              "      border-right-color: var(--fill-color);\n",
              "      border-top-color: var(--fill-color);\n",
              "    }\n",
              "    60% {\n",
              "      border-color: transparent;\n",
              "      border-right-color: var(--fill-color);\n",
              "    }\n",
              "    80% {\n",
              "      border-color: transparent;\n",
              "      border-right-color: var(--fill-color);\n",
              "      border-bottom-color: var(--fill-color);\n",
              "    }\n",
              "    90% {\n",
              "      border-color: transparent;\n",
              "      border-bottom-color: var(--fill-color);\n",
              "    }\n",
              "  }\n",
              "</style>\n",
              "\n",
              "  <script>\n",
              "    async function quickchart(key) {\n",
              "      const quickchartButtonEl =\n",
              "        document.querySelector('#' + key + ' button');\n",
              "      quickchartButtonEl.disabled = true;  // To prevent multiple clicks.\n",
              "      quickchartButtonEl.classList.add('colab-df-spinner');\n",
              "      try {\n",
              "        const charts = await google.colab.kernel.invokeFunction(\n",
              "            'suggestCharts', [key], {});\n",
              "      } catch (error) {\n",
              "        console.error('Error during call to suggestCharts:', error);\n",
              "      }\n",
              "      quickchartButtonEl.classList.remove('colab-df-spinner');\n",
              "      quickchartButtonEl.classList.add('colab-df-quickchart-complete');\n",
              "    }\n",
              "    (() => {\n",
              "      let quickchartButtonEl =\n",
              "        document.querySelector('#df-f5b89722-0f6a-40a0-a9a8-ffe073dd151d button');\n",
              "      quickchartButtonEl.style.display =\n",
              "        google.colab.kernel.accessAllowed ? 'block' : 'none';\n",
              "    })();\n",
              "  </script>\n",
              "</div>\n",
              "    </div>\n",
              "  </div>\n"
            ]
          },
          "metadata": {},
          "execution_count": 42
        }
      ]
    },
    {
      "cell_type": "markdown",
      "source": [
        "# **Encode the Dataset**"
      ],
      "metadata": {
        "id": "ktfvoJAJcfQW"
      }
    },
    {
      "cell_type": "code",
      "source": [
        "from sklearn.preprocessing import LabelEncoder"
      ],
      "metadata": {
        "id": "RFINwbFaa8v6"
      },
      "execution_count": null,
      "outputs": []
    },
    {
      "cell_type": "code",
      "source": [
        "L_encoder=LabelEncoder"
      ],
      "metadata": {
        "id": "5Y8emmGJa8sy"
      },
      "execution_count": null,
      "outputs": []
    },
    {
      "cell_type": "code",
      "source": [
        "df.columns"
      ],
      "metadata": {
        "colab": {
          "base_uri": "https://localhost:8080/"
        },
        "id": "xwSJH3kQa8pJ",
        "outputId": "170aaf35-0f3d-47ca-f054-4721c5f44d53"
      },
      "execution_count": null,
      "outputs": [
        {
          "output_type": "execute_result",
          "data": {
            "text/plain": [
              "Index(['gender', 'SeniorCitizen', 'Partner', 'Dependents', 'tenure',\n",
              "       'PhoneService', 'MultipleLines', 'InternetService', 'OnlineSecurity',\n",
              "       'OnlineBackup', 'DeviceProtection', 'TechSupport', 'StreamingTV',\n",
              "       'StreamingMovies', 'Contract', 'PaperlessBilling', 'PaymentMethod',\n",
              "       'MonthlyCharges', 'TotalCharges', 'Churn'],\n",
              "      dtype='object')"
            ]
          },
          "metadata": {},
          "execution_count": 45
        }
      ]
    },
    {
      "cell_type": "code",
      "source": [
        "from pandas.core.dtypes.common import is_numeric_dtype\n"
      ],
      "metadata": {
        "id": "h9pdMghRa8j-"
      },
      "execution_count": null,
      "outputs": []
    },
    {
      "cell_type": "code",
      "source": [
        "from sklearn import preprocessing\n",
        "le = preprocessing.LabelEncoder()\n",
        "\n",
        "import pandas as pd\n",
        "from pandas.api.types import is_numeric_dtype\n",
        "\n",
        "\n",
        "for column in df.columns:\n",
        "\n",
        "    f=(is_numeric_dtype(df[column]))\n",
        "\n",
        "\n",
        "    if f==False:\n",
        "\n",
        "        data=df[column]\n",
        "\n",
        "        df[column]= le.fit_transform(data)"
      ],
      "metadata": {
        "id": "jMu4Yx7Va8OD"
      },
      "execution_count": null,
      "outputs": []
    },
    {
      "cell_type": "code",
      "source": [
        "df.head()"
      ],
      "metadata": {
        "colab": {
          "base_uri": "https://localhost:8080/",
          "height": 226
        },
        "id": "17UlmYy3a8Jj",
        "outputId": "fdef4489-1937-4f9a-9d35-8cab1857f61d"
      },
      "execution_count": null,
      "outputs": [
        {
          "output_type": "execute_result",
          "data": {
            "text/plain": [
              "   gender  SeniorCitizen  Partner  Dependents  tenure  PhoneService  \\\n",
              "0       0              0        1           0       1             0   \n",
              "1       1              0        0           0      34             1   \n",
              "2       1              0        0           0       2             1   \n",
              "3       1              0        0           0      45             0   \n",
              "4       0              0        0           0       2             1   \n",
              "\n",
              "   MultipleLines  InternetService  OnlineSecurity  OnlineBackup  \\\n",
              "0              1                0               0             2   \n",
              "1              0                0               2             0   \n",
              "2              0                0               2             2   \n",
              "3              1                0               2             0   \n",
              "4              0                1               0             0   \n",
              "\n",
              "   DeviceProtection  TechSupport  StreamingTV  StreamingMovies  Contract  \\\n",
              "0                 0            0            0                0         0   \n",
              "1                 2            0            0                0         1   \n",
              "2                 0            0            0                0         0   \n",
              "3                 2            2            0                0         1   \n",
              "4                 0            0            0                0         0   \n",
              "\n",
              "   PaperlessBilling  PaymentMethod  MonthlyCharges  TotalCharges  Churn  \n",
              "0                 1              2           29.85          2505      0  \n",
              "1                 0              3           56.95          1466      0  \n",
              "2                 1              3           53.85           157      1  \n",
              "3                 0              0           42.30          1400      0  \n",
              "4                 1              2           70.70           925      1  "
            ],
            "text/html": [
              "\n",
              "  <div id=\"df-58a733f1-4cfa-4160-afc3-209336e2cc98\" class=\"colab-df-container\">\n",
              "    <div>\n",
              "<style scoped>\n",
              "    .dataframe tbody tr th:only-of-type {\n",
              "        vertical-align: middle;\n",
              "    }\n",
              "\n",
              "    .dataframe tbody tr th {\n",
              "        vertical-align: top;\n",
              "    }\n",
              "\n",
              "    .dataframe thead th {\n",
              "        text-align: right;\n",
              "    }\n",
              "</style>\n",
              "<table border=\"1\" class=\"dataframe\">\n",
              "  <thead>\n",
              "    <tr style=\"text-align: right;\">\n",
              "      <th></th>\n",
              "      <th>gender</th>\n",
              "      <th>SeniorCitizen</th>\n",
              "      <th>Partner</th>\n",
              "      <th>Dependents</th>\n",
              "      <th>tenure</th>\n",
              "      <th>PhoneService</th>\n",
              "      <th>MultipleLines</th>\n",
              "      <th>InternetService</th>\n",
              "      <th>OnlineSecurity</th>\n",
              "      <th>OnlineBackup</th>\n",
              "      <th>DeviceProtection</th>\n",
              "      <th>TechSupport</th>\n",
              "      <th>StreamingTV</th>\n",
              "      <th>StreamingMovies</th>\n",
              "      <th>Contract</th>\n",
              "      <th>PaperlessBilling</th>\n",
              "      <th>PaymentMethod</th>\n",
              "      <th>MonthlyCharges</th>\n",
              "      <th>TotalCharges</th>\n",
              "      <th>Churn</th>\n",
              "    </tr>\n",
              "  </thead>\n",
              "  <tbody>\n",
              "    <tr>\n",
              "      <th>0</th>\n",
              "      <td>0</td>\n",
              "      <td>0</td>\n",
              "      <td>1</td>\n",
              "      <td>0</td>\n",
              "      <td>1</td>\n",
              "      <td>0</td>\n",
              "      <td>1</td>\n",
              "      <td>0</td>\n",
              "      <td>0</td>\n",
              "      <td>2</td>\n",
              "      <td>0</td>\n",
              "      <td>0</td>\n",
              "      <td>0</td>\n",
              "      <td>0</td>\n",
              "      <td>0</td>\n",
              "      <td>1</td>\n",
              "      <td>2</td>\n",
              "      <td>29.85</td>\n",
              "      <td>2505</td>\n",
              "      <td>0</td>\n",
              "    </tr>\n",
              "    <tr>\n",
              "      <th>1</th>\n",
              "      <td>1</td>\n",
              "      <td>0</td>\n",
              "      <td>0</td>\n",
              "      <td>0</td>\n",
              "      <td>34</td>\n",
              "      <td>1</td>\n",
              "      <td>0</td>\n",
              "      <td>0</td>\n",
              "      <td>2</td>\n",
              "      <td>0</td>\n",
              "      <td>2</td>\n",
              "      <td>0</td>\n",
              "      <td>0</td>\n",
              "      <td>0</td>\n",
              "      <td>1</td>\n",
              "      <td>0</td>\n",
              "      <td>3</td>\n",
              "      <td>56.95</td>\n",
              "      <td>1466</td>\n",
              "      <td>0</td>\n",
              "    </tr>\n",
              "    <tr>\n",
              "      <th>2</th>\n",
              "      <td>1</td>\n",
              "      <td>0</td>\n",
              "      <td>0</td>\n",
              "      <td>0</td>\n",
              "      <td>2</td>\n",
              "      <td>1</td>\n",
              "      <td>0</td>\n",
              "      <td>0</td>\n",
              "      <td>2</td>\n",
              "      <td>2</td>\n",
              "      <td>0</td>\n",
              "      <td>0</td>\n",
              "      <td>0</td>\n",
              "      <td>0</td>\n",
              "      <td>0</td>\n",
              "      <td>1</td>\n",
              "      <td>3</td>\n",
              "      <td>53.85</td>\n",
              "      <td>157</td>\n",
              "      <td>1</td>\n",
              "    </tr>\n",
              "    <tr>\n",
              "      <th>3</th>\n",
              "      <td>1</td>\n",
              "      <td>0</td>\n",
              "      <td>0</td>\n",
              "      <td>0</td>\n",
              "      <td>45</td>\n",
              "      <td>0</td>\n",
              "      <td>1</td>\n",
              "      <td>0</td>\n",
              "      <td>2</td>\n",
              "      <td>0</td>\n",
              "      <td>2</td>\n",
              "      <td>2</td>\n",
              "      <td>0</td>\n",
              "      <td>0</td>\n",
              "      <td>1</td>\n",
              "      <td>0</td>\n",
              "      <td>0</td>\n",
              "      <td>42.30</td>\n",
              "      <td>1400</td>\n",
              "      <td>0</td>\n",
              "    </tr>\n",
              "    <tr>\n",
              "      <th>4</th>\n",
              "      <td>0</td>\n",
              "      <td>0</td>\n",
              "      <td>0</td>\n",
              "      <td>0</td>\n",
              "      <td>2</td>\n",
              "      <td>1</td>\n",
              "      <td>0</td>\n",
              "      <td>1</td>\n",
              "      <td>0</td>\n",
              "      <td>0</td>\n",
              "      <td>0</td>\n",
              "      <td>0</td>\n",
              "      <td>0</td>\n",
              "      <td>0</td>\n",
              "      <td>0</td>\n",
              "      <td>1</td>\n",
              "      <td>2</td>\n",
              "      <td>70.70</td>\n",
              "      <td>925</td>\n",
              "      <td>1</td>\n",
              "    </tr>\n",
              "  </tbody>\n",
              "</table>\n",
              "</div>\n",
              "    <div class=\"colab-df-buttons\">\n",
              "\n",
              "  <div class=\"colab-df-container\">\n",
              "    <button class=\"colab-df-convert\" onclick=\"convertToInteractive('df-58a733f1-4cfa-4160-afc3-209336e2cc98')\"\n",
              "            title=\"Convert this dataframe to an interactive table.\"\n",
              "            style=\"display:none;\">\n",
              "\n",
              "  <svg xmlns=\"http://www.w3.org/2000/svg\" height=\"24px\" viewBox=\"0 -960 960 960\">\n",
              "    <path d=\"M120-120v-720h720v720H120Zm60-500h600v-160H180v160Zm220 220h160v-160H400v160Zm0 220h160v-160H400v160ZM180-400h160v-160H180v160Zm440 0h160v-160H620v160ZM180-180h160v-160H180v160Zm440 0h160v-160H620v160Z\"/>\n",
              "  </svg>\n",
              "    </button>\n",
              "\n",
              "  <style>\n",
              "    .colab-df-container {\n",
              "      display:flex;\n",
              "      gap: 12px;\n",
              "    }\n",
              "\n",
              "    .colab-df-convert {\n",
              "      background-color: #E8F0FE;\n",
              "      border: none;\n",
              "      border-radius: 50%;\n",
              "      cursor: pointer;\n",
              "      display: none;\n",
              "      fill: #1967D2;\n",
              "      height: 32px;\n",
              "      padding: 0 0 0 0;\n",
              "      width: 32px;\n",
              "    }\n",
              "\n",
              "    .colab-df-convert:hover {\n",
              "      background-color: #E2EBFA;\n",
              "      box-shadow: 0px 1px 2px rgba(60, 64, 67, 0.3), 0px 1px 3px 1px rgba(60, 64, 67, 0.15);\n",
              "      fill: #174EA6;\n",
              "    }\n",
              "\n",
              "    .colab-df-buttons div {\n",
              "      margin-bottom: 4px;\n",
              "    }\n",
              "\n",
              "    [theme=dark] .colab-df-convert {\n",
              "      background-color: #3B4455;\n",
              "      fill: #D2E3FC;\n",
              "    }\n",
              "\n",
              "    [theme=dark] .colab-df-convert:hover {\n",
              "      background-color: #434B5C;\n",
              "      box-shadow: 0px 1px 3px 1px rgba(0, 0, 0, 0.15);\n",
              "      filter: drop-shadow(0px 1px 2px rgba(0, 0, 0, 0.3));\n",
              "      fill: #FFFFFF;\n",
              "    }\n",
              "  </style>\n",
              "\n",
              "    <script>\n",
              "      const buttonEl =\n",
              "        document.querySelector('#df-58a733f1-4cfa-4160-afc3-209336e2cc98 button.colab-df-convert');\n",
              "      buttonEl.style.display =\n",
              "        google.colab.kernel.accessAllowed ? 'block' : 'none';\n",
              "\n",
              "      async function convertToInteractive(key) {\n",
              "        const element = document.querySelector('#df-58a733f1-4cfa-4160-afc3-209336e2cc98');\n",
              "        const dataTable =\n",
              "          await google.colab.kernel.invokeFunction('convertToInteractive',\n",
              "                                                    [key], {});\n",
              "        if (!dataTable) return;\n",
              "\n",
              "        const docLinkHtml = 'Like what you see? Visit the ' +\n",
              "          '<a target=\"_blank\" href=https://colab.research.google.com/notebooks/data_table.ipynb>data table notebook</a>'\n",
              "          + ' to learn more about interactive tables.';\n",
              "        element.innerHTML = '';\n",
              "        dataTable['output_type'] = 'display_data';\n",
              "        await google.colab.output.renderOutput(dataTable, element);\n",
              "        const docLink = document.createElement('div');\n",
              "        docLink.innerHTML = docLinkHtml;\n",
              "        element.appendChild(docLink);\n",
              "      }\n",
              "    </script>\n",
              "  </div>\n",
              "\n",
              "\n",
              "<div id=\"df-36e4b4e3-7c76-405b-85b9-88a9339026f5\">\n",
              "  <button class=\"colab-df-quickchart\" onclick=\"quickchart('df-36e4b4e3-7c76-405b-85b9-88a9339026f5')\"\n",
              "            title=\"Suggest charts.\"\n",
              "            style=\"display:none;\">\n",
              "\n",
              "<svg xmlns=\"http://www.w3.org/2000/svg\" height=\"24px\"viewBox=\"0 0 24 24\"\n",
              "     width=\"24px\">\n",
              "    <g>\n",
              "        <path d=\"M19 3H5c-1.1 0-2 .9-2 2v14c0 1.1.9 2 2 2h14c1.1 0 2-.9 2-2V5c0-1.1-.9-2-2-2zM9 17H7v-7h2v7zm4 0h-2V7h2v10zm4 0h-2v-4h2v4z\"/>\n",
              "    </g>\n",
              "</svg>\n",
              "  </button>\n",
              "\n",
              "<style>\n",
              "  .colab-df-quickchart {\n",
              "      --bg-color: #E8F0FE;\n",
              "      --fill-color: #1967D2;\n",
              "      --hover-bg-color: #E2EBFA;\n",
              "      --hover-fill-color: #174EA6;\n",
              "      --disabled-fill-color: #AAA;\n",
              "      --disabled-bg-color: #DDD;\n",
              "  }\n",
              "\n",
              "  [theme=dark] .colab-df-quickchart {\n",
              "      --bg-color: #3B4455;\n",
              "      --fill-color: #D2E3FC;\n",
              "      --hover-bg-color: #434B5C;\n",
              "      --hover-fill-color: #FFFFFF;\n",
              "      --disabled-bg-color: #3B4455;\n",
              "      --disabled-fill-color: #666;\n",
              "  }\n",
              "\n",
              "  .colab-df-quickchart {\n",
              "    background-color: var(--bg-color);\n",
              "    border: none;\n",
              "    border-radius: 50%;\n",
              "    cursor: pointer;\n",
              "    display: none;\n",
              "    fill: var(--fill-color);\n",
              "    height: 32px;\n",
              "    padding: 0;\n",
              "    width: 32px;\n",
              "  }\n",
              "\n",
              "  .colab-df-quickchart:hover {\n",
              "    background-color: var(--hover-bg-color);\n",
              "    box-shadow: 0 1px 2px rgba(60, 64, 67, 0.3), 0 1px 3px 1px rgba(60, 64, 67, 0.15);\n",
              "    fill: var(--button-hover-fill-color);\n",
              "  }\n",
              "\n",
              "  .colab-df-quickchart-complete:disabled,\n",
              "  .colab-df-quickchart-complete:disabled:hover {\n",
              "    background-color: var(--disabled-bg-color);\n",
              "    fill: var(--disabled-fill-color);\n",
              "    box-shadow: none;\n",
              "  }\n",
              "\n",
              "  .colab-df-spinner {\n",
              "    border: 2px solid var(--fill-color);\n",
              "    border-color: transparent;\n",
              "    border-bottom-color: var(--fill-color);\n",
              "    animation:\n",
              "      spin 1s steps(1) infinite;\n",
              "  }\n",
              "\n",
              "  @keyframes spin {\n",
              "    0% {\n",
              "      border-color: transparent;\n",
              "      border-bottom-color: var(--fill-color);\n",
              "      border-left-color: var(--fill-color);\n",
              "    }\n",
              "    20% {\n",
              "      border-color: transparent;\n",
              "      border-left-color: var(--fill-color);\n",
              "      border-top-color: var(--fill-color);\n",
              "    }\n",
              "    30% {\n",
              "      border-color: transparent;\n",
              "      border-left-color: var(--fill-color);\n",
              "      border-top-color: var(--fill-color);\n",
              "      border-right-color: var(--fill-color);\n",
              "    }\n",
              "    40% {\n",
              "      border-color: transparent;\n",
              "      border-right-color: var(--fill-color);\n",
              "      border-top-color: var(--fill-color);\n",
              "    }\n",
              "    60% {\n",
              "      border-color: transparent;\n",
              "      border-right-color: var(--fill-color);\n",
              "    }\n",
              "    80% {\n",
              "      border-color: transparent;\n",
              "      border-right-color: var(--fill-color);\n",
              "      border-bottom-color: var(--fill-color);\n",
              "    }\n",
              "    90% {\n",
              "      border-color: transparent;\n",
              "      border-bottom-color: var(--fill-color);\n",
              "    }\n",
              "  }\n",
              "</style>\n",
              "\n",
              "  <script>\n",
              "    async function quickchart(key) {\n",
              "      const quickchartButtonEl =\n",
              "        document.querySelector('#' + key + ' button');\n",
              "      quickchartButtonEl.disabled = true;  // To prevent multiple clicks.\n",
              "      quickchartButtonEl.classList.add('colab-df-spinner');\n",
              "      try {\n",
              "        const charts = await google.colab.kernel.invokeFunction(\n",
              "            'suggestCharts', [key], {});\n",
              "      } catch (error) {\n",
              "        console.error('Error during call to suggestCharts:', error);\n",
              "      }\n",
              "      quickchartButtonEl.classList.remove('colab-df-spinner');\n",
              "      quickchartButtonEl.classList.add('colab-df-quickchart-complete');\n",
              "    }\n",
              "    (() => {\n",
              "      let quickchartButtonEl =\n",
              "        document.querySelector('#df-36e4b4e3-7c76-405b-85b9-88a9339026f5 button');\n",
              "      quickchartButtonEl.style.display =\n",
              "        google.colab.kernel.accessAllowed ? 'block' : 'none';\n",
              "    })();\n",
              "  </script>\n",
              "</div>\n",
              "    </div>\n",
              "  </div>\n"
            ]
          },
          "metadata": {},
          "execution_count": 48
        }
      ]
    },
    {
      "cell_type": "markdown",
      "source": [
        "**Separate X & Y**"
      ],
      "metadata": {
        "id": "s_Cn7yX2rcSp"
      }
    },
    {
      "cell_type": "code",
      "source": [
        "x=df.drop(\"Churn\",axis=1)\n",
        "y=df[\"Churn\"]"
      ],
      "metadata": {
        "id": "vSDGe0eka8EH"
      },
      "execution_count": null,
      "outputs": []
    },
    {
      "cell_type": "code",
      "source": [
        "x.head()"
      ],
      "metadata": {
        "colab": {
          "base_uri": "https://localhost:8080/",
          "height": 226
        },
        "id": "Qn2fhaPpa8BV",
        "outputId": "038f82b2-157f-4110-8c39-cdca9f843165"
      },
      "execution_count": null,
      "outputs": [
        {
          "output_type": "execute_result",
          "data": {
            "text/plain": [
              "   gender  SeniorCitizen  Partner  Dependents  tenure  PhoneService  \\\n",
              "0       0              0        1           0       1             0   \n",
              "1       1              0        0           0      34             1   \n",
              "2       1              0        0           0       2             1   \n",
              "3       1              0        0           0      45             0   \n",
              "4       0              0        0           0       2             1   \n",
              "\n",
              "   MultipleLines  InternetService  OnlineSecurity  OnlineBackup  \\\n",
              "0              1                0               0             2   \n",
              "1              0                0               2             0   \n",
              "2              0                0               2             2   \n",
              "3              1                0               2             0   \n",
              "4              0                1               0             0   \n",
              "\n",
              "   DeviceProtection  TechSupport  StreamingTV  StreamingMovies  Contract  \\\n",
              "0                 0            0            0                0         0   \n",
              "1                 2            0            0                0         1   \n",
              "2                 0            0            0                0         0   \n",
              "3                 2            2            0                0         1   \n",
              "4                 0            0            0                0         0   \n",
              "\n",
              "   PaperlessBilling  PaymentMethod  MonthlyCharges  TotalCharges  \n",
              "0                 1              2           29.85          2505  \n",
              "1                 0              3           56.95          1466  \n",
              "2                 1              3           53.85           157  \n",
              "3                 0              0           42.30          1400  \n",
              "4                 1              2           70.70           925  "
            ],
            "text/html": [
              "\n",
              "  <div id=\"df-761d17c9-f1e7-44e1-b4e6-84162ae187cc\" class=\"colab-df-container\">\n",
              "    <div>\n",
              "<style scoped>\n",
              "    .dataframe tbody tr th:only-of-type {\n",
              "        vertical-align: middle;\n",
              "    }\n",
              "\n",
              "    .dataframe tbody tr th {\n",
              "        vertical-align: top;\n",
              "    }\n",
              "\n",
              "    .dataframe thead th {\n",
              "        text-align: right;\n",
              "    }\n",
              "</style>\n",
              "<table border=\"1\" class=\"dataframe\">\n",
              "  <thead>\n",
              "    <tr style=\"text-align: right;\">\n",
              "      <th></th>\n",
              "      <th>gender</th>\n",
              "      <th>SeniorCitizen</th>\n",
              "      <th>Partner</th>\n",
              "      <th>Dependents</th>\n",
              "      <th>tenure</th>\n",
              "      <th>PhoneService</th>\n",
              "      <th>MultipleLines</th>\n",
              "      <th>InternetService</th>\n",
              "      <th>OnlineSecurity</th>\n",
              "      <th>OnlineBackup</th>\n",
              "      <th>DeviceProtection</th>\n",
              "      <th>TechSupport</th>\n",
              "      <th>StreamingTV</th>\n",
              "      <th>StreamingMovies</th>\n",
              "      <th>Contract</th>\n",
              "      <th>PaperlessBilling</th>\n",
              "      <th>PaymentMethod</th>\n",
              "      <th>MonthlyCharges</th>\n",
              "      <th>TotalCharges</th>\n",
              "    </tr>\n",
              "  </thead>\n",
              "  <tbody>\n",
              "    <tr>\n",
              "      <th>0</th>\n",
              "      <td>0</td>\n",
              "      <td>0</td>\n",
              "      <td>1</td>\n",
              "      <td>0</td>\n",
              "      <td>1</td>\n",
              "      <td>0</td>\n",
              "      <td>1</td>\n",
              "      <td>0</td>\n",
              "      <td>0</td>\n",
              "      <td>2</td>\n",
              "      <td>0</td>\n",
              "      <td>0</td>\n",
              "      <td>0</td>\n",
              "      <td>0</td>\n",
              "      <td>0</td>\n",
              "      <td>1</td>\n",
              "      <td>2</td>\n",
              "      <td>29.85</td>\n",
              "      <td>2505</td>\n",
              "    </tr>\n",
              "    <tr>\n",
              "      <th>1</th>\n",
              "      <td>1</td>\n",
              "      <td>0</td>\n",
              "      <td>0</td>\n",
              "      <td>0</td>\n",
              "      <td>34</td>\n",
              "      <td>1</td>\n",
              "      <td>0</td>\n",
              "      <td>0</td>\n",
              "      <td>2</td>\n",
              "      <td>0</td>\n",
              "      <td>2</td>\n",
              "      <td>0</td>\n",
              "      <td>0</td>\n",
              "      <td>0</td>\n",
              "      <td>1</td>\n",
              "      <td>0</td>\n",
              "      <td>3</td>\n",
              "      <td>56.95</td>\n",
              "      <td>1466</td>\n",
              "    </tr>\n",
              "    <tr>\n",
              "      <th>2</th>\n",
              "      <td>1</td>\n",
              "      <td>0</td>\n",
              "      <td>0</td>\n",
              "      <td>0</td>\n",
              "      <td>2</td>\n",
              "      <td>1</td>\n",
              "      <td>0</td>\n",
              "      <td>0</td>\n",
              "      <td>2</td>\n",
              "      <td>2</td>\n",
              "      <td>0</td>\n",
              "      <td>0</td>\n",
              "      <td>0</td>\n",
              "      <td>0</td>\n",
              "      <td>0</td>\n",
              "      <td>1</td>\n",
              "      <td>3</td>\n",
              "      <td>53.85</td>\n",
              "      <td>157</td>\n",
              "    </tr>\n",
              "    <tr>\n",
              "      <th>3</th>\n",
              "      <td>1</td>\n",
              "      <td>0</td>\n",
              "      <td>0</td>\n",
              "      <td>0</td>\n",
              "      <td>45</td>\n",
              "      <td>0</td>\n",
              "      <td>1</td>\n",
              "      <td>0</td>\n",
              "      <td>2</td>\n",
              "      <td>0</td>\n",
              "      <td>2</td>\n",
              "      <td>2</td>\n",
              "      <td>0</td>\n",
              "      <td>0</td>\n",
              "      <td>1</td>\n",
              "      <td>0</td>\n",
              "      <td>0</td>\n",
              "      <td>42.30</td>\n",
              "      <td>1400</td>\n",
              "    </tr>\n",
              "    <tr>\n",
              "      <th>4</th>\n",
              "      <td>0</td>\n",
              "      <td>0</td>\n",
              "      <td>0</td>\n",
              "      <td>0</td>\n",
              "      <td>2</td>\n",
              "      <td>1</td>\n",
              "      <td>0</td>\n",
              "      <td>1</td>\n",
              "      <td>0</td>\n",
              "      <td>0</td>\n",
              "      <td>0</td>\n",
              "      <td>0</td>\n",
              "      <td>0</td>\n",
              "      <td>0</td>\n",
              "      <td>0</td>\n",
              "      <td>1</td>\n",
              "      <td>2</td>\n",
              "      <td>70.70</td>\n",
              "      <td>925</td>\n",
              "    </tr>\n",
              "  </tbody>\n",
              "</table>\n",
              "</div>\n",
              "    <div class=\"colab-df-buttons\">\n",
              "\n",
              "  <div class=\"colab-df-container\">\n",
              "    <button class=\"colab-df-convert\" onclick=\"convertToInteractive('df-761d17c9-f1e7-44e1-b4e6-84162ae187cc')\"\n",
              "            title=\"Convert this dataframe to an interactive table.\"\n",
              "            style=\"display:none;\">\n",
              "\n",
              "  <svg xmlns=\"http://www.w3.org/2000/svg\" height=\"24px\" viewBox=\"0 -960 960 960\">\n",
              "    <path d=\"M120-120v-720h720v720H120Zm60-500h600v-160H180v160Zm220 220h160v-160H400v160Zm0 220h160v-160H400v160ZM180-400h160v-160H180v160Zm440 0h160v-160H620v160ZM180-180h160v-160H180v160Zm440 0h160v-160H620v160Z\"/>\n",
              "  </svg>\n",
              "    </button>\n",
              "\n",
              "  <style>\n",
              "    .colab-df-container {\n",
              "      display:flex;\n",
              "      gap: 12px;\n",
              "    }\n",
              "\n",
              "    .colab-df-convert {\n",
              "      background-color: #E8F0FE;\n",
              "      border: none;\n",
              "      border-radius: 50%;\n",
              "      cursor: pointer;\n",
              "      display: none;\n",
              "      fill: #1967D2;\n",
              "      height: 32px;\n",
              "      padding: 0 0 0 0;\n",
              "      width: 32px;\n",
              "    }\n",
              "\n",
              "    .colab-df-convert:hover {\n",
              "      background-color: #E2EBFA;\n",
              "      box-shadow: 0px 1px 2px rgba(60, 64, 67, 0.3), 0px 1px 3px 1px rgba(60, 64, 67, 0.15);\n",
              "      fill: #174EA6;\n",
              "    }\n",
              "\n",
              "    .colab-df-buttons div {\n",
              "      margin-bottom: 4px;\n",
              "    }\n",
              "\n",
              "    [theme=dark] .colab-df-convert {\n",
              "      background-color: #3B4455;\n",
              "      fill: #D2E3FC;\n",
              "    }\n",
              "\n",
              "    [theme=dark] .colab-df-convert:hover {\n",
              "      background-color: #434B5C;\n",
              "      box-shadow: 0px 1px 3px 1px rgba(0, 0, 0, 0.15);\n",
              "      filter: drop-shadow(0px 1px 2px rgba(0, 0, 0, 0.3));\n",
              "      fill: #FFFFFF;\n",
              "    }\n",
              "  </style>\n",
              "\n",
              "    <script>\n",
              "      const buttonEl =\n",
              "        document.querySelector('#df-761d17c9-f1e7-44e1-b4e6-84162ae187cc button.colab-df-convert');\n",
              "      buttonEl.style.display =\n",
              "        google.colab.kernel.accessAllowed ? 'block' : 'none';\n",
              "\n",
              "      async function convertToInteractive(key) {\n",
              "        const element = document.querySelector('#df-761d17c9-f1e7-44e1-b4e6-84162ae187cc');\n",
              "        const dataTable =\n",
              "          await google.colab.kernel.invokeFunction('convertToInteractive',\n",
              "                                                    [key], {});\n",
              "        if (!dataTable) return;\n",
              "\n",
              "        const docLinkHtml = 'Like what you see? Visit the ' +\n",
              "          '<a target=\"_blank\" href=https://colab.research.google.com/notebooks/data_table.ipynb>data table notebook</a>'\n",
              "          + ' to learn more about interactive tables.';\n",
              "        element.innerHTML = '';\n",
              "        dataTable['output_type'] = 'display_data';\n",
              "        await google.colab.output.renderOutput(dataTable, element);\n",
              "        const docLink = document.createElement('div');\n",
              "        docLink.innerHTML = docLinkHtml;\n",
              "        element.appendChild(docLink);\n",
              "      }\n",
              "    </script>\n",
              "  </div>\n",
              "\n",
              "\n",
              "<div id=\"df-f875818b-d91f-46b5-8e3f-f1d177876834\">\n",
              "  <button class=\"colab-df-quickchart\" onclick=\"quickchart('df-f875818b-d91f-46b5-8e3f-f1d177876834')\"\n",
              "            title=\"Suggest charts.\"\n",
              "            style=\"display:none;\">\n",
              "\n",
              "<svg xmlns=\"http://www.w3.org/2000/svg\" height=\"24px\"viewBox=\"0 0 24 24\"\n",
              "     width=\"24px\">\n",
              "    <g>\n",
              "        <path d=\"M19 3H5c-1.1 0-2 .9-2 2v14c0 1.1.9 2 2 2h14c1.1 0 2-.9 2-2V5c0-1.1-.9-2-2-2zM9 17H7v-7h2v7zm4 0h-2V7h2v10zm4 0h-2v-4h2v4z\"/>\n",
              "    </g>\n",
              "</svg>\n",
              "  </button>\n",
              "\n",
              "<style>\n",
              "  .colab-df-quickchart {\n",
              "      --bg-color: #E8F0FE;\n",
              "      --fill-color: #1967D2;\n",
              "      --hover-bg-color: #E2EBFA;\n",
              "      --hover-fill-color: #174EA6;\n",
              "      --disabled-fill-color: #AAA;\n",
              "      --disabled-bg-color: #DDD;\n",
              "  }\n",
              "\n",
              "  [theme=dark] .colab-df-quickchart {\n",
              "      --bg-color: #3B4455;\n",
              "      --fill-color: #D2E3FC;\n",
              "      --hover-bg-color: #434B5C;\n",
              "      --hover-fill-color: #FFFFFF;\n",
              "      --disabled-bg-color: #3B4455;\n",
              "      --disabled-fill-color: #666;\n",
              "  }\n",
              "\n",
              "  .colab-df-quickchart {\n",
              "    background-color: var(--bg-color);\n",
              "    border: none;\n",
              "    border-radius: 50%;\n",
              "    cursor: pointer;\n",
              "    display: none;\n",
              "    fill: var(--fill-color);\n",
              "    height: 32px;\n",
              "    padding: 0;\n",
              "    width: 32px;\n",
              "  }\n",
              "\n",
              "  .colab-df-quickchart:hover {\n",
              "    background-color: var(--hover-bg-color);\n",
              "    box-shadow: 0 1px 2px rgba(60, 64, 67, 0.3), 0 1px 3px 1px rgba(60, 64, 67, 0.15);\n",
              "    fill: var(--button-hover-fill-color);\n",
              "  }\n",
              "\n",
              "  .colab-df-quickchart-complete:disabled,\n",
              "  .colab-df-quickchart-complete:disabled:hover {\n",
              "    background-color: var(--disabled-bg-color);\n",
              "    fill: var(--disabled-fill-color);\n",
              "    box-shadow: none;\n",
              "  }\n",
              "\n",
              "  .colab-df-spinner {\n",
              "    border: 2px solid var(--fill-color);\n",
              "    border-color: transparent;\n",
              "    border-bottom-color: var(--fill-color);\n",
              "    animation:\n",
              "      spin 1s steps(1) infinite;\n",
              "  }\n",
              "\n",
              "  @keyframes spin {\n",
              "    0% {\n",
              "      border-color: transparent;\n",
              "      border-bottom-color: var(--fill-color);\n",
              "      border-left-color: var(--fill-color);\n",
              "    }\n",
              "    20% {\n",
              "      border-color: transparent;\n",
              "      border-left-color: var(--fill-color);\n",
              "      border-top-color: var(--fill-color);\n",
              "    }\n",
              "    30% {\n",
              "      border-color: transparent;\n",
              "      border-left-color: var(--fill-color);\n",
              "      border-top-color: var(--fill-color);\n",
              "      border-right-color: var(--fill-color);\n",
              "    }\n",
              "    40% {\n",
              "      border-color: transparent;\n",
              "      border-right-color: var(--fill-color);\n",
              "      border-top-color: var(--fill-color);\n",
              "    }\n",
              "    60% {\n",
              "      border-color: transparent;\n",
              "      border-right-color: var(--fill-color);\n",
              "    }\n",
              "    80% {\n",
              "      border-color: transparent;\n",
              "      border-right-color: var(--fill-color);\n",
              "      border-bottom-color: var(--fill-color);\n",
              "    }\n",
              "    90% {\n",
              "      border-color: transparent;\n",
              "      border-bottom-color: var(--fill-color);\n",
              "    }\n",
              "  }\n",
              "</style>\n",
              "\n",
              "  <script>\n",
              "    async function quickchart(key) {\n",
              "      const quickchartButtonEl =\n",
              "        document.querySelector('#' + key + ' button');\n",
              "      quickchartButtonEl.disabled = true;  // To prevent multiple clicks.\n",
              "      quickchartButtonEl.classList.add('colab-df-spinner');\n",
              "      try {\n",
              "        const charts = await google.colab.kernel.invokeFunction(\n",
              "            'suggestCharts', [key], {});\n",
              "      } catch (error) {\n",
              "        console.error('Error during call to suggestCharts:', error);\n",
              "      }\n",
              "      quickchartButtonEl.classList.remove('colab-df-spinner');\n",
              "      quickchartButtonEl.classList.add('colab-df-quickchart-complete');\n",
              "    }\n",
              "    (() => {\n",
              "      let quickchartButtonEl =\n",
              "        document.querySelector('#df-f875818b-d91f-46b5-8e3f-f1d177876834 button');\n",
              "      quickchartButtonEl.style.display =\n",
              "        google.colab.kernel.accessAllowed ? 'block' : 'none';\n",
              "    })();\n",
              "  </script>\n",
              "</div>\n",
              "    </div>\n",
              "  </div>\n"
            ]
          },
          "metadata": {},
          "execution_count": 50
        }
      ]
    },
    {
      "cell_type": "code",
      "source": [
        "x.shape"
      ],
      "metadata": {
        "colab": {
          "base_uri": "https://localhost:8080/"
        },
        "id": "JljPBPwErv5y",
        "outputId": "c9ed0c43-3df8-41db-fdd3-ed4a13813541"
      },
      "execution_count": null,
      "outputs": [
        {
          "output_type": "execute_result",
          "data": {
            "text/plain": [
              "(7043, 19)"
            ]
          },
          "metadata": {},
          "execution_count": 51
        }
      ]
    },
    {
      "cell_type": "code",
      "source": [
        "y"
      ],
      "metadata": {
        "colab": {
          "base_uri": "https://localhost:8080/"
        },
        "id": "dBZREOYga7-I",
        "outputId": "55dc1f0c-3a74-490a-9caf-ce3b116b6e28"
      },
      "execution_count": null,
      "outputs": [
        {
          "output_type": "execute_result",
          "data": {
            "text/plain": [
              "0       0\n",
              "1       0\n",
              "2       1\n",
              "3       0\n",
              "4       1\n",
              "       ..\n",
              "7038    0\n",
              "7039    0\n",
              "7040    0\n",
              "7041    1\n",
              "7042    0\n",
              "Name: Churn, Length: 7043, dtype: int64"
            ]
          },
          "metadata": {},
          "execution_count": 52
        }
      ]
    },
    {
      "cell_type": "code",
      "source": [
        "y.shape"
      ],
      "metadata": {
        "colab": {
          "base_uri": "https://localhost:8080/"
        },
        "id": "Iwf1Au_ha76X",
        "outputId": "7ca7889c-ec14-41b5-c04a-73e64fffb299"
      },
      "execution_count": null,
      "outputs": [
        {
          "output_type": "execute_result",
          "data": {
            "text/plain": [
              "(7043,)"
            ]
          },
          "metadata": {},
          "execution_count": 53
        }
      ]
    },
    {
      "cell_type": "markdown",
      "source": [
        "# **Imbalanced Data Handling**"
      ],
      "metadata": {
        "id": "x6VW1qm6r5ap"
      }
    },
    {
      "cell_type": "code",
      "source": [
        "df[\"Churn\"].value_counts() # 0=NO,1=Yes"
      ],
      "metadata": {
        "colab": {
          "base_uri": "https://localhost:8080/"
        },
        "id": "sUhX-4kPa730",
        "outputId": "67a36de0-1ee1-42ed-ce9d-434bc6264deb"
      },
      "execution_count": null,
      "outputs": [
        {
          "output_type": "execute_result",
          "data": {
            "text/plain": [
              "0    5174\n",
              "1    1869\n",
              "Name: Churn, dtype: int64"
            ]
          },
          "metadata": {},
          "execution_count": 54
        }
      ]
    },
    {
      "cell_type": "code",
      "source": [
        "print(\"Not churned {} percentage of total people\".format(not_churned))\n",
        "print(\"Churned {} percentage of total people\".format(churned))"
      ],
      "metadata": {
        "colab": {
          "base_uri": "https://localhost:8080/"
        },
        "id": "NsIwFXm_a7z4",
        "outputId": "fe60a967-3f07-4b32-bd16-5aaf1ed47047"
      },
      "execution_count": null,
      "outputs": [
        {
          "output_type": "stream",
          "name": "stdout",
          "text": [
            "Not churned 73.4630129206304 percentage of total people\n",
            "Churned 26.536987079369588 percentage of total people\n"
          ]
        }
      ]
    },
    {
      "cell_type": "markdown",
      "source": [
        "# **Synthetic Minority Oversampling Technique(SMOTETomek)**"
      ],
      "metadata": {
        "id": "G7PHc5EnsbuY"
      }
    },
    {
      "cell_type": "code",
      "source": [
        "import imblearn"
      ],
      "metadata": {
        "id": "PxkY_KZXsO_W"
      },
      "execution_count": null,
      "outputs": []
    },
    {
      "cell_type": "code",
      "source": [
        "from imblearn.combine import SMOTETomek"
      ],
      "metadata": {
        "id": "IVXDPoPxsO7n"
      },
      "execution_count": null,
      "outputs": []
    },
    {
      "cell_type": "code",
      "source": [
        "#Creating Object\n",
        "sm=SMOTETomek(random_state=100)"
      ],
      "metadata": {
        "id": "G1_mUmUYsO4J"
      },
      "execution_count": null,
      "outputs": []
    },
    {
      "cell_type": "code",
      "source": [
        "#Before sampling\n",
        "y.value_counts()"
      ],
      "metadata": {
        "colab": {
          "base_uri": "https://localhost:8080/"
        },
        "id": "0sdIWge_sO0S",
        "outputId": "b8717014-404c-404b-ef02-e4731524925d"
      },
      "execution_count": null,
      "outputs": [
        {
          "output_type": "execute_result",
          "data": {
            "text/plain": [
              "0    5174\n",
              "1    1869\n",
              "Name: Churn, dtype: int64"
            ]
          },
          "metadata": {},
          "execution_count": 59
        }
      ]
    },
    {
      "cell_type": "code",
      "source": [
        "X,Y=sm.fit_resample(x,y)"
      ],
      "metadata": {
        "id": "Qgbsq_5zsOu_"
      },
      "execution_count": null,
      "outputs": []
    },
    {
      "cell_type": "code",
      "source": [
        "X.shape"
      ],
      "metadata": {
        "colab": {
          "base_uri": "https://localhost:8080/"
        },
        "id": "cJUDBgnusOrJ",
        "outputId": "1aeb9c56-c56f-4fc2-dd40-a8d48ffd20d2"
      },
      "execution_count": null,
      "outputs": [
        {
          "output_type": "execute_result",
          "data": {
            "text/plain": [
              "(9652, 19)"
            ]
          },
          "metadata": {},
          "execution_count": 61
        }
      ]
    },
    {
      "cell_type": "code",
      "source": [
        "Y.shape"
      ],
      "metadata": {
        "colab": {
          "base_uri": "https://localhost:8080/"
        },
        "id": "BsZFw6CO0XAh",
        "outputId": "dbb55a71-66a0-40d9-bb18-93878d01791c"
      },
      "execution_count": null,
      "outputs": [
        {
          "output_type": "execute_result",
          "data": {
            "text/plain": [
              "(9652,)"
            ]
          },
          "metadata": {},
          "execution_count": 62
        }
      ]
    },
    {
      "cell_type": "code",
      "source": [
        "Y.value_counts()"
      ],
      "metadata": {
        "colab": {
          "base_uri": "https://localhost:8080/"
        },
        "id": "M03uMxfh0a7F",
        "outputId": "9f18988c-766c-4e03-ef98-e5abc271c61e"
      },
      "execution_count": null,
      "outputs": [
        {
          "output_type": "execute_result",
          "data": {
            "text/plain": [
              "0    4826\n",
              "1    4826\n",
              "Name: Churn, dtype: int64"
            ]
          },
          "metadata": {},
          "execution_count": 63
        }
      ]
    },
    {
      "cell_type": "code",
      "source": [
        "X.head()"
      ],
      "metadata": {
        "colab": {
          "base_uri": "https://localhost:8080/",
          "height": 226
        },
        "id": "zRItrzWM0d8O",
        "outputId": "116328a7-91f1-4e91-ea3d-656de257530e"
      },
      "execution_count": null,
      "outputs": [
        {
          "output_type": "execute_result",
          "data": {
            "text/plain": [
              "   gender  SeniorCitizen  Partner  Dependents  tenure  PhoneService  \\\n",
              "0       1              0        0           0      34             1   \n",
              "1       1              0        0           0      45             0   \n",
              "2       0              0        0           0       2             1   \n",
              "3       0              0        0           0       8             1   \n",
              "4       1              0        0           1      22             1   \n",
              "\n",
              "   MultipleLines  InternetService  OnlineSecurity  OnlineBackup  \\\n",
              "0              0                0               2             0   \n",
              "1              1                0               2             0   \n",
              "2              0                1               0             0   \n",
              "3              2                1               0             0   \n",
              "4              2                1               0             2   \n",
              "\n",
              "   DeviceProtection  TechSupport  StreamingTV  StreamingMovies  Contract  \\\n",
              "0                 2            0            0                0         1   \n",
              "1                 2            2            0                0         1   \n",
              "2                 0            0            0                0         0   \n",
              "3                 2            0            2                2         0   \n",
              "4                 0            0            2                0         0   \n",
              "\n",
              "   PaperlessBilling  PaymentMethod  MonthlyCharges  TotalCharges  \n",
              "0                 0              3           56.95          1466  \n",
              "1                 0              0           42.30          1400  \n",
              "2                 1              2           70.70           925  \n",
              "3                 1              2           99.65          6104  \n",
              "4                 1              1           89.10          1550  "
            ],
            "text/html": [
              "\n",
              "  <div id=\"df-39c20c90-1403-42a1-914b-dc44facb52b9\" class=\"colab-df-container\">\n",
              "    <div>\n",
              "<style scoped>\n",
              "    .dataframe tbody tr th:only-of-type {\n",
              "        vertical-align: middle;\n",
              "    }\n",
              "\n",
              "    .dataframe tbody tr th {\n",
              "        vertical-align: top;\n",
              "    }\n",
              "\n",
              "    .dataframe thead th {\n",
              "        text-align: right;\n",
              "    }\n",
              "</style>\n",
              "<table border=\"1\" class=\"dataframe\">\n",
              "  <thead>\n",
              "    <tr style=\"text-align: right;\">\n",
              "      <th></th>\n",
              "      <th>gender</th>\n",
              "      <th>SeniorCitizen</th>\n",
              "      <th>Partner</th>\n",
              "      <th>Dependents</th>\n",
              "      <th>tenure</th>\n",
              "      <th>PhoneService</th>\n",
              "      <th>MultipleLines</th>\n",
              "      <th>InternetService</th>\n",
              "      <th>OnlineSecurity</th>\n",
              "      <th>OnlineBackup</th>\n",
              "      <th>DeviceProtection</th>\n",
              "      <th>TechSupport</th>\n",
              "      <th>StreamingTV</th>\n",
              "      <th>StreamingMovies</th>\n",
              "      <th>Contract</th>\n",
              "      <th>PaperlessBilling</th>\n",
              "      <th>PaymentMethod</th>\n",
              "      <th>MonthlyCharges</th>\n",
              "      <th>TotalCharges</th>\n",
              "    </tr>\n",
              "  </thead>\n",
              "  <tbody>\n",
              "    <tr>\n",
              "      <th>0</th>\n",
              "      <td>1</td>\n",
              "      <td>0</td>\n",
              "      <td>0</td>\n",
              "      <td>0</td>\n",
              "      <td>34</td>\n",
              "      <td>1</td>\n",
              "      <td>0</td>\n",
              "      <td>0</td>\n",
              "      <td>2</td>\n",
              "      <td>0</td>\n",
              "      <td>2</td>\n",
              "      <td>0</td>\n",
              "      <td>0</td>\n",
              "      <td>0</td>\n",
              "      <td>1</td>\n",
              "      <td>0</td>\n",
              "      <td>3</td>\n",
              "      <td>56.95</td>\n",
              "      <td>1466</td>\n",
              "    </tr>\n",
              "    <tr>\n",
              "      <th>1</th>\n",
              "      <td>1</td>\n",
              "      <td>0</td>\n",
              "      <td>0</td>\n",
              "      <td>0</td>\n",
              "      <td>45</td>\n",
              "      <td>0</td>\n",
              "      <td>1</td>\n",
              "      <td>0</td>\n",
              "      <td>2</td>\n",
              "      <td>0</td>\n",
              "      <td>2</td>\n",
              "      <td>2</td>\n",
              "      <td>0</td>\n",
              "      <td>0</td>\n",
              "      <td>1</td>\n",
              "      <td>0</td>\n",
              "      <td>0</td>\n",
              "      <td>42.30</td>\n",
              "      <td>1400</td>\n",
              "    </tr>\n",
              "    <tr>\n",
              "      <th>2</th>\n",
              "      <td>0</td>\n",
              "      <td>0</td>\n",
              "      <td>0</td>\n",
              "      <td>0</td>\n",
              "      <td>2</td>\n",
              "      <td>1</td>\n",
              "      <td>0</td>\n",
              "      <td>1</td>\n",
              "      <td>0</td>\n",
              "      <td>0</td>\n",
              "      <td>0</td>\n",
              "      <td>0</td>\n",
              "      <td>0</td>\n",
              "      <td>0</td>\n",
              "      <td>0</td>\n",
              "      <td>1</td>\n",
              "      <td>2</td>\n",
              "      <td>70.70</td>\n",
              "      <td>925</td>\n",
              "    </tr>\n",
              "    <tr>\n",
              "      <th>3</th>\n",
              "      <td>0</td>\n",
              "      <td>0</td>\n",
              "      <td>0</td>\n",
              "      <td>0</td>\n",
              "      <td>8</td>\n",
              "      <td>1</td>\n",
              "      <td>2</td>\n",
              "      <td>1</td>\n",
              "      <td>0</td>\n",
              "      <td>0</td>\n",
              "      <td>2</td>\n",
              "      <td>0</td>\n",
              "      <td>2</td>\n",
              "      <td>2</td>\n",
              "      <td>0</td>\n",
              "      <td>1</td>\n",
              "      <td>2</td>\n",
              "      <td>99.65</td>\n",
              "      <td>6104</td>\n",
              "    </tr>\n",
              "    <tr>\n",
              "      <th>4</th>\n",
              "      <td>1</td>\n",
              "      <td>0</td>\n",
              "      <td>0</td>\n",
              "      <td>1</td>\n",
              "      <td>22</td>\n",
              "      <td>1</td>\n",
              "      <td>2</td>\n",
              "      <td>1</td>\n",
              "      <td>0</td>\n",
              "      <td>2</td>\n",
              "      <td>0</td>\n",
              "      <td>0</td>\n",
              "      <td>2</td>\n",
              "      <td>0</td>\n",
              "      <td>0</td>\n",
              "      <td>1</td>\n",
              "      <td>1</td>\n",
              "      <td>89.10</td>\n",
              "      <td>1550</td>\n",
              "    </tr>\n",
              "  </tbody>\n",
              "</table>\n",
              "</div>\n",
              "    <div class=\"colab-df-buttons\">\n",
              "\n",
              "  <div class=\"colab-df-container\">\n",
              "    <button class=\"colab-df-convert\" onclick=\"convertToInteractive('df-39c20c90-1403-42a1-914b-dc44facb52b9')\"\n",
              "            title=\"Convert this dataframe to an interactive table.\"\n",
              "            style=\"display:none;\">\n",
              "\n",
              "  <svg xmlns=\"http://www.w3.org/2000/svg\" height=\"24px\" viewBox=\"0 -960 960 960\">\n",
              "    <path d=\"M120-120v-720h720v720H120Zm60-500h600v-160H180v160Zm220 220h160v-160H400v160Zm0 220h160v-160H400v160ZM180-400h160v-160H180v160Zm440 0h160v-160H620v160ZM180-180h160v-160H180v160Zm440 0h160v-160H620v160Z\"/>\n",
              "  </svg>\n",
              "    </button>\n",
              "\n",
              "  <style>\n",
              "    .colab-df-container {\n",
              "      display:flex;\n",
              "      gap: 12px;\n",
              "    }\n",
              "\n",
              "    .colab-df-convert {\n",
              "      background-color: #E8F0FE;\n",
              "      border: none;\n",
              "      border-radius: 50%;\n",
              "      cursor: pointer;\n",
              "      display: none;\n",
              "      fill: #1967D2;\n",
              "      height: 32px;\n",
              "      padding: 0 0 0 0;\n",
              "      width: 32px;\n",
              "    }\n",
              "\n",
              "    .colab-df-convert:hover {\n",
              "      background-color: #E2EBFA;\n",
              "      box-shadow: 0px 1px 2px rgba(60, 64, 67, 0.3), 0px 1px 3px 1px rgba(60, 64, 67, 0.15);\n",
              "      fill: #174EA6;\n",
              "    }\n",
              "\n",
              "    .colab-df-buttons div {\n",
              "      margin-bottom: 4px;\n",
              "    }\n",
              "\n",
              "    [theme=dark] .colab-df-convert {\n",
              "      background-color: #3B4455;\n",
              "      fill: #D2E3FC;\n",
              "    }\n",
              "\n",
              "    [theme=dark] .colab-df-convert:hover {\n",
              "      background-color: #434B5C;\n",
              "      box-shadow: 0px 1px 3px 1px rgba(0, 0, 0, 0.15);\n",
              "      filter: drop-shadow(0px 1px 2px rgba(0, 0, 0, 0.3));\n",
              "      fill: #FFFFFF;\n",
              "    }\n",
              "  </style>\n",
              "\n",
              "    <script>\n",
              "      const buttonEl =\n",
              "        document.querySelector('#df-39c20c90-1403-42a1-914b-dc44facb52b9 button.colab-df-convert');\n",
              "      buttonEl.style.display =\n",
              "        google.colab.kernel.accessAllowed ? 'block' : 'none';\n",
              "\n",
              "      async function convertToInteractive(key) {\n",
              "        const element = document.querySelector('#df-39c20c90-1403-42a1-914b-dc44facb52b9');\n",
              "        const dataTable =\n",
              "          await google.colab.kernel.invokeFunction('convertToInteractive',\n",
              "                                                    [key], {});\n",
              "        if (!dataTable) return;\n",
              "\n",
              "        const docLinkHtml = 'Like what you see? Visit the ' +\n",
              "          '<a target=\"_blank\" href=https://colab.research.google.com/notebooks/data_table.ipynb>data table notebook</a>'\n",
              "          + ' to learn more about interactive tables.';\n",
              "        element.innerHTML = '';\n",
              "        dataTable['output_type'] = 'display_data';\n",
              "        await google.colab.output.renderOutput(dataTable, element);\n",
              "        const docLink = document.createElement('div');\n",
              "        docLink.innerHTML = docLinkHtml;\n",
              "        element.appendChild(docLink);\n",
              "      }\n",
              "    </script>\n",
              "  </div>\n",
              "\n",
              "\n",
              "<div id=\"df-22253279-c6d6-481f-8bf7-4a7a118b8afc\">\n",
              "  <button class=\"colab-df-quickchart\" onclick=\"quickchart('df-22253279-c6d6-481f-8bf7-4a7a118b8afc')\"\n",
              "            title=\"Suggest charts.\"\n",
              "            style=\"display:none;\">\n",
              "\n",
              "<svg xmlns=\"http://www.w3.org/2000/svg\" height=\"24px\"viewBox=\"0 0 24 24\"\n",
              "     width=\"24px\">\n",
              "    <g>\n",
              "        <path d=\"M19 3H5c-1.1 0-2 .9-2 2v14c0 1.1.9 2 2 2h14c1.1 0 2-.9 2-2V5c0-1.1-.9-2-2-2zM9 17H7v-7h2v7zm4 0h-2V7h2v10zm4 0h-2v-4h2v4z\"/>\n",
              "    </g>\n",
              "</svg>\n",
              "  </button>\n",
              "\n",
              "<style>\n",
              "  .colab-df-quickchart {\n",
              "      --bg-color: #E8F0FE;\n",
              "      --fill-color: #1967D2;\n",
              "      --hover-bg-color: #E2EBFA;\n",
              "      --hover-fill-color: #174EA6;\n",
              "      --disabled-fill-color: #AAA;\n",
              "      --disabled-bg-color: #DDD;\n",
              "  }\n",
              "\n",
              "  [theme=dark] .colab-df-quickchart {\n",
              "      --bg-color: #3B4455;\n",
              "      --fill-color: #D2E3FC;\n",
              "      --hover-bg-color: #434B5C;\n",
              "      --hover-fill-color: #FFFFFF;\n",
              "      --disabled-bg-color: #3B4455;\n",
              "      --disabled-fill-color: #666;\n",
              "  }\n",
              "\n",
              "  .colab-df-quickchart {\n",
              "    background-color: var(--bg-color);\n",
              "    border: none;\n",
              "    border-radius: 50%;\n",
              "    cursor: pointer;\n",
              "    display: none;\n",
              "    fill: var(--fill-color);\n",
              "    height: 32px;\n",
              "    padding: 0;\n",
              "    width: 32px;\n",
              "  }\n",
              "\n",
              "  .colab-df-quickchart:hover {\n",
              "    background-color: var(--hover-bg-color);\n",
              "    box-shadow: 0 1px 2px rgba(60, 64, 67, 0.3), 0 1px 3px 1px rgba(60, 64, 67, 0.15);\n",
              "    fill: var(--button-hover-fill-color);\n",
              "  }\n",
              "\n",
              "  .colab-df-quickchart-complete:disabled,\n",
              "  .colab-df-quickchart-complete:disabled:hover {\n",
              "    background-color: var(--disabled-bg-color);\n",
              "    fill: var(--disabled-fill-color);\n",
              "    box-shadow: none;\n",
              "  }\n",
              "\n",
              "  .colab-df-spinner {\n",
              "    border: 2px solid var(--fill-color);\n",
              "    border-color: transparent;\n",
              "    border-bottom-color: var(--fill-color);\n",
              "    animation:\n",
              "      spin 1s steps(1) infinite;\n",
              "  }\n",
              "\n",
              "  @keyframes spin {\n",
              "    0% {\n",
              "      border-color: transparent;\n",
              "      border-bottom-color: var(--fill-color);\n",
              "      border-left-color: var(--fill-color);\n",
              "    }\n",
              "    20% {\n",
              "      border-color: transparent;\n",
              "      border-left-color: var(--fill-color);\n",
              "      border-top-color: var(--fill-color);\n",
              "    }\n",
              "    30% {\n",
              "      border-color: transparent;\n",
              "      border-left-color: var(--fill-color);\n",
              "      border-top-color: var(--fill-color);\n",
              "      border-right-color: var(--fill-color);\n",
              "    }\n",
              "    40% {\n",
              "      border-color: transparent;\n",
              "      border-right-color: var(--fill-color);\n",
              "      border-top-color: var(--fill-color);\n",
              "    }\n",
              "    60% {\n",
              "      border-color: transparent;\n",
              "      border-right-color: var(--fill-color);\n",
              "    }\n",
              "    80% {\n",
              "      border-color: transparent;\n",
              "      border-right-color: var(--fill-color);\n",
              "      border-bottom-color: var(--fill-color);\n",
              "    }\n",
              "    90% {\n",
              "      border-color: transparent;\n",
              "      border-bottom-color: var(--fill-color);\n",
              "    }\n",
              "  }\n",
              "</style>\n",
              "\n",
              "  <script>\n",
              "    async function quickchart(key) {\n",
              "      const quickchartButtonEl =\n",
              "        document.querySelector('#' + key + ' button');\n",
              "      quickchartButtonEl.disabled = true;  // To prevent multiple clicks.\n",
              "      quickchartButtonEl.classList.add('colab-df-spinner');\n",
              "      try {\n",
              "        const charts = await google.colab.kernel.invokeFunction(\n",
              "            'suggestCharts', [key], {});\n",
              "      } catch (error) {\n",
              "        console.error('Error during call to suggestCharts:', error);\n",
              "      }\n",
              "      quickchartButtonEl.classList.remove('colab-df-spinner');\n",
              "      quickchartButtonEl.classList.add('colab-df-quickchart-complete');\n",
              "    }\n",
              "    (() => {\n",
              "      let quickchartButtonEl =\n",
              "        document.querySelector('#df-22253279-c6d6-481f-8bf7-4a7a118b8afc button');\n",
              "      quickchartButtonEl.style.display =\n",
              "        google.colab.kernel.accessAllowed ? 'block' : 'none';\n",
              "    })();\n",
              "  </script>\n",
              "</div>\n",
              "    </div>\n",
              "  </div>\n"
            ]
          },
          "metadata": {},
          "execution_count": 64
        }
      ]
    },
    {
      "cell_type": "code",
      "source": [
        "X.shape"
      ],
      "metadata": {
        "colab": {
          "base_uri": "https://localhost:8080/"
        },
        "id": "qdeWtrnS0d3a",
        "outputId": "860a4c2e-5661-4fe7-a33b-fc3fbc521a6b"
      },
      "execution_count": null,
      "outputs": [
        {
          "output_type": "execute_result",
          "data": {
            "text/plain": [
              "(9652, 19)"
            ]
          },
          "metadata": {},
          "execution_count": 65
        }
      ]
    },
    {
      "cell_type": "markdown",
      "source": [
        "# **Near Miss for Under Sampling**"
      ],
      "metadata": {
        "id": "4GUiFDoc09t5"
      }
    },
    {
      "cell_type": "code",
      "source": [
        "from imblearn.under_sampling import NearMiss"
      ],
      "metadata": {
        "id": "gj60Nk5O0dzI"
      },
      "execution_count": null,
      "outputs": []
    },
    {
      "cell_type": "code",
      "source": [
        "#Creating Object\\\n",
        "nm=NearMiss()"
      ],
      "metadata": {
        "id": "A1o0mImt0dvR"
      },
      "execution_count": null,
      "outputs": []
    },
    {
      "cell_type": "code",
      "source": [
        "new_x,new_y=nm.fit_resample(x,y)"
      ],
      "metadata": {
        "id": "2xm1_oEB0dsK"
      },
      "execution_count": null,
      "outputs": []
    },
    {
      "cell_type": "code",
      "source": [
        "new_x.shape"
      ],
      "metadata": {
        "colab": {
          "base_uri": "https://localhost:8080/"
        },
        "id": "AID8WAWh0doA",
        "outputId": "5b96f100-2550-448c-f5ac-b38ff411aab0"
      },
      "execution_count": null,
      "outputs": [
        {
          "output_type": "execute_result",
          "data": {
            "text/plain": [
              "(3738, 19)"
            ]
          },
          "metadata": {},
          "execution_count": 69
        }
      ]
    },
    {
      "cell_type": "code",
      "source": [
        "new_y.shape"
      ],
      "metadata": {
        "colab": {
          "base_uri": "https://localhost:8080/"
        },
        "id": "-Wvb_IBR0dkO",
        "outputId": "581a24d5-aea6-4f5b-b8aa-87eb6c026ce4"
      },
      "execution_count": null,
      "outputs": [
        {
          "output_type": "execute_result",
          "data": {
            "text/plain": [
              "(3738,)"
            ]
          },
          "metadata": {},
          "execution_count": 70
        }
      ]
    },
    {
      "cell_type": "code",
      "source": [
        "new_y.value_counts()"
      ],
      "metadata": {
        "colab": {
          "base_uri": "https://localhost:8080/"
        },
        "id": "mF_PkQD30dfq",
        "outputId": "7affe713-b4d4-4a11-fd1a-f74f2c6283da"
      },
      "execution_count": null,
      "outputs": [
        {
          "output_type": "execute_result",
          "data": {
            "text/plain": [
              "0    1869\n",
              "1    1869\n",
              "Name: Churn, dtype: int64"
            ]
          },
          "metadata": {},
          "execution_count": 71
        }
      ]
    },
    {
      "cell_type": "markdown",
      "source": [
        "# **OverSampling**"
      ],
      "metadata": {
        "id": "c4pGimvI2pZp"
      }
    },
    {
      "cell_type": "code",
      "source": [
        "df1.head()"
      ],
      "metadata": {
        "colab": {
          "base_uri": "https://localhost:8080/",
          "height": 342
        },
        "id": "iTs2HY1j0dbt",
        "outputId": "876ac362-3c12-49dd-d2cb-73c7221fad7c"
      },
      "execution_count": null,
      "outputs": [
        {
          "output_type": "execute_result",
          "data": {
            "text/plain": [
              "   customerID  gender  SeniorCitizen Partner Dependents  tenure PhoneService  \\\n",
              "0  7590-VHVEG  Female              0     Yes         No       1           No   \n",
              "1  5575-GNVDE    Male              0      No         No      34          Yes   \n",
              "2  3668-QPYBK    Male              0      No         No       2          Yes   \n",
              "3  7795-CFOCW    Male              0      No         No      45           No   \n",
              "4  9237-HQITU  Female              0      No         No       2          Yes   \n",
              "\n",
              "      MultipleLines InternetService OnlineSecurity  ... DeviceProtection  \\\n",
              "0  No phone service             DSL             No  ...               No   \n",
              "1                No             DSL            Yes  ...              Yes   \n",
              "2                No             DSL            Yes  ...               No   \n",
              "3  No phone service             DSL            Yes  ...              Yes   \n",
              "4                No     Fiber optic             No  ...               No   \n",
              "\n",
              "  TechSupport StreamingTV StreamingMovies        Contract PaperlessBilling  \\\n",
              "0          No          No              No  Month-to-month              Yes   \n",
              "1          No          No              No        One year               No   \n",
              "2          No          No              No  Month-to-month              Yes   \n",
              "3         Yes          No              No        One year               No   \n",
              "4          No          No              No  Month-to-month              Yes   \n",
              "\n",
              "               PaymentMethod MonthlyCharges  TotalCharges Churn  \n",
              "0           Electronic check          29.85         29.85    No  \n",
              "1               Mailed check          56.95        1889.5    No  \n",
              "2               Mailed check          53.85        108.15   Yes  \n",
              "3  Bank transfer (automatic)          42.30       1840.75    No  \n",
              "4           Electronic check          70.70        151.65   Yes  \n",
              "\n",
              "[5 rows x 21 columns]"
            ],
            "text/html": [
              "\n",
              "  <div id=\"df-38e179cd-968f-4766-9eec-30a95cc779d0\" class=\"colab-df-container\">\n",
              "    <div>\n",
              "<style scoped>\n",
              "    .dataframe tbody tr th:only-of-type {\n",
              "        vertical-align: middle;\n",
              "    }\n",
              "\n",
              "    .dataframe tbody tr th {\n",
              "        vertical-align: top;\n",
              "    }\n",
              "\n",
              "    .dataframe thead th {\n",
              "        text-align: right;\n",
              "    }\n",
              "</style>\n",
              "<table border=\"1\" class=\"dataframe\">\n",
              "  <thead>\n",
              "    <tr style=\"text-align: right;\">\n",
              "      <th></th>\n",
              "      <th>customerID</th>\n",
              "      <th>gender</th>\n",
              "      <th>SeniorCitizen</th>\n",
              "      <th>Partner</th>\n",
              "      <th>Dependents</th>\n",
              "      <th>tenure</th>\n",
              "      <th>PhoneService</th>\n",
              "      <th>MultipleLines</th>\n",
              "      <th>InternetService</th>\n",
              "      <th>OnlineSecurity</th>\n",
              "      <th>...</th>\n",
              "      <th>DeviceProtection</th>\n",
              "      <th>TechSupport</th>\n",
              "      <th>StreamingTV</th>\n",
              "      <th>StreamingMovies</th>\n",
              "      <th>Contract</th>\n",
              "      <th>PaperlessBilling</th>\n",
              "      <th>PaymentMethod</th>\n",
              "      <th>MonthlyCharges</th>\n",
              "      <th>TotalCharges</th>\n",
              "      <th>Churn</th>\n",
              "    </tr>\n",
              "  </thead>\n",
              "  <tbody>\n",
              "    <tr>\n",
              "      <th>0</th>\n",
              "      <td>7590-VHVEG</td>\n",
              "      <td>Female</td>\n",
              "      <td>0</td>\n",
              "      <td>Yes</td>\n",
              "      <td>No</td>\n",
              "      <td>1</td>\n",
              "      <td>No</td>\n",
              "      <td>No phone service</td>\n",
              "      <td>DSL</td>\n",
              "      <td>No</td>\n",
              "      <td>...</td>\n",
              "      <td>No</td>\n",
              "      <td>No</td>\n",
              "      <td>No</td>\n",
              "      <td>No</td>\n",
              "      <td>Month-to-month</td>\n",
              "      <td>Yes</td>\n",
              "      <td>Electronic check</td>\n",
              "      <td>29.85</td>\n",
              "      <td>29.85</td>\n",
              "      <td>No</td>\n",
              "    </tr>\n",
              "    <tr>\n",
              "      <th>1</th>\n",
              "      <td>5575-GNVDE</td>\n",
              "      <td>Male</td>\n",
              "      <td>0</td>\n",
              "      <td>No</td>\n",
              "      <td>No</td>\n",
              "      <td>34</td>\n",
              "      <td>Yes</td>\n",
              "      <td>No</td>\n",
              "      <td>DSL</td>\n",
              "      <td>Yes</td>\n",
              "      <td>...</td>\n",
              "      <td>Yes</td>\n",
              "      <td>No</td>\n",
              "      <td>No</td>\n",
              "      <td>No</td>\n",
              "      <td>One year</td>\n",
              "      <td>No</td>\n",
              "      <td>Mailed check</td>\n",
              "      <td>56.95</td>\n",
              "      <td>1889.5</td>\n",
              "      <td>No</td>\n",
              "    </tr>\n",
              "    <tr>\n",
              "      <th>2</th>\n",
              "      <td>3668-QPYBK</td>\n",
              "      <td>Male</td>\n",
              "      <td>0</td>\n",
              "      <td>No</td>\n",
              "      <td>No</td>\n",
              "      <td>2</td>\n",
              "      <td>Yes</td>\n",
              "      <td>No</td>\n",
              "      <td>DSL</td>\n",
              "      <td>Yes</td>\n",
              "      <td>...</td>\n",
              "      <td>No</td>\n",
              "      <td>No</td>\n",
              "      <td>No</td>\n",
              "      <td>No</td>\n",
              "      <td>Month-to-month</td>\n",
              "      <td>Yes</td>\n",
              "      <td>Mailed check</td>\n",
              "      <td>53.85</td>\n",
              "      <td>108.15</td>\n",
              "      <td>Yes</td>\n",
              "    </tr>\n",
              "    <tr>\n",
              "      <th>3</th>\n",
              "      <td>7795-CFOCW</td>\n",
              "      <td>Male</td>\n",
              "      <td>0</td>\n",
              "      <td>No</td>\n",
              "      <td>No</td>\n",
              "      <td>45</td>\n",
              "      <td>No</td>\n",
              "      <td>No phone service</td>\n",
              "      <td>DSL</td>\n",
              "      <td>Yes</td>\n",
              "      <td>...</td>\n",
              "      <td>Yes</td>\n",
              "      <td>Yes</td>\n",
              "      <td>No</td>\n",
              "      <td>No</td>\n",
              "      <td>One year</td>\n",
              "      <td>No</td>\n",
              "      <td>Bank transfer (automatic)</td>\n",
              "      <td>42.30</td>\n",
              "      <td>1840.75</td>\n",
              "      <td>No</td>\n",
              "    </tr>\n",
              "    <tr>\n",
              "      <th>4</th>\n",
              "      <td>9237-HQITU</td>\n",
              "      <td>Female</td>\n",
              "      <td>0</td>\n",
              "      <td>No</td>\n",
              "      <td>No</td>\n",
              "      <td>2</td>\n",
              "      <td>Yes</td>\n",
              "      <td>No</td>\n",
              "      <td>Fiber optic</td>\n",
              "      <td>No</td>\n",
              "      <td>...</td>\n",
              "      <td>No</td>\n",
              "      <td>No</td>\n",
              "      <td>No</td>\n",
              "      <td>No</td>\n",
              "      <td>Month-to-month</td>\n",
              "      <td>Yes</td>\n",
              "      <td>Electronic check</td>\n",
              "      <td>70.70</td>\n",
              "      <td>151.65</td>\n",
              "      <td>Yes</td>\n",
              "    </tr>\n",
              "  </tbody>\n",
              "</table>\n",
              "<p>5 rows × 21 columns</p>\n",
              "</div>\n",
              "    <div class=\"colab-df-buttons\">\n",
              "\n",
              "  <div class=\"colab-df-container\">\n",
              "    <button class=\"colab-df-convert\" onclick=\"convertToInteractive('df-38e179cd-968f-4766-9eec-30a95cc779d0')\"\n",
              "            title=\"Convert this dataframe to an interactive table.\"\n",
              "            style=\"display:none;\">\n",
              "\n",
              "  <svg xmlns=\"http://www.w3.org/2000/svg\" height=\"24px\" viewBox=\"0 -960 960 960\">\n",
              "    <path d=\"M120-120v-720h720v720H120Zm60-500h600v-160H180v160Zm220 220h160v-160H400v160Zm0 220h160v-160H400v160ZM180-400h160v-160H180v160Zm440 0h160v-160H620v160ZM180-180h160v-160H180v160Zm440 0h160v-160H620v160Z\"/>\n",
              "  </svg>\n",
              "    </button>\n",
              "\n",
              "  <style>\n",
              "    .colab-df-container {\n",
              "      display:flex;\n",
              "      gap: 12px;\n",
              "    }\n",
              "\n",
              "    .colab-df-convert {\n",
              "      background-color: #E8F0FE;\n",
              "      border: none;\n",
              "      border-radius: 50%;\n",
              "      cursor: pointer;\n",
              "      display: none;\n",
              "      fill: #1967D2;\n",
              "      height: 32px;\n",
              "      padding: 0 0 0 0;\n",
              "      width: 32px;\n",
              "    }\n",
              "\n",
              "    .colab-df-convert:hover {\n",
              "      background-color: #E2EBFA;\n",
              "      box-shadow: 0px 1px 2px rgba(60, 64, 67, 0.3), 0px 1px 3px 1px rgba(60, 64, 67, 0.15);\n",
              "      fill: #174EA6;\n",
              "    }\n",
              "\n",
              "    .colab-df-buttons div {\n",
              "      margin-bottom: 4px;\n",
              "    }\n",
              "\n",
              "    [theme=dark] .colab-df-convert {\n",
              "      background-color: #3B4455;\n",
              "      fill: #D2E3FC;\n",
              "    }\n",
              "\n",
              "    [theme=dark] .colab-df-convert:hover {\n",
              "      background-color: #434B5C;\n",
              "      box-shadow: 0px 1px 3px 1px rgba(0, 0, 0, 0.15);\n",
              "      filter: drop-shadow(0px 1px 2px rgba(0, 0, 0, 0.3));\n",
              "      fill: #FFFFFF;\n",
              "    }\n",
              "  </style>\n",
              "\n",
              "    <script>\n",
              "      const buttonEl =\n",
              "        document.querySelector('#df-38e179cd-968f-4766-9eec-30a95cc779d0 button.colab-df-convert');\n",
              "      buttonEl.style.display =\n",
              "        google.colab.kernel.accessAllowed ? 'block' : 'none';\n",
              "\n",
              "      async function convertToInteractive(key) {\n",
              "        const element = document.querySelector('#df-38e179cd-968f-4766-9eec-30a95cc779d0');\n",
              "        const dataTable =\n",
              "          await google.colab.kernel.invokeFunction('convertToInteractive',\n",
              "                                                    [key], {});\n",
              "        if (!dataTable) return;\n",
              "\n",
              "        const docLinkHtml = 'Like what you see? Visit the ' +\n",
              "          '<a target=\"_blank\" href=https://colab.research.google.com/notebooks/data_table.ipynb>data table notebook</a>'\n",
              "          + ' to learn more about interactive tables.';\n",
              "        element.innerHTML = '';\n",
              "        dataTable['output_type'] = 'display_data';\n",
              "        await google.colab.output.renderOutput(dataTable, element);\n",
              "        const docLink = document.createElement('div');\n",
              "        docLink.innerHTML = docLinkHtml;\n",
              "        element.appendChild(docLink);\n",
              "      }\n",
              "    </script>\n",
              "  </div>\n",
              "\n",
              "\n",
              "<div id=\"df-aa1b6688-0940-4df4-8b1e-fe568e9d1351\">\n",
              "  <button class=\"colab-df-quickchart\" onclick=\"quickchart('df-aa1b6688-0940-4df4-8b1e-fe568e9d1351')\"\n",
              "            title=\"Suggest charts.\"\n",
              "            style=\"display:none;\">\n",
              "\n",
              "<svg xmlns=\"http://www.w3.org/2000/svg\" height=\"24px\"viewBox=\"0 0 24 24\"\n",
              "     width=\"24px\">\n",
              "    <g>\n",
              "        <path d=\"M19 3H5c-1.1 0-2 .9-2 2v14c0 1.1.9 2 2 2h14c1.1 0 2-.9 2-2V5c0-1.1-.9-2-2-2zM9 17H7v-7h2v7zm4 0h-2V7h2v10zm4 0h-2v-4h2v4z\"/>\n",
              "    </g>\n",
              "</svg>\n",
              "  </button>\n",
              "\n",
              "<style>\n",
              "  .colab-df-quickchart {\n",
              "      --bg-color: #E8F0FE;\n",
              "      --fill-color: #1967D2;\n",
              "      --hover-bg-color: #E2EBFA;\n",
              "      --hover-fill-color: #174EA6;\n",
              "      --disabled-fill-color: #AAA;\n",
              "      --disabled-bg-color: #DDD;\n",
              "  }\n",
              "\n",
              "  [theme=dark] .colab-df-quickchart {\n",
              "      --bg-color: #3B4455;\n",
              "      --fill-color: #D2E3FC;\n",
              "      --hover-bg-color: #434B5C;\n",
              "      --hover-fill-color: #FFFFFF;\n",
              "      --disabled-bg-color: #3B4455;\n",
              "      --disabled-fill-color: #666;\n",
              "  }\n",
              "\n",
              "  .colab-df-quickchart {\n",
              "    background-color: var(--bg-color);\n",
              "    border: none;\n",
              "    border-radius: 50%;\n",
              "    cursor: pointer;\n",
              "    display: none;\n",
              "    fill: var(--fill-color);\n",
              "    height: 32px;\n",
              "    padding: 0;\n",
              "    width: 32px;\n",
              "  }\n",
              "\n",
              "  .colab-df-quickchart:hover {\n",
              "    background-color: var(--hover-bg-color);\n",
              "    box-shadow: 0 1px 2px rgba(60, 64, 67, 0.3), 0 1px 3px 1px rgba(60, 64, 67, 0.15);\n",
              "    fill: var(--button-hover-fill-color);\n",
              "  }\n",
              "\n",
              "  .colab-df-quickchart-complete:disabled,\n",
              "  .colab-df-quickchart-complete:disabled:hover {\n",
              "    background-color: var(--disabled-bg-color);\n",
              "    fill: var(--disabled-fill-color);\n",
              "    box-shadow: none;\n",
              "  }\n",
              "\n",
              "  .colab-df-spinner {\n",
              "    border: 2px solid var(--fill-color);\n",
              "    border-color: transparent;\n",
              "    border-bottom-color: var(--fill-color);\n",
              "    animation:\n",
              "      spin 1s steps(1) infinite;\n",
              "  }\n",
              "\n",
              "  @keyframes spin {\n",
              "    0% {\n",
              "      border-color: transparent;\n",
              "      border-bottom-color: var(--fill-color);\n",
              "      border-left-color: var(--fill-color);\n",
              "    }\n",
              "    20% {\n",
              "      border-color: transparent;\n",
              "      border-left-color: var(--fill-color);\n",
              "      border-top-color: var(--fill-color);\n",
              "    }\n",
              "    30% {\n",
              "      border-color: transparent;\n",
              "      border-left-color: var(--fill-color);\n",
              "      border-top-color: var(--fill-color);\n",
              "      border-right-color: var(--fill-color);\n",
              "    }\n",
              "    40% {\n",
              "      border-color: transparent;\n",
              "      border-right-color: var(--fill-color);\n",
              "      border-top-color: var(--fill-color);\n",
              "    }\n",
              "    60% {\n",
              "      border-color: transparent;\n",
              "      border-right-color: var(--fill-color);\n",
              "    }\n",
              "    80% {\n",
              "      border-color: transparent;\n",
              "      border-right-color: var(--fill-color);\n",
              "      border-bottom-color: var(--fill-color);\n",
              "    }\n",
              "    90% {\n",
              "      border-color: transparent;\n",
              "      border-bottom-color: var(--fill-color);\n",
              "    }\n",
              "  }\n",
              "</style>\n",
              "\n",
              "  <script>\n",
              "    async function quickchart(key) {\n",
              "      const quickchartButtonEl =\n",
              "        document.querySelector('#' + key + ' button');\n",
              "      quickchartButtonEl.disabled = true;  // To prevent multiple clicks.\n",
              "      quickchartButtonEl.classList.add('colab-df-spinner');\n",
              "      try {\n",
              "        const charts = await google.colab.kernel.invokeFunction(\n",
              "            'suggestCharts', [key], {});\n",
              "      } catch (error) {\n",
              "        console.error('Error during call to suggestCharts:', error);\n",
              "      }\n",
              "      quickchartButtonEl.classList.remove('colab-df-spinner');\n",
              "      quickchartButtonEl.classList.add('colab-df-quickchart-complete');\n",
              "    }\n",
              "    (() => {\n",
              "      let quickchartButtonEl =\n",
              "        document.querySelector('#df-aa1b6688-0940-4df4-8b1e-fe568e9d1351 button');\n",
              "      quickchartButtonEl.style.display =\n",
              "        google.colab.kernel.accessAllowed ? 'block' : 'none';\n",
              "    })();\n",
              "  </script>\n",
              "</div>\n",
              "    </div>\n",
              "  </div>\n"
            ]
          },
          "metadata": {},
          "execution_count": 72
        }
      ]
    },
    {
      "cell_type": "code",
      "source": [
        "df1[\"Churn\"].value_counts()"
      ],
      "metadata": {
        "colab": {
          "base_uri": "https://localhost:8080/"
        },
        "id": "ubiJ5kL30dYW",
        "outputId": "3ad716c5-fd78-44f0-f89c-ecc23db16a66"
      },
      "execution_count": null,
      "outputs": [
        {
          "output_type": "execute_result",
          "data": {
            "text/plain": [
              "No     5174\n",
              "Yes    1869\n",
              "Name: Churn, dtype: int64"
            ]
          },
          "metadata": {},
          "execution_count": 73
        }
      ]
    },
    {
      "cell_type": "code",
      "source": [
        "from imblearn.over_sampling import RandomOverSampler"
      ],
      "metadata": {
        "id": "zrOR7Pdt0dUs"
      },
      "execution_count": null,
      "outputs": []
    },
    {
      "cell_type": "code",
      "source": [
        "om=RandomOverSampler(random_state=100)"
      ],
      "metadata": {
        "id": "N6xx4TCS0dSD"
      },
      "execution_count": null,
      "outputs": []
    },
    {
      "cell_type": "code",
      "source": [
        "x_new,y_new=om.fit_resample(x,y)"
      ],
      "metadata": {
        "id": "8xVdv5RA0dOL"
      },
      "execution_count": null,
      "outputs": []
    },
    {
      "cell_type": "code",
      "source": [
        "x_new.shape"
      ],
      "metadata": {
        "colab": {
          "base_uri": "https://localhost:8080/"
        },
        "id": "69RonnAB0dLZ",
        "outputId": "c79c76fa-d8f4-4df3-b13d-60d04489a52c"
      },
      "execution_count": null,
      "outputs": [
        {
          "output_type": "execute_result",
          "data": {
            "text/plain": [
              "(10348, 19)"
            ]
          },
          "metadata": {},
          "execution_count": 77
        }
      ]
    },
    {
      "cell_type": "code",
      "source": [
        "y_new.shape"
      ],
      "metadata": {
        "colab": {
          "base_uri": "https://localhost:8080/"
        },
        "id": "ae6bljbu0dGa",
        "outputId": "9f9031d2-6fd4-4022-cbb5-16865afd2f52"
      },
      "execution_count": null,
      "outputs": [
        {
          "output_type": "execute_result",
          "data": {
            "text/plain": [
              "(10348,)"
            ]
          },
          "metadata": {},
          "execution_count": 78
        }
      ]
    },
    {
      "cell_type": "code",
      "source": [
        "y_new.value_counts()"
      ],
      "metadata": {
        "colab": {
          "base_uri": "https://localhost:8080/"
        },
        "id": "Gft_aP4N0dCt",
        "outputId": "daea2ca2-fc45-4dea-f92d-2ec873b1344b"
      },
      "execution_count": null,
      "outputs": [
        {
          "output_type": "execute_result",
          "data": {
            "text/plain": [
              "0    5174\n",
              "1    5174\n",
              "Name: Churn, dtype: int64"
            ]
          },
          "metadata": {},
          "execution_count": 79
        }
      ]
    },
    {
      "cell_type": "markdown",
      "source": [
        "# **Cross Validation**"
      ],
      "metadata": {
        "id": "8rj0TBc_3uio"
      }
    },
    {
      "cell_type": "markdown",
      "source": [
        "\n",
        ">**Hold out Cross Validation**\n",
        "![1_iZpmWiVeFn0bcuMZ_yiEdw.jpg](data:image/jpeg;base64,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)\n"
      ],
      "metadata": {
        "id": "ZGvdAzMO4GHR"
      }
    },
    {
      "cell_type": "code",
      "source": [
        "from sklearn.model_selection import train_test_split"
      ],
      "metadata": {
        "id": "IKjthHkT0c-h"
      },
      "execution_count": null,
      "outputs": []
    },
    {
      "cell_type": "code",
      "source": [
        "x_train,x_test,y_train,y_test=train_test_split(x_new,y_new,train_size=0.75,random_state=42)"
      ],
      "metadata": {
        "id": "Fe3Q7MUi0c7N"
      },
      "execution_count": null,
      "outputs": []
    },
    {
      "cell_type": "code",
      "source": [
        "x_train.head()"
      ],
      "metadata": {
        "colab": {
          "base_uri": "https://localhost:8080/",
          "height": 226
        },
        "id": "pFqUZglV0c3R",
        "outputId": "65e090a5-bec3-4d2e-89fa-5045ce54ec98"
      },
      "execution_count": null,
      "outputs": [
        {
          "output_type": "execute_result",
          "data": {
            "text/plain": [
              "       gender  SeniorCitizen  Partner  Dependents  tenure  PhoneService  \\\n",
              "3520        0              0        1           0      16             1   \n",
              "5262        0              0        0           0      59             1   \n",
              "10333       1              0        0           0      32             1   \n",
              "4058        0              0        1           1      40             1   \n",
              "7089        1              0        0           0      24             1   \n",
              "\n",
              "       MultipleLines  InternetService  OnlineSecurity  OnlineBackup  \\\n",
              "3520               0                2               1             1   \n",
              "5262               2                0               2             0   \n",
              "10333              0                1               0             0   \n",
              "4058               2                1               0             0   \n",
              "7089               0                1               0             0   \n",
              "\n",
              "       DeviceProtection  TechSupport  StreamingTV  StreamingMovies  Contract  \\\n",
              "3520                  1            1            1                1         0   \n",
              "5262                  0            2            0                2         1   \n",
              "10333                 0            2            2                2         0   \n",
              "4058                  2            2            0                0         0   \n",
              "7089                  0            2            2                2         0   \n",
              "\n",
              "       PaperlessBilling  PaymentMethod  MonthlyCharges  TotalCharges  \n",
              "3520                  0              3           19.60          2728  \n",
              "5262                  0              0           68.70          3480  \n",
              "10333                 1              2           96.20          2767  \n",
              "4058                  1              2           84.85          2870  \n",
              "7089                  1              2           96.00          1750  "
            ],
            "text/html": [
              "\n",
              "  <div id=\"df-b0ead271-881f-4664-97c4-eff63849d56c\" class=\"colab-df-container\">\n",
              "    <div>\n",
              "<style scoped>\n",
              "    .dataframe tbody tr th:only-of-type {\n",
              "        vertical-align: middle;\n",
              "    }\n",
              "\n",
              "    .dataframe tbody tr th {\n",
              "        vertical-align: top;\n",
              "    }\n",
              "\n",
              "    .dataframe thead th {\n",
              "        text-align: right;\n",
              "    }\n",
              "</style>\n",
              "<table border=\"1\" class=\"dataframe\">\n",
              "  <thead>\n",
              "    <tr style=\"text-align: right;\">\n",
              "      <th></th>\n",
              "      <th>gender</th>\n",
              "      <th>SeniorCitizen</th>\n",
              "      <th>Partner</th>\n",
              "      <th>Dependents</th>\n",
              "      <th>tenure</th>\n",
              "      <th>PhoneService</th>\n",
              "      <th>MultipleLines</th>\n",
              "      <th>InternetService</th>\n",
              "      <th>OnlineSecurity</th>\n",
              "      <th>OnlineBackup</th>\n",
              "      <th>DeviceProtection</th>\n",
              "      <th>TechSupport</th>\n",
              "      <th>StreamingTV</th>\n",
              "      <th>StreamingMovies</th>\n",
              "      <th>Contract</th>\n",
              "      <th>PaperlessBilling</th>\n",
              "      <th>PaymentMethod</th>\n",
              "      <th>MonthlyCharges</th>\n",
              "      <th>TotalCharges</th>\n",
              "    </tr>\n",
              "  </thead>\n",
              "  <tbody>\n",
              "    <tr>\n",
              "      <th>3520</th>\n",
              "      <td>0</td>\n",
              "      <td>0</td>\n",
              "      <td>1</td>\n",
              "      <td>0</td>\n",
              "      <td>16</td>\n",
              "      <td>1</td>\n",
              "      <td>0</td>\n",
              "      <td>2</td>\n",
              "      <td>1</td>\n",
              "      <td>1</td>\n",
              "      <td>1</td>\n",
              "      <td>1</td>\n",
              "      <td>1</td>\n",
              "      <td>1</td>\n",
              "      <td>0</td>\n",
              "      <td>0</td>\n",
              "      <td>3</td>\n",
              "      <td>19.60</td>\n",
              "      <td>2728</td>\n",
              "    </tr>\n",
              "    <tr>\n",
              "      <th>5262</th>\n",
              "      <td>0</td>\n",
              "      <td>0</td>\n",
              "      <td>0</td>\n",
              "      <td>0</td>\n",
              "      <td>59</td>\n",
              "      <td>1</td>\n",
              "      <td>2</td>\n",
              "      <td>0</td>\n",
              "      <td>2</td>\n",
              "      <td>0</td>\n",
              "      <td>0</td>\n",
              "      <td>2</td>\n",
              "      <td>0</td>\n",
              "      <td>2</td>\n",
              "      <td>1</td>\n",
              "      <td>0</td>\n",
              "      <td>0</td>\n",
              "      <td>68.70</td>\n",
              "      <td>3480</td>\n",
              "    </tr>\n",
              "    <tr>\n",
              "      <th>10333</th>\n",
              "      <td>1</td>\n",
              "      <td>0</td>\n",
              "      <td>0</td>\n",
              "      <td>0</td>\n",
              "      <td>32</td>\n",
              "      <td>1</td>\n",
              "      <td>0</td>\n",
              "      <td>1</td>\n",
              "      <td>0</td>\n",
              "      <td>0</td>\n",
              "      <td>0</td>\n",
              "      <td>2</td>\n",
              "      <td>2</td>\n",
              "      <td>2</td>\n",
              "      <td>0</td>\n",
              "      <td>1</td>\n",
              "      <td>2</td>\n",
              "      <td>96.20</td>\n",
              "      <td>2767</td>\n",
              "    </tr>\n",
              "    <tr>\n",
              "      <th>4058</th>\n",
              "      <td>0</td>\n",
              "      <td>0</td>\n",
              "      <td>1</td>\n",
              "      <td>1</td>\n",
              "      <td>40</td>\n",
              "      <td>1</td>\n",
              "      <td>2</td>\n",
              "      <td>1</td>\n",
              "      <td>0</td>\n",
              "      <td>0</td>\n",
              "      <td>2</td>\n",
              "      <td>2</td>\n",
              "      <td>0</td>\n",
              "      <td>0</td>\n",
              "      <td>0</td>\n",
              "      <td>1</td>\n",
              "      <td>2</td>\n",
              "      <td>84.85</td>\n",
              "      <td>2870</td>\n",
              "    </tr>\n",
              "    <tr>\n",
              "      <th>7089</th>\n",
              "      <td>1</td>\n",
              "      <td>0</td>\n",
              "      <td>0</td>\n",
              "      <td>0</td>\n",
              "      <td>24</td>\n",
              "      <td>1</td>\n",
              "      <td>0</td>\n",
              "      <td>1</td>\n",
              "      <td>0</td>\n",
              "      <td>0</td>\n",
              "      <td>0</td>\n",
              "      <td>2</td>\n",
              "      <td>2</td>\n",
              "      <td>2</td>\n",
              "      <td>0</td>\n",
              "      <td>1</td>\n",
              "      <td>2</td>\n",
              "      <td>96.00</td>\n",
              "      <td>1750</td>\n",
              "    </tr>\n",
              "  </tbody>\n",
              "</table>\n",
              "</div>\n",
              "    <div class=\"colab-df-buttons\">\n",
              "\n",
              "  <div class=\"colab-df-container\">\n",
              "    <button class=\"colab-df-convert\" onclick=\"convertToInteractive('df-b0ead271-881f-4664-97c4-eff63849d56c')\"\n",
              "            title=\"Convert this dataframe to an interactive table.\"\n",
              "            style=\"display:none;\">\n",
              "\n",
              "  <svg xmlns=\"http://www.w3.org/2000/svg\" height=\"24px\" viewBox=\"0 -960 960 960\">\n",
              "    <path d=\"M120-120v-720h720v720H120Zm60-500h600v-160H180v160Zm220 220h160v-160H400v160Zm0 220h160v-160H400v160ZM180-400h160v-160H180v160Zm440 0h160v-160H620v160ZM180-180h160v-160H180v160Zm440 0h160v-160H620v160Z\"/>\n",
              "  </svg>\n",
              "    </button>\n",
              "\n",
              "  <style>\n",
              "    .colab-df-container {\n",
              "      display:flex;\n",
              "      gap: 12px;\n",
              "    }\n",
              "\n",
              "    .colab-df-convert {\n",
              "      background-color: #E8F0FE;\n",
              "      border: none;\n",
              "      border-radius: 50%;\n",
              "      cursor: pointer;\n",
              "      display: none;\n",
              "      fill: #1967D2;\n",
              "      height: 32px;\n",
              "      padding: 0 0 0 0;\n",
              "      width: 32px;\n",
              "    }\n",
              "\n",
              "    .colab-df-convert:hover {\n",
              "      background-color: #E2EBFA;\n",
              "      box-shadow: 0px 1px 2px rgba(60, 64, 67, 0.3), 0px 1px 3px 1px rgba(60, 64, 67, 0.15);\n",
              "      fill: #174EA6;\n",
              "    }\n",
              "\n",
              "    .colab-df-buttons div {\n",
              "      margin-bottom: 4px;\n",
              "    }\n",
              "\n",
              "    [theme=dark] .colab-df-convert {\n",
              "      background-color: #3B4455;\n",
              "      fill: #D2E3FC;\n",
              "    }\n",
              "\n",
              "    [theme=dark] .colab-df-convert:hover {\n",
              "      background-color: #434B5C;\n",
              "      box-shadow: 0px 1px 3px 1px rgba(0, 0, 0, 0.15);\n",
              "      filter: drop-shadow(0px 1px 2px rgba(0, 0, 0, 0.3));\n",
              "      fill: #FFFFFF;\n",
              "    }\n",
              "  </style>\n",
              "\n",
              "    <script>\n",
              "      const buttonEl =\n",
              "        document.querySelector('#df-b0ead271-881f-4664-97c4-eff63849d56c button.colab-df-convert');\n",
              "      buttonEl.style.display =\n",
              "        google.colab.kernel.accessAllowed ? 'block' : 'none';\n",
              "\n",
              "      async function convertToInteractive(key) {\n",
              "        const element = document.querySelector('#df-b0ead271-881f-4664-97c4-eff63849d56c');\n",
              "        const dataTable =\n",
              "          await google.colab.kernel.invokeFunction('convertToInteractive',\n",
              "                                                    [key], {});\n",
              "        if (!dataTable) return;\n",
              "\n",
              "        const docLinkHtml = 'Like what you see? Visit the ' +\n",
              "          '<a target=\"_blank\" href=https://colab.research.google.com/notebooks/data_table.ipynb>data table notebook</a>'\n",
              "          + ' to learn more about interactive tables.';\n",
              "        element.innerHTML = '';\n",
              "        dataTable['output_type'] = 'display_data';\n",
              "        await google.colab.output.renderOutput(dataTable, element);\n",
              "        const docLink = document.createElement('div');\n",
              "        docLink.innerHTML = docLinkHtml;\n",
              "        element.appendChild(docLink);\n",
              "      }\n",
              "    </script>\n",
              "  </div>\n",
              "\n",
              "\n",
              "<div id=\"df-c356cf77-de24-4b72-baad-1e3f893e5984\">\n",
              "  <button class=\"colab-df-quickchart\" onclick=\"quickchart('df-c356cf77-de24-4b72-baad-1e3f893e5984')\"\n",
              "            title=\"Suggest charts.\"\n",
              "            style=\"display:none;\">\n",
              "\n",
              "<svg xmlns=\"http://www.w3.org/2000/svg\" height=\"24px\"viewBox=\"0 0 24 24\"\n",
              "     width=\"24px\">\n",
              "    <g>\n",
              "        <path d=\"M19 3H5c-1.1 0-2 .9-2 2v14c0 1.1.9 2 2 2h14c1.1 0 2-.9 2-2V5c0-1.1-.9-2-2-2zM9 17H7v-7h2v7zm4 0h-2V7h2v10zm4 0h-2v-4h2v4z\"/>\n",
              "    </g>\n",
              "</svg>\n",
              "  </button>\n",
              "\n",
              "<style>\n",
              "  .colab-df-quickchart {\n",
              "      --bg-color: #E8F0FE;\n",
              "      --fill-color: #1967D2;\n",
              "      --hover-bg-color: #E2EBFA;\n",
              "      --hover-fill-color: #174EA6;\n",
              "      --disabled-fill-color: #AAA;\n",
              "      --disabled-bg-color: #DDD;\n",
              "  }\n",
              "\n",
              "  [theme=dark] .colab-df-quickchart {\n",
              "      --bg-color: #3B4455;\n",
              "      --fill-color: #D2E3FC;\n",
              "      --hover-bg-color: #434B5C;\n",
              "      --hover-fill-color: #FFFFFF;\n",
              "      --disabled-bg-color: #3B4455;\n",
              "      --disabled-fill-color: #666;\n",
              "  }\n",
              "\n",
              "  .colab-df-quickchart {\n",
              "    background-color: var(--bg-color);\n",
              "    border: none;\n",
              "    border-radius: 50%;\n",
              "    cursor: pointer;\n",
              "    display: none;\n",
              "    fill: var(--fill-color);\n",
              "    height: 32px;\n",
              "    padding: 0;\n",
              "    width: 32px;\n",
              "  }\n",
              "\n",
              "  .colab-df-quickchart:hover {\n",
              "    background-color: var(--hover-bg-color);\n",
              "    box-shadow: 0 1px 2px rgba(60, 64, 67, 0.3), 0 1px 3px 1px rgba(60, 64, 67, 0.15);\n",
              "    fill: var(--button-hover-fill-color);\n",
              "  }\n",
              "\n",
              "  .colab-df-quickchart-complete:disabled,\n",
              "  .colab-df-quickchart-complete:disabled:hover {\n",
              "    background-color: var(--disabled-bg-color);\n",
              "    fill: var(--disabled-fill-color);\n",
              "    box-shadow: none;\n",
              "  }\n",
              "\n",
              "  .colab-df-spinner {\n",
              "    border: 2px solid var(--fill-color);\n",
              "    border-color: transparent;\n",
              "    border-bottom-color: var(--fill-color);\n",
              "    animation:\n",
              "      spin 1s steps(1) infinite;\n",
              "  }\n",
              "\n",
              "  @keyframes spin {\n",
              "    0% {\n",
              "      border-color: transparent;\n",
              "      border-bottom-color: var(--fill-color);\n",
              "      border-left-color: var(--fill-color);\n",
              "    }\n",
              "    20% {\n",
              "      border-color: transparent;\n",
              "      border-left-color: var(--fill-color);\n",
              "      border-top-color: var(--fill-color);\n",
              "    }\n",
              "    30% {\n",
              "      border-color: transparent;\n",
              "      border-left-color: var(--fill-color);\n",
              "      border-top-color: var(--fill-color);\n",
              "      border-right-color: var(--fill-color);\n",
              "    }\n",
              "    40% {\n",
              "      border-color: transparent;\n",
              "      border-right-color: var(--fill-color);\n",
              "      border-top-color: var(--fill-color);\n",
              "    }\n",
              "    60% {\n",
              "      border-color: transparent;\n",
              "      border-right-color: var(--fill-color);\n",
              "    }\n",
              "    80% {\n",
              "      border-color: transparent;\n",
              "      border-right-color: var(--fill-color);\n",
              "      border-bottom-color: var(--fill-color);\n",
              "    }\n",
              "    90% {\n",
              "      border-color: transparent;\n",
              "      border-bottom-color: var(--fill-color);\n",
              "    }\n",
              "  }\n",
              "</style>\n",
              "\n",
              "  <script>\n",
              "    async function quickchart(key) {\n",
              "      const quickchartButtonEl =\n",
              "        document.querySelector('#' + key + ' button');\n",
              "      quickchartButtonEl.disabled = true;  // To prevent multiple clicks.\n",
              "      quickchartButtonEl.classList.add('colab-df-spinner');\n",
              "      try {\n",
              "        const charts = await google.colab.kernel.invokeFunction(\n",
              "            'suggestCharts', [key], {});\n",
              "      } catch (error) {\n",
              "        console.error('Error during call to suggestCharts:', error);\n",
              "      }\n",
              "      quickchartButtonEl.classList.remove('colab-df-spinner');\n",
              "      quickchartButtonEl.classList.add('colab-df-quickchart-complete');\n",
              "    }\n",
              "    (() => {\n",
              "      let quickchartButtonEl =\n",
              "        document.querySelector('#df-c356cf77-de24-4b72-baad-1e3f893e5984 button');\n",
              "      quickchartButtonEl.style.display =\n",
              "        google.colab.kernel.accessAllowed ? 'block' : 'none';\n",
              "    })();\n",
              "  </script>\n",
              "</div>\n",
              "    </div>\n",
              "  </div>\n"
            ]
          },
          "metadata": {},
          "execution_count": 82
        }
      ]
    },
    {
      "cell_type": "code",
      "source": [
        "y_train.head()"
      ],
      "metadata": {
        "colab": {
          "base_uri": "https://localhost:8080/"
        },
        "id": "mc4be8bb6Xia",
        "outputId": "0f386ce9-97cd-4827-815e-de50a6ebdca4"
      },
      "execution_count": null,
      "outputs": [
        {
          "output_type": "execute_result",
          "data": {
            "text/plain": [
              "3520     0\n",
              "5262     0\n",
              "10333    1\n",
              "4058     1\n",
              "7089     1\n",
              "Name: Churn, dtype: int64"
            ]
          },
          "metadata": {},
          "execution_count": 83
        }
      ]
    },
    {
      "cell_type": "code",
      "source": [
        "#Model\n",
        "from sklearn import tree"
      ],
      "metadata": {
        "id": "0nlSha_g0cz6"
      },
      "execution_count": null,
      "outputs": []
    },
    {
      "cell_type": "code",
      "source": [
        "clf=tree.DecisionTreeClassifier()"
      ],
      "metadata": {
        "id": "OikBu_1r0cwM"
      },
      "execution_count": null,
      "outputs": []
    },
    {
      "cell_type": "code",
      "source": [
        "clf.fit(x_train,y_train)"
      ],
      "metadata": {
        "colab": {
          "base_uri": "https://localhost:8080/",
          "height": 75
        },
        "id": "uaFIcH7R0cpO",
        "outputId": "62c66c40-59a3-475d-eef2-fbbf2bd56742"
      },
      "execution_count": null,
      "outputs": [
        {
          "output_type": "execute_result",
          "data": {
            "text/plain": [
              "DecisionTreeClassifier()"
            ],
            "text/html": [
              "<style>#sk-container-id-1 {color: black;background-color: white;}#sk-container-id-1 pre{padding: 0;}#sk-container-id-1 div.sk-toggleable {background-color: white;}#sk-container-id-1 label.sk-toggleable__label {cursor: pointer;display: block;width: 100%;margin-bottom: 0;padding: 0.3em;box-sizing: border-box;text-align: center;}#sk-container-id-1 label.sk-toggleable__label-arrow:before {content: \"▸\";float: left;margin-right: 0.25em;color: #696969;}#sk-container-id-1 label.sk-toggleable__label-arrow:hover:before {color: black;}#sk-container-id-1 div.sk-estimator:hover label.sk-toggleable__label-arrow:before {color: black;}#sk-container-id-1 div.sk-toggleable__content {max-height: 0;max-width: 0;overflow: hidden;text-align: left;background-color: #f0f8ff;}#sk-container-id-1 div.sk-toggleable__content pre {margin: 0.2em;color: black;border-radius: 0.25em;background-color: #f0f8ff;}#sk-container-id-1 input.sk-toggleable__control:checked~div.sk-toggleable__content {max-height: 200px;max-width: 100%;overflow: auto;}#sk-container-id-1 input.sk-toggleable__control:checked~label.sk-toggleable__label-arrow:before {content: \"▾\";}#sk-container-id-1 div.sk-estimator input.sk-toggleable__control:checked~label.sk-toggleable__label {background-color: #d4ebff;}#sk-container-id-1 div.sk-label input.sk-toggleable__control:checked~label.sk-toggleable__label {background-color: #d4ebff;}#sk-container-id-1 input.sk-hidden--visually {border: 0;clip: rect(1px 1px 1px 1px);clip: rect(1px, 1px, 1px, 1px);height: 1px;margin: -1px;overflow: hidden;padding: 0;position: absolute;width: 1px;}#sk-container-id-1 div.sk-estimator {font-family: monospace;background-color: #f0f8ff;border: 1px dotted black;border-radius: 0.25em;box-sizing: border-box;margin-bottom: 0.5em;}#sk-container-id-1 div.sk-estimator:hover {background-color: #d4ebff;}#sk-container-id-1 div.sk-parallel-item::after {content: \"\";width: 100%;border-bottom: 1px solid gray;flex-grow: 1;}#sk-container-id-1 div.sk-label:hover label.sk-toggleable__label {background-color: #d4ebff;}#sk-container-id-1 div.sk-serial::before {content: \"\";position: absolute;border-left: 1px solid gray;box-sizing: border-box;top: 0;bottom: 0;left: 50%;z-index: 0;}#sk-container-id-1 div.sk-serial {display: flex;flex-direction: column;align-items: center;background-color: white;padding-right: 0.2em;padding-left: 0.2em;position: relative;}#sk-container-id-1 div.sk-item {position: relative;z-index: 1;}#sk-container-id-1 div.sk-parallel {display: flex;align-items: stretch;justify-content: center;background-color: white;position: relative;}#sk-container-id-1 div.sk-item::before, #sk-container-id-1 div.sk-parallel-item::before {content: \"\";position: absolute;border-left: 1px solid gray;box-sizing: border-box;top: 0;bottom: 0;left: 50%;z-index: -1;}#sk-container-id-1 div.sk-parallel-item {display: flex;flex-direction: column;z-index: 1;position: relative;background-color: white;}#sk-container-id-1 div.sk-parallel-item:first-child::after {align-self: flex-end;width: 50%;}#sk-container-id-1 div.sk-parallel-item:last-child::after {align-self: flex-start;width: 50%;}#sk-container-id-1 div.sk-parallel-item:only-child::after {width: 0;}#sk-container-id-1 div.sk-dashed-wrapped {border: 1px dashed gray;margin: 0 0.4em 0.5em 0.4em;box-sizing: border-box;padding-bottom: 0.4em;background-color: white;}#sk-container-id-1 div.sk-label label {font-family: monospace;font-weight: bold;display: inline-block;line-height: 1.2em;}#sk-container-id-1 div.sk-label-container {text-align: center;}#sk-container-id-1 div.sk-container {/* jupyter's `normalize.less` sets `[hidden] { display: none; }` but bootstrap.min.css set `[hidden] { display: none !important; }` so we also need the `!important` here to be able to override the default hidden behavior on the sphinx rendered scikit-learn.org. See: https://github.com/scikit-learn/scikit-learn/issues/21755 */display: inline-block !important;position: relative;}#sk-container-id-1 div.sk-text-repr-fallback {display: none;}</style><div id=\"sk-container-id-1\" class=\"sk-top-container\"><div class=\"sk-text-repr-fallback\"><pre>DecisionTreeClassifier()</pre><b>In a Jupyter environment, please rerun this cell to show the HTML representation or trust the notebook. <br />On GitHub, the HTML representation is unable to render, please try loading this page with nbviewer.org.</b></div><div class=\"sk-container\" hidden><div class=\"sk-item\"><div class=\"sk-estimator sk-toggleable\"><input class=\"sk-toggleable__control sk-hidden--visually\" id=\"sk-estimator-id-1\" type=\"checkbox\" checked><label for=\"sk-estimator-id-1\" class=\"sk-toggleable__label sk-toggleable__label-arrow\">DecisionTreeClassifier</label><div class=\"sk-toggleable__content\"><pre>DecisionTreeClassifier()</pre></div></div></div></div></div>"
            ]
          },
          "metadata": {},
          "execution_count": 86
        }
      ]
    },
    {
      "cell_type": "code",
      "source": [
        "clf.score(x_test,y_test)"
      ],
      "metadata": {
        "colab": {
          "base_uri": "https://localhost:8080/"
        },
        "id": "yok1pQvI0clx",
        "outputId": "d22d8f41-488f-4468-91c4-14ad0d5769a8"
      },
      "execution_count": null,
      "outputs": [
        {
          "output_type": "execute_result",
          "data": {
            "text/plain": [
              "0.8627754155392346"
            ]
          },
          "metadata": {},
          "execution_count": 87
        }
      ]
    },
    {
      "cell_type": "markdown",
      "source": [
        "# **Without Sampling**\n",
        "\n",
        "> Here x & y are imbalanced old data\n",
        "\n"
      ],
      "metadata": {
        "id": "xSC-kkxd7IT3"
      }
    },
    {
      "cell_type": "code",
      "source": [
        "x.shape"
      ],
      "metadata": {
        "colab": {
          "base_uri": "https://localhost:8080/"
        },
        "id": "pZx0s2Zx0ch6",
        "outputId": "ea0bfa33-8112-450b-8e09-0097f722ad39"
      },
      "execution_count": null,
      "outputs": [
        {
          "output_type": "execute_result",
          "data": {
            "text/plain": [
              "(7043, 19)"
            ]
          },
          "metadata": {},
          "execution_count": 88
        }
      ]
    },
    {
      "cell_type": "code",
      "source": [
        "y.shape"
      ],
      "metadata": {
        "colab": {
          "base_uri": "https://localhost:8080/"
        },
        "id": "_IL5Rkw20cfE",
        "outputId": "c9c1a2d9-df9a-4224-9aa6-b1ade9385cc2"
      },
      "execution_count": null,
      "outputs": [
        {
          "output_type": "execute_result",
          "data": {
            "text/plain": [
              "(7043,)"
            ]
          },
          "metadata": {},
          "execution_count": 89
        }
      ]
    },
    {
      "cell_type": "code",
      "source": [
        "xtrain1,xtest1,ytrain1,ytest1=train_test_split(x,y,train_size=0.75,random_state=42)"
      ],
      "metadata": {
        "id": "Ei-dFMMq0cbl"
      },
      "execution_count": null,
      "outputs": []
    },
    {
      "cell_type": "code",
      "source": [
        "clf.fit(xtrain1,ytrain1)"
      ],
      "metadata": {
        "colab": {
          "base_uri": "https://localhost:8080/",
          "height": 75
        },
        "id": "O1KRGD7u0cYd",
        "outputId": "c9ba5d61-4496-4f08-cb8a-b27a3921c468"
      },
      "execution_count": null,
      "outputs": [
        {
          "output_type": "execute_result",
          "data": {
            "text/plain": [
              "DecisionTreeClassifier()"
            ],
            "text/html": [
              "<style>#sk-container-id-2 {color: black;background-color: white;}#sk-container-id-2 pre{padding: 0;}#sk-container-id-2 div.sk-toggleable {background-color: white;}#sk-container-id-2 label.sk-toggleable__label {cursor: pointer;display: block;width: 100%;margin-bottom: 0;padding: 0.3em;box-sizing: border-box;text-align: center;}#sk-container-id-2 label.sk-toggleable__label-arrow:before {content: \"▸\";float: left;margin-right: 0.25em;color: #696969;}#sk-container-id-2 label.sk-toggleable__label-arrow:hover:before {color: black;}#sk-container-id-2 div.sk-estimator:hover label.sk-toggleable__label-arrow:before {color: black;}#sk-container-id-2 div.sk-toggleable__content {max-height: 0;max-width: 0;overflow: hidden;text-align: left;background-color: #f0f8ff;}#sk-container-id-2 div.sk-toggleable__content pre {margin: 0.2em;color: black;border-radius: 0.25em;background-color: #f0f8ff;}#sk-container-id-2 input.sk-toggleable__control:checked~div.sk-toggleable__content {max-height: 200px;max-width: 100%;overflow: auto;}#sk-container-id-2 input.sk-toggleable__control:checked~label.sk-toggleable__label-arrow:before {content: \"▾\";}#sk-container-id-2 div.sk-estimator input.sk-toggleable__control:checked~label.sk-toggleable__label {background-color: #d4ebff;}#sk-container-id-2 div.sk-label input.sk-toggleable__control:checked~label.sk-toggleable__label {background-color: #d4ebff;}#sk-container-id-2 input.sk-hidden--visually {border: 0;clip: rect(1px 1px 1px 1px);clip: rect(1px, 1px, 1px, 1px);height: 1px;margin: -1px;overflow: hidden;padding: 0;position: absolute;width: 1px;}#sk-container-id-2 div.sk-estimator {font-family: monospace;background-color: #f0f8ff;border: 1px dotted black;border-radius: 0.25em;box-sizing: border-box;margin-bottom: 0.5em;}#sk-container-id-2 div.sk-estimator:hover {background-color: #d4ebff;}#sk-container-id-2 div.sk-parallel-item::after {content: \"\";width: 100%;border-bottom: 1px solid gray;flex-grow: 1;}#sk-container-id-2 div.sk-label:hover label.sk-toggleable__label {background-color: #d4ebff;}#sk-container-id-2 div.sk-serial::before {content: \"\";position: absolute;border-left: 1px solid gray;box-sizing: border-box;top: 0;bottom: 0;left: 50%;z-index: 0;}#sk-container-id-2 div.sk-serial {display: flex;flex-direction: column;align-items: center;background-color: white;padding-right: 0.2em;padding-left: 0.2em;position: relative;}#sk-container-id-2 div.sk-item {position: relative;z-index: 1;}#sk-container-id-2 div.sk-parallel {display: flex;align-items: stretch;justify-content: center;background-color: white;position: relative;}#sk-container-id-2 div.sk-item::before, #sk-container-id-2 div.sk-parallel-item::before {content: \"\";position: absolute;border-left: 1px solid gray;box-sizing: border-box;top: 0;bottom: 0;left: 50%;z-index: -1;}#sk-container-id-2 div.sk-parallel-item {display: flex;flex-direction: column;z-index: 1;position: relative;background-color: white;}#sk-container-id-2 div.sk-parallel-item:first-child::after {align-self: flex-end;width: 50%;}#sk-container-id-2 div.sk-parallel-item:last-child::after {align-self: flex-start;width: 50%;}#sk-container-id-2 div.sk-parallel-item:only-child::after {width: 0;}#sk-container-id-2 div.sk-dashed-wrapped {border: 1px dashed gray;margin: 0 0.4em 0.5em 0.4em;box-sizing: border-box;padding-bottom: 0.4em;background-color: white;}#sk-container-id-2 div.sk-label label {font-family: monospace;font-weight: bold;display: inline-block;line-height: 1.2em;}#sk-container-id-2 div.sk-label-container {text-align: center;}#sk-container-id-2 div.sk-container {/* jupyter's `normalize.less` sets `[hidden] { display: none; }` but bootstrap.min.css set `[hidden] { display: none !important; }` so we also need the `!important` here to be able to override the default hidden behavior on the sphinx rendered scikit-learn.org. See: https://github.com/scikit-learn/scikit-learn/issues/21755 */display: inline-block !important;position: relative;}#sk-container-id-2 div.sk-text-repr-fallback {display: none;}</style><div id=\"sk-container-id-2\" class=\"sk-top-container\"><div class=\"sk-text-repr-fallback\"><pre>DecisionTreeClassifier()</pre><b>In a Jupyter environment, please rerun this cell to show the HTML representation or trust the notebook. <br />On GitHub, the HTML representation is unable to render, please try loading this page with nbviewer.org.</b></div><div class=\"sk-container\" hidden><div class=\"sk-item\"><div class=\"sk-estimator sk-toggleable\"><input class=\"sk-toggleable__control sk-hidden--visually\" id=\"sk-estimator-id-2\" type=\"checkbox\" checked><label for=\"sk-estimator-id-2\" class=\"sk-toggleable__label sk-toggleable__label-arrow\">DecisionTreeClassifier</label><div class=\"sk-toggleable__content\"><pre>DecisionTreeClassifier()</pre></div></div></div></div></div>"
            ]
          },
          "metadata": {},
          "execution_count": 91
        }
      ]
    },
    {
      "cell_type": "code",
      "source": [
        "clf.score(xtest1,ytest1)"
      ],
      "metadata": {
        "colab": {
          "base_uri": "https://localhost:8080/"
        },
        "id": "hDfPBgNO0cU7",
        "outputId": "3915bc7a-3687-41b7-aff6-94d38542c281"
      },
      "execution_count": null,
      "outputs": [
        {
          "output_type": "execute_result",
          "data": {
            "text/plain": [
              "0.730266893810335"
            ]
          },
          "metadata": {},
          "execution_count": 92
        }
      ]
    },
    {
      "cell_type": "markdown",
      "source": [
        "# **XGBoost Classifier**"
      ],
      "metadata": {
        "id": "P71Gk3Jf8XA4"
      }
    },
    {
      "cell_type": "code",
      "source": [
        "from xgboost import XGBClassifier"
      ],
      "metadata": {
        "id": "IzS29Tk80cRt"
      },
      "execution_count": null,
      "outputs": []
    },
    {
      "cell_type": "code",
      "source": [
        "xgb=XGBClassifier()"
      ],
      "metadata": {
        "id": "TAkYav_A0cOK"
      },
      "execution_count": null,
      "outputs": []
    },
    {
      "cell_type": "code",
      "source": [
        "xgb.fit(x_train,y_train)"
      ],
      "metadata": {
        "colab": {
          "base_uri": "https://localhost:8080/",
          "height": 52
        },
        "id": "KgRmu5gr8qdE",
        "outputId": "845de4d1-609b-4305-b2f8-ff658b391aa1"
      },
      "execution_count": null,
      "outputs": [
        {
          "output_type": "execute_result",
          "data": {
            "text/plain": [
              "XGBClassifier(base_score=None, booster=None, callbacks=None,\n",
              "              colsample_bylevel=None, colsample_bynode=None,\n",
              "              colsample_bytree=None, early_stopping_rounds=None,\n",
              "              enable_categorical=False, eval_metric=None, feature_types=None,\n",
              "              gamma=None, gpu_id=None, grow_policy=None, importance_type=None,\n",
              "              interaction_constraints=None, learning_rate=None, max_bin=None,\n",
              "              max_cat_threshold=None, max_cat_to_onehot=None,\n",
              "              max_delta_step=None, max_depth=None, max_leaves=None,\n",
              "              min_child_weight=None, missing=nan, monotone_constraints=None,\n",
              "              n_estimators=100, n_jobs=None, num_parallel_tree=None,\n",
              "              predictor=None, random_state=None, ...)"
            ],
            "text/html": [
              "<style>#sk-container-id-3 {color: black;background-color: white;}#sk-container-id-3 pre{padding: 0;}#sk-container-id-3 div.sk-toggleable {background-color: white;}#sk-container-id-3 label.sk-toggleable__label {cursor: pointer;display: block;width: 100%;margin-bottom: 0;padding: 0.3em;box-sizing: border-box;text-align: center;}#sk-container-id-3 label.sk-toggleable__label-arrow:before {content: \"▸\";float: left;margin-right: 0.25em;color: #696969;}#sk-container-id-3 label.sk-toggleable__label-arrow:hover:before {color: black;}#sk-container-id-3 div.sk-estimator:hover label.sk-toggleable__label-arrow:before {color: black;}#sk-container-id-3 div.sk-toggleable__content {max-height: 0;max-width: 0;overflow: hidden;text-align: left;background-color: #f0f8ff;}#sk-container-id-3 div.sk-toggleable__content pre {margin: 0.2em;color: black;border-radius: 0.25em;background-color: #f0f8ff;}#sk-container-id-3 input.sk-toggleable__control:checked~div.sk-toggleable__content {max-height: 200px;max-width: 100%;overflow: auto;}#sk-container-id-3 input.sk-toggleable__control:checked~label.sk-toggleable__label-arrow:before {content: \"▾\";}#sk-container-id-3 div.sk-estimator input.sk-toggleable__control:checked~label.sk-toggleable__label {background-color: #d4ebff;}#sk-container-id-3 div.sk-label input.sk-toggleable__control:checked~label.sk-toggleable__label {background-color: #d4ebff;}#sk-container-id-3 input.sk-hidden--visually {border: 0;clip: rect(1px 1px 1px 1px);clip: rect(1px, 1px, 1px, 1px);height: 1px;margin: -1px;overflow: hidden;padding: 0;position: absolute;width: 1px;}#sk-container-id-3 div.sk-estimator {font-family: monospace;background-color: #f0f8ff;border: 1px dotted black;border-radius: 0.25em;box-sizing: border-box;margin-bottom: 0.5em;}#sk-container-id-3 div.sk-estimator:hover {background-color: #d4ebff;}#sk-container-id-3 div.sk-parallel-item::after {content: \"\";width: 100%;border-bottom: 1px solid gray;flex-grow: 1;}#sk-container-id-3 div.sk-label:hover label.sk-toggleable__label {background-color: #d4ebff;}#sk-container-id-3 div.sk-serial::before {content: \"\";position: absolute;border-left: 1px solid gray;box-sizing: border-box;top: 0;bottom: 0;left: 50%;z-index: 0;}#sk-container-id-3 div.sk-serial {display: flex;flex-direction: column;align-items: center;background-color: white;padding-right: 0.2em;padding-left: 0.2em;position: relative;}#sk-container-id-3 div.sk-item {position: relative;z-index: 1;}#sk-container-id-3 div.sk-parallel {display: flex;align-items: stretch;justify-content: center;background-color: white;position: relative;}#sk-container-id-3 div.sk-item::before, #sk-container-id-3 div.sk-parallel-item::before {content: \"\";position: absolute;border-left: 1px solid gray;box-sizing: border-box;top: 0;bottom: 0;left: 50%;z-index: -1;}#sk-container-id-3 div.sk-parallel-item {display: flex;flex-direction: column;z-index: 1;position: relative;background-color: white;}#sk-container-id-3 div.sk-parallel-item:first-child::after {align-self: flex-end;width: 50%;}#sk-container-id-3 div.sk-parallel-item:last-child::after {align-self: flex-start;width: 50%;}#sk-container-id-3 div.sk-parallel-item:only-child::after {width: 0;}#sk-container-id-3 div.sk-dashed-wrapped {border: 1px dashed gray;margin: 0 0.4em 0.5em 0.4em;box-sizing: border-box;padding-bottom: 0.4em;background-color: white;}#sk-container-id-3 div.sk-label label {font-family: monospace;font-weight: bold;display: inline-block;line-height: 1.2em;}#sk-container-id-3 div.sk-label-container {text-align: center;}#sk-container-id-3 div.sk-container {/* jupyter's `normalize.less` sets `[hidden] { display: none; }` but bootstrap.min.css set `[hidden] { display: none !important; }` so we also need the `!important` here to be able to override the default hidden behavior on the sphinx rendered scikit-learn.org. See: https://github.com/scikit-learn/scikit-learn/issues/21755 */display: inline-block !important;position: relative;}#sk-container-id-3 div.sk-text-repr-fallback {display: none;}</style><div id=\"sk-container-id-3\" class=\"sk-top-container\"><div class=\"sk-text-repr-fallback\"><pre>XGBClassifier(base_score=None, booster=None, callbacks=None,\n",
              "              colsample_bylevel=None, colsample_bynode=None,\n",
              "              colsample_bytree=None, early_stopping_rounds=None,\n",
              "              enable_categorical=False, eval_metric=None, feature_types=None,\n",
              "              gamma=None, gpu_id=None, grow_policy=None, importance_type=None,\n",
              "              interaction_constraints=None, learning_rate=None, max_bin=None,\n",
              "              max_cat_threshold=None, max_cat_to_onehot=None,\n",
              "              max_delta_step=None, max_depth=None, max_leaves=None,\n",
              "              min_child_weight=None, missing=nan, monotone_constraints=None,\n",
              "              n_estimators=100, n_jobs=None, num_parallel_tree=None,\n",
              "              predictor=None, random_state=None, ...)</pre><b>In a Jupyter environment, please rerun this cell to show the HTML representation or trust the notebook. <br />On GitHub, the HTML representation is unable to render, please try loading this page with nbviewer.org.</b></div><div class=\"sk-container\" hidden><div class=\"sk-item\"><div class=\"sk-estimator sk-toggleable\"><input class=\"sk-toggleable__control sk-hidden--visually\" id=\"sk-estimator-id-3\" type=\"checkbox\" checked><label for=\"sk-estimator-id-3\" class=\"sk-toggleable__label sk-toggleable__label-arrow\">XGBClassifier</label><div class=\"sk-toggleable__content\"><pre>XGBClassifier(base_score=None, booster=None, callbacks=None,\n",
              "              colsample_bylevel=None, colsample_bynode=None,\n",
              "              colsample_bytree=None, early_stopping_rounds=None,\n",
              "              enable_categorical=False, eval_metric=None, feature_types=None,\n",
              "              gamma=None, gpu_id=None, grow_policy=None, importance_type=None,\n",
              "              interaction_constraints=None, learning_rate=None, max_bin=None,\n",
              "              max_cat_threshold=None, max_cat_to_onehot=None,\n",
              "              max_delta_step=None, max_depth=None, max_leaves=None,\n",
              "              min_child_weight=None, missing=nan, monotone_constraints=None,\n",
              "              n_estimators=100, n_jobs=None, num_parallel_tree=None,\n",
              "              predictor=None, random_state=None, ...)</pre></div></div></div></div></div>"
            ]
          },
          "metadata": {},
          "execution_count": 95
        }
      ]
    },
    {
      "cell_type": "code",
      "source": [
        "xgb.score(x_test,y_test)"
      ],
      "metadata": {
        "colab": {
          "base_uri": "https://localhost:8080/"
        },
        "id": "sIpnKebi8qW7",
        "outputId": "40efca2b-670a-4645-f46f-243461bbc4a1"
      },
      "execution_count": null,
      "outputs": [
        {
          "output_type": "execute_result",
          "data": {
            "text/plain": [
              "0.860456126787785"
            ]
          },
          "metadata": {},
          "execution_count": 96
        }
      ]
    },
    {
      "cell_type": "markdown",
      "source": [
        "# **Before Sampling**"
      ],
      "metadata": {
        "id": "nnZehp5M86CF"
      }
    },
    {
      "cell_type": "code",
      "source": [
        "xgb.fit(xtrain1,ytrain1)"
      ],
      "metadata": {
        "colab": {
          "base_uri": "https://localhost:8080/",
          "height": 52
        },
        "id": "SSI-ov4_8qTo",
        "outputId": "21b6b2ff-3f5f-48a4-c08f-dcc79f657cb2"
      },
      "execution_count": null,
      "outputs": [
        {
          "output_type": "execute_result",
          "data": {
            "text/plain": [
              "XGBClassifier(base_score=None, booster=None, callbacks=None,\n",
              "              colsample_bylevel=None, colsample_bynode=None,\n",
              "              colsample_bytree=None, early_stopping_rounds=None,\n",
              "              enable_categorical=False, eval_metric=None, feature_types=None,\n",
              "              gamma=None, gpu_id=None, grow_policy=None, importance_type=None,\n",
              "              interaction_constraints=None, learning_rate=None, max_bin=None,\n",
              "              max_cat_threshold=None, max_cat_to_onehot=None,\n",
              "              max_delta_step=None, max_depth=None, max_leaves=None,\n",
              "              min_child_weight=None, missing=nan, monotone_constraints=None,\n",
              "              n_estimators=100, n_jobs=None, num_parallel_tree=None,\n",
              "              predictor=None, random_state=None, ...)"
            ],
            "text/html": [
              "<style>#sk-container-id-4 {color: black;background-color: white;}#sk-container-id-4 pre{padding: 0;}#sk-container-id-4 div.sk-toggleable {background-color: white;}#sk-container-id-4 label.sk-toggleable__label {cursor: pointer;display: block;width: 100%;margin-bottom: 0;padding: 0.3em;box-sizing: border-box;text-align: center;}#sk-container-id-4 label.sk-toggleable__label-arrow:before {content: \"▸\";float: left;margin-right: 0.25em;color: #696969;}#sk-container-id-4 label.sk-toggleable__label-arrow:hover:before {color: black;}#sk-container-id-4 div.sk-estimator:hover label.sk-toggleable__label-arrow:before {color: black;}#sk-container-id-4 div.sk-toggleable__content {max-height: 0;max-width: 0;overflow: hidden;text-align: left;background-color: #f0f8ff;}#sk-container-id-4 div.sk-toggleable__content pre {margin: 0.2em;color: black;border-radius: 0.25em;background-color: #f0f8ff;}#sk-container-id-4 input.sk-toggleable__control:checked~div.sk-toggleable__content {max-height: 200px;max-width: 100%;overflow: auto;}#sk-container-id-4 input.sk-toggleable__control:checked~label.sk-toggleable__label-arrow:before {content: \"▾\";}#sk-container-id-4 div.sk-estimator input.sk-toggleable__control:checked~label.sk-toggleable__label {background-color: #d4ebff;}#sk-container-id-4 div.sk-label input.sk-toggleable__control:checked~label.sk-toggleable__label {background-color: #d4ebff;}#sk-container-id-4 input.sk-hidden--visually {border: 0;clip: rect(1px 1px 1px 1px);clip: rect(1px, 1px, 1px, 1px);height: 1px;margin: -1px;overflow: hidden;padding: 0;position: absolute;width: 1px;}#sk-container-id-4 div.sk-estimator {font-family: monospace;background-color: #f0f8ff;border: 1px dotted black;border-radius: 0.25em;box-sizing: border-box;margin-bottom: 0.5em;}#sk-container-id-4 div.sk-estimator:hover {background-color: #d4ebff;}#sk-container-id-4 div.sk-parallel-item::after {content: \"\";width: 100%;border-bottom: 1px solid gray;flex-grow: 1;}#sk-container-id-4 div.sk-label:hover label.sk-toggleable__label {background-color: #d4ebff;}#sk-container-id-4 div.sk-serial::before {content: \"\";position: absolute;border-left: 1px solid gray;box-sizing: border-box;top: 0;bottom: 0;left: 50%;z-index: 0;}#sk-container-id-4 div.sk-serial {display: flex;flex-direction: column;align-items: center;background-color: white;padding-right: 0.2em;padding-left: 0.2em;position: relative;}#sk-container-id-4 div.sk-item {position: relative;z-index: 1;}#sk-container-id-4 div.sk-parallel {display: flex;align-items: stretch;justify-content: center;background-color: white;position: relative;}#sk-container-id-4 div.sk-item::before, #sk-container-id-4 div.sk-parallel-item::before {content: \"\";position: absolute;border-left: 1px solid gray;box-sizing: border-box;top: 0;bottom: 0;left: 50%;z-index: -1;}#sk-container-id-4 div.sk-parallel-item {display: flex;flex-direction: column;z-index: 1;position: relative;background-color: white;}#sk-container-id-4 div.sk-parallel-item:first-child::after {align-self: flex-end;width: 50%;}#sk-container-id-4 div.sk-parallel-item:last-child::after {align-self: flex-start;width: 50%;}#sk-container-id-4 div.sk-parallel-item:only-child::after {width: 0;}#sk-container-id-4 div.sk-dashed-wrapped {border: 1px dashed gray;margin: 0 0.4em 0.5em 0.4em;box-sizing: border-box;padding-bottom: 0.4em;background-color: white;}#sk-container-id-4 div.sk-label label {font-family: monospace;font-weight: bold;display: inline-block;line-height: 1.2em;}#sk-container-id-4 div.sk-label-container {text-align: center;}#sk-container-id-4 div.sk-container {/* jupyter's `normalize.less` sets `[hidden] { display: none; }` but bootstrap.min.css set `[hidden] { display: none !important; }` so we also need the `!important` here to be able to override the default hidden behavior on the sphinx rendered scikit-learn.org. See: https://github.com/scikit-learn/scikit-learn/issues/21755 */display: inline-block !important;position: relative;}#sk-container-id-4 div.sk-text-repr-fallback {display: none;}</style><div id=\"sk-container-id-4\" class=\"sk-top-container\"><div class=\"sk-text-repr-fallback\"><pre>XGBClassifier(base_score=None, booster=None, callbacks=None,\n",
              "              colsample_bylevel=None, colsample_bynode=None,\n",
              "              colsample_bytree=None, early_stopping_rounds=None,\n",
              "              enable_categorical=False, eval_metric=None, feature_types=None,\n",
              "              gamma=None, gpu_id=None, grow_policy=None, importance_type=None,\n",
              "              interaction_constraints=None, learning_rate=None, max_bin=None,\n",
              "              max_cat_threshold=None, max_cat_to_onehot=None,\n",
              "              max_delta_step=None, max_depth=None, max_leaves=None,\n",
              "              min_child_weight=None, missing=nan, monotone_constraints=None,\n",
              "              n_estimators=100, n_jobs=None, num_parallel_tree=None,\n",
              "              predictor=None, random_state=None, ...)</pre><b>In a Jupyter environment, please rerun this cell to show the HTML representation or trust the notebook. <br />On GitHub, the HTML representation is unable to render, please try loading this page with nbviewer.org.</b></div><div class=\"sk-container\" hidden><div class=\"sk-item\"><div class=\"sk-estimator sk-toggleable\"><input class=\"sk-toggleable__control sk-hidden--visually\" id=\"sk-estimator-id-4\" type=\"checkbox\" checked><label for=\"sk-estimator-id-4\" class=\"sk-toggleable__label sk-toggleable__label-arrow\">XGBClassifier</label><div class=\"sk-toggleable__content\"><pre>XGBClassifier(base_score=None, booster=None, callbacks=None,\n",
              "              colsample_bylevel=None, colsample_bynode=None,\n",
              "              colsample_bytree=None, early_stopping_rounds=None,\n",
              "              enable_categorical=False, eval_metric=None, feature_types=None,\n",
              "              gamma=None, gpu_id=None, grow_policy=None, importance_type=None,\n",
              "              interaction_constraints=None, learning_rate=None, max_bin=None,\n",
              "              max_cat_threshold=None, max_cat_to_onehot=None,\n",
              "              max_delta_step=None, max_depth=None, max_leaves=None,\n",
              "              min_child_weight=None, missing=nan, monotone_constraints=None,\n",
              "              n_estimators=100, n_jobs=None, num_parallel_tree=None,\n",
              "              predictor=None, random_state=None, ...)</pre></div></div></div></div></div>"
            ]
          },
          "metadata": {},
          "execution_count": 97
        }
      ]
    },
    {
      "cell_type": "code",
      "source": [
        "xgb.score(xtrain1,ytrain1)"
      ],
      "metadata": {
        "colab": {
          "base_uri": "https://localhost:8080/"
        },
        "id": "_aW2tlSH8qQe",
        "outputId": "abff243d-520e-4e9f-d832-8af23b78d3f3"
      },
      "execution_count": null,
      "outputs": [
        {
          "output_type": "execute_result",
          "data": {
            "text/plain": [
              "0.9392275653161681"
            ]
          },
          "metadata": {},
          "execution_count": 98
        }
      ]
    },
    {
      "cell_type": "markdown",
      "source": [
        "# **Ada Boost**"
      ],
      "metadata": {
        "id": "1bXkjvtJOVtH"
      }
    },
    {
      "cell_type": "code",
      "source": [
        "from sklearn.ensemble import AdaBoostClassifier"
      ],
      "metadata": {
        "id": "up28SFmT8qNW"
      },
      "execution_count": null,
      "outputs": []
    },
    {
      "cell_type": "code",
      "source": [
        "ad_b=AdaBoostClassifier()"
      ],
      "metadata": {
        "id": "1q4YZNdGOtt-"
      },
      "execution_count": null,
      "outputs": []
    },
    {
      "cell_type": "code",
      "source": [
        "ad_b.fit(x_train,y_train)"
      ],
      "metadata": {
        "colab": {
          "base_uri": "https://localhost:8080/",
          "height": 75
        },
        "id": "KR3cBkw9OtqG",
        "outputId": "f1914d91-3334-4c86-bb9f-1b22a0440aba"
      },
      "execution_count": null,
      "outputs": [
        {
          "output_type": "execute_result",
          "data": {
            "text/plain": [
              "AdaBoostClassifier()"
            ],
            "text/html": [
              "<style>#sk-container-id-5 {color: black;background-color: white;}#sk-container-id-5 pre{padding: 0;}#sk-container-id-5 div.sk-toggleable {background-color: white;}#sk-container-id-5 label.sk-toggleable__label {cursor: pointer;display: block;width: 100%;margin-bottom: 0;padding: 0.3em;box-sizing: border-box;text-align: center;}#sk-container-id-5 label.sk-toggleable__label-arrow:before {content: \"▸\";float: left;margin-right: 0.25em;color: #696969;}#sk-container-id-5 label.sk-toggleable__label-arrow:hover:before {color: black;}#sk-container-id-5 div.sk-estimator:hover label.sk-toggleable__label-arrow:before {color: black;}#sk-container-id-5 div.sk-toggleable__content {max-height: 0;max-width: 0;overflow: hidden;text-align: left;background-color: #f0f8ff;}#sk-container-id-5 div.sk-toggleable__content pre {margin: 0.2em;color: black;border-radius: 0.25em;background-color: #f0f8ff;}#sk-container-id-5 input.sk-toggleable__control:checked~div.sk-toggleable__content {max-height: 200px;max-width: 100%;overflow: auto;}#sk-container-id-5 input.sk-toggleable__control:checked~label.sk-toggleable__label-arrow:before {content: \"▾\";}#sk-container-id-5 div.sk-estimator input.sk-toggleable__control:checked~label.sk-toggleable__label {background-color: #d4ebff;}#sk-container-id-5 div.sk-label input.sk-toggleable__control:checked~label.sk-toggleable__label {background-color: #d4ebff;}#sk-container-id-5 input.sk-hidden--visually {border: 0;clip: rect(1px 1px 1px 1px);clip: rect(1px, 1px, 1px, 1px);height: 1px;margin: -1px;overflow: hidden;padding: 0;position: absolute;width: 1px;}#sk-container-id-5 div.sk-estimator {font-family: monospace;background-color: #f0f8ff;border: 1px dotted black;border-radius: 0.25em;box-sizing: border-box;margin-bottom: 0.5em;}#sk-container-id-5 div.sk-estimator:hover {background-color: #d4ebff;}#sk-container-id-5 div.sk-parallel-item::after {content: \"\";width: 100%;border-bottom: 1px solid gray;flex-grow: 1;}#sk-container-id-5 div.sk-label:hover label.sk-toggleable__label {background-color: #d4ebff;}#sk-container-id-5 div.sk-serial::before {content: \"\";position: absolute;border-left: 1px solid gray;box-sizing: border-box;top: 0;bottom: 0;left: 50%;z-index: 0;}#sk-container-id-5 div.sk-serial {display: flex;flex-direction: column;align-items: center;background-color: white;padding-right: 0.2em;padding-left: 0.2em;position: relative;}#sk-container-id-5 div.sk-item {position: relative;z-index: 1;}#sk-container-id-5 div.sk-parallel {display: flex;align-items: stretch;justify-content: center;background-color: white;position: relative;}#sk-container-id-5 div.sk-item::before, #sk-container-id-5 div.sk-parallel-item::before {content: \"\";position: absolute;border-left: 1px solid gray;box-sizing: border-box;top: 0;bottom: 0;left: 50%;z-index: -1;}#sk-container-id-5 div.sk-parallel-item {display: flex;flex-direction: column;z-index: 1;position: relative;background-color: white;}#sk-container-id-5 div.sk-parallel-item:first-child::after {align-self: flex-end;width: 50%;}#sk-container-id-5 div.sk-parallel-item:last-child::after {align-self: flex-start;width: 50%;}#sk-container-id-5 div.sk-parallel-item:only-child::after {width: 0;}#sk-container-id-5 div.sk-dashed-wrapped {border: 1px dashed gray;margin: 0 0.4em 0.5em 0.4em;box-sizing: border-box;padding-bottom: 0.4em;background-color: white;}#sk-container-id-5 div.sk-label label {font-family: monospace;font-weight: bold;display: inline-block;line-height: 1.2em;}#sk-container-id-5 div.sk-label-container {text-align: center;}#sk-container-id-5 div.sk-container {/* jupyter's `normalize.less` sets `[hidden] { display: none; }` but bootstrap.min.css set `[hidden] { display: none !important; }` so we also need the `!important` here to be able to override the default hidden behavior on the sphinx rendered scikit-learn.org. See: https://github.com/scikit-learn/scikit-learn/issues/21755 */display: inline-block !important;position: relative;}#sk-container-id-5 div.sk-text-repr-fallback {display: none;}</style><div id=\"sk-container-id-5\" class=\"sk-top-container\"><div class=\"sk-text-repr-fallback\"><pre>AdaBoostClassifier()</pre><b>In a Jupyter environment, please rerun this cell to show the HTML representation or trust the notebook. <br />On GitHub, the HTML representation is unable to render, please try loading this page with nbviewer.org.</b></div><div class=\"sk-container\" hidden><div class=\"sk-item\"><div class=\"sk-estimator sk-toggleable\"><input class=\"sk-toggleable__control sk-hidden--visually\" id=\"sk-estimator-id-5\" type=\"checkbox\" checked><label for=\"sk-estimator-id-5\" class=\"sk-toggleable__label sk-toggleable__label-arrow\">AdaBoostClassifier</label><div class=\"sk-toggleable__content\"><pre>AdaBoostClassifier()</pre></div></div></div></div></div>"
            ]
          },
          "metadata": {},
          "execution_count": 106
        }
      ]
    },
    {
      "cell_type": "code",
      "source": [
        "ad_b.score(x_test,y_test)"
      ],
      "metadata": {
        "colab": {
          "base_uri": "https://localhost:8080/"
        },
        "id": "cJcxDoPTOtWA",
        "outputId": "28f5b3f0-825f-46f6-d663-da115d1bb50c"
      },
      "execution_count": null,
      "outputs": [
        {
          "output_type": "execute_result",
          "data": {
            "text/plain": [
              "0.7715500579822188"
            ]
          },
          "metadata": {},
          "execution_count": 107
        }
      ]
    },
    {
      "cell_type": "markdown",
      "source": [
        "**Before Sampling**"
      ],
      "metadata": {
        "id": "yyO1SnnuPYO-"
      }
    },
    {
      "cell_type": "code",
      "source": [
        "ad_b.fit(xtrain1,ytrain1)"
      ],
      "metadata": {
        "colab": {
          "base_uri": "https://localhost:8080/",
          "height": 75
        },
        "id": "AGyMIp2gOtRJ",
        "outputId": "54ebcf76-3345-467a-fc71-5720fe4feeff"
      },
      "execution_count": null,
      "outputs": [
        {
          "output_type": "execute_result",
          "data": {
            "text/plain": [
              "AdaBoostClassifier()"
            ],
            "text/html": [
              "<style>#sk-container-id-6 {color: black;background-color: white;}#sk-container-id-6 pre{padding: 0;}#sk-container-id-6 div.sk-toggleable {background-color: white;}#sk-container-id-6 label.sk-toggleable__label {cursor: pointer;display: block;width: 100%;margin-bottom: 0;padding: 0.3em;box-sizing: border-box;text-align: center;}#sk-container-id-6 label.sk-toggleable__label-arrow:before {content: \"▸\";float: left;margin-right: 0.25em;color: #696969;}#sk-container-id-6 label.sk-toggleable__label-arrow:hover:before {color: black;}#sk-container-id-6 div.sk-estimator:hover label.sk-toggleable__label-arrow:before {color: black;}#sk-container-id-6 div.sk-toggleable__content {max-height: 0;max-width: 0;overflow: hidden;text-align: left;background-color: #f0f8ff;}#sk-container-id-6 div.sk-toggleable__content pre {margin: 0.2em;color: black;border-radius: 0.25em;background-color: #f0f8ff;}#sk-container-id-6 input.sk-toggleable__control:checked~div.sk-toggleable__content {max-height: 200px;max-width: 100%;overflow: auto;}#sk-container-id-6 input.sk-toggleable__control:checked~label.sk-toggleable__label-arrow:before {content: \"▾\";}#sk-container-id-6 div.sk-estimator input.sk-toggleable__control:checked~label.sk-toggleable__label {background-color: #d4ebff;}#sk-container-id-6 div.sk-label input.sk-toggleable__control:checked~label.sk-toggleable__label {background-color: #d4ebff;}#sk-container-id-6 input.sk-hidden--visually {border: 0;clip: rect(1px 1px 1px 1px);clip: rect(1px, 1px, 1px, 1px);height: 1px;margin: -1px;overflow: hidden;padding: 0;position: absolute;width: 1px;}#sk-container-id-6 div.sk-estimator {font-family: monospace;background-color: #f0f8ff;border: 1px dotted black;border-radius: 0.25em;box-sizing: border-box;margin-bottom: 0.5em;}#sk-container-id-6 div.sk-estimator:hover {background-color: #d4ebff;}#sk-container-id-6 div.sk-parallel-item::after {content: \"\";width: 100%;border-bottom: 1px solid gray;flex-grow: 1;}#sk-container-id-6 div.sk-label:hover label.sk-toggleable__label {background-color: #d4ebff;}#sk-container-id-6 div.sk-serial::before {content: \"\";position: absolute;border-left: 1px solid gray;box-sizing: border-box;top: 0;bottom: 0;left: 50%;z-index: 0;}#sk-container-id-6 div.sk-serial {display: flex;flex-direction: column;align-items: center;background-color: white;padding-right: 0.2em;padding-left: 0.2em;position: relative;}#sk-container-id-6 div.sk-item {position: relative;z-index: 1;}#sk-container-id-6 div.sk-parallel {display: flex;align-items: stretch;justify-content: center;background-color: white;position: relative;}#sk-container-id-6 div.sk-item::before, #sk-container-id-6 div.sk-parallel-item::before {content: \"\";position: absolute;border-left: 1px solid gray;box-sizing: border-box;top: 0;bottom: 0;left: 50%;z-index: -1;}#sk-container-id-6 div.sk-parallel-item {display: flex;flex-direction: column;z-index: 1;position: relative;background-color: white;}#sk-container-id-6 div.sk-parallel-item:first-child::after {align-self: flex-end;width: 50%;}#sk-container-id-6 div.sk-parallel-item:last-child::after {align-self: flex-start;width: 50%;}#sk-container-id-6 div.sk-parallel-item:only-child::after {width: 0;}#sk-container-id-6 div.sk-dashed-wrapped {border: 1px dashed gray;margin: 0 0.4em 0.5em 0.4em;box-sizing: border-box;padding-bottom: 0.4em;background-color: white;}#sk-container-id-6 div.sk-label label {font-family: monospace;font-weight: bold;display: inline-block;line-height: 1.2em;}#sk-container-id-6 div.sk-label-container {text-align: center;}#sk-container-id-6 div.sk-container {/* jupyter's `normalize.less` sets `[hidden] { display: none; }` but bootstrap.min.css set `[hidden] { display: none !important; }` so we also need the `!important` here to be able to override the default hidden behavior on the sphinx rendered scikit-learn.org. See: https://github.com/scikit-learn/scikit-learn/issues/21755 */display: inline-block !important;position: relative;}#sk-container-id-6 div.sk-text-repr-fallback {display: none;}</style><div id=\"sk-container-id-6\" class=\"sk-top-container\"><div class=\"sk-text-repr-fallback\"><pre>AdaBoostClassifier()</pre><b>In a Jupyter environment, please rerun this cell to show the HTML representation or trust the notebook. <br />On GitHub, the HTML representation is unable to render, please try loading this page with nbviewer.org.</b></div><div class=\"sk-container\" hidden><div class=\"sk-item\"><div class=\"sk-estimator sk-toggleable\"><input class=\"sk-toggleable__control sk-hidden--visually\" id=\"sk-estimator-id-6\" type=\"checkbox\" checked><label for=\"sk-estimator-id-6\" class=\"sk-toggleable__label sk-toggleable__label-arrow\">AdaBoostClassifier</label><div class=\"sk-toggleable__content\"><pre>AdaBoostClassifier()</pre></div></div></div></div></div>"
            ]
          },
          "metadata": {},
          "execution_count": 108
        }
      ]
    },
    {
      "cell_type": "code",
      "source": [
        "ad_b.score(x_test,y_test)"
      ],
      "metadata": {
        "colab": {
          "base_uri": "https://localhost:8080/"
        },
        "id": "yiFE17D2OtM-",
        "outputId": "3eeda9f2-e84a-4805-8fc5-cd0918a7a35a"
      },
      "execution_count": null,
      "outputs": [
        {
          "output_type": "execute_result",
          "data": {
            "text/plain": [
              "0.7212988017008117"
            ]
          },
          "metadata": {},
          "execution_count": 109
        }
      ]
    },
    {
      "cell_type": "markdown",
      "source": [
        "# **Cross Validation**\n",
        "\n",
        "> **1.K Fold Cross Validation:**<br/>\n",
        ">  **K-fold cross-validation is a technique for evaluating predictive models. The dataset is divided into k subsets or folds**\n",
        "\n",
        "![5-fold-cv.jpeg](data:image/jpeg;base64,/9j/4AAQSkZJRgABAQAAAQABAAD/2wCEAAYGBgYGBgYHBwYJCgkKCQ0MCwsMDRQODw4PDhQfExYTExYTHxshGxkbIRsxJiIiJjE4Ly0vOEQ9PURWUVZwcJYBCwsLCwwLDA4ODBESEBIRGRcVFRcZJhsdGx0bJjokKiQkKiQ6Mz4yLzI+M1xIQEBIXGpZVFlqgXNzgaKaotPT///CABEIAjUEAAMBIgACEQEDEQH/xAA1AAEAAwEBAQEBAAAAAAAAAAAABAYHBQEDAggBAQACAwEBAAAAAAAAAAAAAAADBAECBQYH/9oADAMBAAIQAxAAAAD+qQAAAAAAAAAAAAAAAAAAAAAAAAAAAAAAAAAAAAAAAAAAAAAAAAAAAAAAAAAAAAAAAAAAAAAAAAAAAAAAAAAAAAAAAAAAAAAAAAAAAAAAAAAAAAAAAAAAAAAAAAAAAAAAAAAAAAAAAAAAAAAAAAAAAAAAAAAAAAAAAAAAAAAAAAAAAAAAAAAAAAAAAAAAAAAAAAAAAAAAAAAAAU6r2Sn+S7UxDUbMxDExDExDExDExDExDExDEy40K9dOnXvIvnv/AAUtEZxLRBLRBLRBLRBLRBLRBLRB0+1Xe/Xu8BEWKUtEEtEEtEEtEEtEEtEEtEEtEF2qlopte7KRFilLRBLRBLRBLRBLRBLRBLRBLkcyXpvYq736rpPLRE1WWiCWiCWiCWiCWiCWiCWiCVbqPda92xjn9oAAAAA53QPQAEUSgCCTgAAUunXGneP7oc+0AIGcT1Ysu2P0eabegAAXuiXvq0al5759F+ehkPyfpVe3ptPIu2soZAAAS+/wO/Vu1UWqQABVuvrt0iPnWQ89yAAAudNuVNq3fBapADmYdNWLPjYRc6yhkAAlxJem3fqtqqsU4WKwB+KxrtakOZnUiygMgAF1pV1q3bGOd3AAAAAMo5NsjEHm/WWd7gT45ULJG9O7wer0zuZ1dI5fQAAUunXGneP7oc+0A+X1ZxnHw7vB61PoQO1zWb7JjSeVbDXIC90S99WjUvPfPovz0MgM7kdPyCzG4/1g6yduZ42jtwnrAAS+/wADv1btVFqkABnk6Yhs/KudHlab9qT59dtbcJ6oAFzptyptW74LVIB8vqwz369TlwWoHYq9ob8DSqXatoumJq4CXEl6bd+q2qqxThYrAeZ5olVjl50iVwdJvn0OPZsZ9tlRt0tcN4wF1pV1q3bGOd3AAAAAAAAAAAAAAKXTrjTvH90OfaAAAAAAAXuiXvq0al5759F+ehkAAAAAABL7/A79W7VRapAAAAAAAAXOm3Km1bvgtUgAAAAAAEuJL0279VtVVinCxWAAAAAAAXWlXWrdsY53cAAAAAAAAAAAAAApNQ1n5cS/lbVFafK2qDK2qDK2qDK2qDK2qDK2qDK2qDKr32vvbrZl5pT0/m81aUM1aUM1aUM1aUM1aUM1aUM1aUM1aUM/79h/cU2ZNKSw5q0oZq0oZq0oZq0oZq0oZq0oZq0oZq0ocenaf8Yp81aUlgzVpQzVpQzVpQzVpQzVpQzVpQzVpQzWVoDGa/VdO+WkmbNKSRZq0oZq0oZq0oZq0oZq0oZq0oZq0oZrdOt9op5ArdAAAAAAAAAAAAAAAAAAAAAAAAAAAAAAAAAAAAAAAAAAAAAAAAAAAAAAAAAAAAAAAAAAAAAAAAAAAAAACv8AFmVW/wAbvOCmrd5wR3nBHecEd5wR3nBHecEd5wR3u/QrlWucNXfPAe1sauMLGrgsauCxq4LGrgsauCxq4LGrgtPcolt9FxIbgvT+Z7zgjvOCO84I7zgjvOCO84I7zgjvOCL7wenToLfdcFPU7zgjvOCO84I7zgjvOCO84I7zgjvfWuStd7bxplVjl7zgpq/ecEd5wR3nBHecEd5wR3nBHecEd6wUG6wW7GKPXAAAAAPj9gAA/P5PoAfM+gAAKjVbVVepwAnqgCHhMfL6h+f1kAAAudMudS9QPPfPmH0EMZAEPOJj4fdkMAAAJVtqVs9V52rD2PkQACH98PqfnL9AAAAudNuVNq3fBapAD5YfVDmA/OX6AAAlxJem3fqtqqsU4WKwB5EwmPn9Mj8/oAAAXWlXWrdsY53cAAAAAyiD2op0udVpZfOdB5RzrLXRduJ+eoXCufmkFx0bgd8AAqNVtVV6nACeqAyvVKbHN8OlG42kn76VNtWu/RtdJu0tYJIwFzplzqXqB5758w+ghjIDLtRptqF+ub97MU/jfGdvi+jk3AAJVsqds9V52rD2PkQAMs7chBbk8H58LXa5Sed99tLqJ6oAFzptyptW74LVIBz+gxnLO79eXBam/Wg3TG0LRM8ue8XWE1cBLiS9Nu/VbVVYpwsVgPxluq06KaL049b0k6HRp9txt0rJSbtNXDeMBdaVdat2xjndwAAAAAAAAAAAAACo1W1VXqcAJ6oAAAAAAC50y51L1A898+YfQQxkAAAAAACVbKnbfVedqo9j5EAAAAAAAC5025U2rd8FqkAAAAAAAlxJem3fqtqqsU4WKwAAAAAAC60q61btjHO7gAAAAAAAAAAAAAFRquiQbvJpK7JIaSuwpK7CkrsKSuwpK7CkrsKSuwpNx+vRhs5Z5fXifW0JfWFCX0UJfRQl9FCX0UJfRQl9FCX0Uy2yej3eTna7PQefpK7CkrsKSuwpK7CkrsKSuwpK7CkrsPnTtG5sNilLsmr0ldhSV2FJXYUldhSV2FJXYUldhSZVs/Wu0Gq6HC1kpK7JIaSuwpK7CkrsKSuwpK7CkrsKSuwpN196UVnoCn0wAAAAAAAAAAAAAAAAAAAAAAAAAAAAAAAAAAAAAAAAAAAAAAAAAAAAAAAAAAAAAAAAAAAAAAAAAAAAAOVAi1W7ybqpSSG6qULqpQuqlC6qULqpQuqlC6qULp0s5ucVj9KX5LXuqlC6qULqpQuqlC6qULqpQuqlC6qULvJpPZ5XWmKG8v6C+KGL4oYvihi+KGL4oYvihi+KGL4oY1CB8Kn6zzd0Up0ebdVKF1UoXVShdVKF1UoXVShdVKF1/VIlY2vMCLVdJLqpSSG6qULqpQuqlC6qULqpQuqlC6qULp1M3usVixin1AAAAAAAAAAAAAAKjVbVVepwAnqgAAAAAALpS7pWuUzz3yxTDIAAAAAACV2eN2fPegp48L7AAAAAAAAC9VO2VP6F4rwdniAAAAAAAJcSXpt36raqrFOFisAAAAAAAutKutW7Yxzu4AAAABxJ+acc29hkI/oBmnANT++E9w2plPDNypMiGW+XQr6AAVGq2qq9TgBPVAZdqNFjmmyeI0k6cvKbfja3drP9AlrhvGAulLula5TPPfLFMMn4/YyyxxvjXt9yPX6pjOqyqq300ETVgAJXZ43Z896CnjwvsAAOZQdQz2/X7UzNLBNpNuWaafBv9RRsAAXqp2yp/QvFeDs8QByesxnL7Vy+RBatXuZ2pnr3DKL/ALRdkTQAJcSXpt36raqrFOFisB88w1OixzTJfEhaSd+Vlt0xtbOpn+gS1w3jAXWlXWrdsY53cAAAAApsK/jNvvoQoHx0UZP+9VGb9W5iqcy/Cq2oAAKjVbVVepwAnqgPn9GHz+MozH/f1Hy+pnAAC6Uu6VrlM898sUwyA+b6MIn7kGfl79AGcAASuzxuz570FPHhfYAAPj9mXP8A1Oba/D9/RjIa5AAvVTtlT+heK8HZ4gAHz8+rGYEr6j4/T9AM4AS4kvTfv1W1VWKcLFUB8/ow+fwlmY/7+o+X1M4AAXWlXWrdsY53cAAAAAAAAAAAAAAqNVvHGv8AG4Dvpq3Ad8cB3xwHfHAd8cB3xwHfHAd8cC58vvwWqF5309bgO+Y4DvjgO+OA744DvjgO+OA744Dvjldj9T+L28+WV5H01aWUVpZRWllFaWUVpZRWllFaWUVpZR1qneeJ7TynAd91OTwHfHAd8cB3xwHfHAd8cB3xwHfHAldX667/AGqt440c3Ad9NW4DvjgO+OA744DvjgO+OA744DvjgXXk2CC32RR64AAAAAAAAAAAAAAAAAAAAAAAAAAAAAAAAAAAAAAAAAAAAAAAAAAAAAAAAAAAAAAAAAAAAAAAAAAAAAEX4cGrW+bpDN0kOkM3GkM3GkM3GkM3GkM3GkM3GkM3GkffMLlFP1mceSQaQzdlpDNxpDNxpDNxpDNxpDNxpDNxpDNxpH0z3vxT99m6WDSGbjSGbjSGbjSGbjSGbjSGbjSGbjSGbjTo3MoPA72pMscq/qbLBqbLBqbLBqbLBqbLBqbLBqbLBqfuVyt8aj8ODVvWeZ0hm6WHSGbjSGbjSGbjSGbjSGbjSGbjSGbjR5OX3SKeyCr0QAAAAAAAAAAAAAKjVbVVepwAnqAAAAAAALnTLpWu0zz3yxTDOAAAAAAAJff4Hfq3qqLVIGAAAAAAALlQb9QfEe28Hm+2AAAAAAB5MhzJY7ZVbVVfp3z0LFQAAAAAABdaVdat6xjndwAAAAAof5L84E06Sv8A0O4zW0lhcSIWZ8aiXRWbMAAVGq2qq9TgBPVAZfqFEjm68msSdNu3Kx20Y3v3QzzQ5a4b6ALpS7pWuUzz3yxTDJ+P2Mtt3JiV7dq/FcpZsP3o30210ITVgAJff4Hfq3aqLVIADL7ZyY9e3Z/nxqCbF+6FM210ITVgALlQb9QfEe18Hm+2ABmll5UHq07zFrX4i36ttoF/gkCtKB5MhzJY7ZVbVVfp3z0LFUD55jqVFim7P2q3613skrH7dja9y890KWuG+gC60q61btjHO7gAAAAGUfnQ4JlHM2f9FVrup/EyKFsMsz6FpfQKdVNenGdaVAngAFRqtqqvU4AT1QEOYwiQeyxnjS5xmFNM6hkAulLula5TPPfLFMMgInkxjPC+3XYzCTWcBnAAEvv8Dv1btVFqkABES2M8X3ssZg+zWcBnAAFyoN+oPiPa+DzfbAAhfme314X77TbHI63rTYNcgeTIcyWO2VW1VX6d89CxVARJbCJze6xtyZM0xCmmcBkAutKutW7Yxzu4AAAAAAAAAAAAABUarb650eFDTE9aGmCGmCGmCGmCGmCGmCGmCHcqza69uk+TfLFWGmGIaYIaYIaYIaYIaYIaYIaYPO/ye1XuVFMWKcNMENMENMENMENMENMENMENMFmoOh0jxvsISa892YSaISaISaISaISaISaISaIMz2VLpYarb659H8FDTE9aGmCGmCGmCGmCGmCGmCGmCHdKvba1zvih2gAAAAAAAAAAAAAAAAAAAAAAAAAAAAAAAAAAAAAAAAAAAAAAAAAAAAAAAAAAAAAAAAAAAAAAAAAAAAAPPKtW7FHT2YN49PZgNPZgNPZgNPZgNPZgNPZgNPZgNN/WYWzSWxsy82i05mLLTmYjTmYjTmYjTmYjTmYjTmYjTmYjTPc67cctrZiki05mI05mI05mI05mI05mI05mI05mI05mI0z2u1WOXTWYpItOZiNOZiNOZiNOZiNOZiNOZiNOZiNO8zKRjOi+U+rcDu60yVBJrTJRrTJRrTJRrTJRrTJRrTJRrTJRrH6yW62IrMOpUAAAAAAAAAAAAAAqNVtVV6nACeqAAAAAAAulLula5TPPfLFMMgAAAAAAJff4Hfq3aqLVIAAAAAAAC5025U2rd8FqkAAAAAAAlxJem/Yp9wp/zf6GHPtAAAAAAAL5Q751KVpHrOKAAAABWejnvCN0fz/CP6NZRwDVOjgXSN8Y7wD+gaJ9OaXPrU+4AAFRqtqqvU4AT1QFDvlFjlsnWoHyxtdZmN9rXbTWeaHLCG2gC6Uu6VrlM898sUwyfj9ig22rwILOkc2j8jLYWaTM638SwAAS+/wO/Vu1UWqQAFEstc+EFnQIFKreWy/vMpOddEEsAAFzptyptW74LVIByesxmi3qi8aKxqfNye04aCxTWt4+iJIgEuJL037FPuFP+b/Qw59oBxuz5trSrrlfO6VbZYGffiLfVHz+lGcMZAXyh3zqUrSPWcUAAAACrQLwKB97wKX8L2M2+uiCg9a0CucS/DjdkAAKjVbVVepwAnqgOL2mM8bm2trtSOvYDPD7htoGcALpS7pWuUzz3yxTDIDiu002p3zurG3DdxnAb6AAS+/wO/Vu1UWqQAHFdprtVId3a7V/991nAb6AAXOm3Km1bvgtUgAONCszTehd2wGaz2pjOobagJcSXpv2KfcKf83+hhz7QAFdg29PHVfLWY8/RBIDIC+UO+dSlaR6zigAAAAAAAAAAAAAVGq2qq9TgBPVAAAAAAAXSl3StcpnnvlioGcAAAAAAAS+/wADv1btVFqkAAAAAAABc6bcqbVu+C1SAAAAAAAS4kuPfsU+4U/5x9DChaAAAAAAAXyh3zqUrSPV8UAAAAAAAAAAAAACN85rOsJLMREsREsREsREsREsREsREsRPt9zMJLMREsREsREsREsREsREsREsREsRf3JMwksxESxESxESxESxESxESxESxESx8vlMMwksxESxESxESxESxESxESxESxFSzMb5TkW8FPMwE8QE8QE8QE8QE8QE8QE8QPtJ8zj0b4AAAAAAAAAAAAAAAAAAAAAAAAAAAAAAAAAAAAAAAAAAAAAAAAAAAAAAAAAAAAAAAAAAAAAAAAAAAAAAAAAAAAAAAAAAAAAAAAAAAAAAAAAAAAAAAAAAAAAAAAAAAAAAAAAAAAAAAAAAAAAAAAAAAAAAAAAAAAAAAAAAAAAAAAAAAAAAAAAAAAAAAAAAAAAAAAAA/8QAMRAAAQMDAgUEAgICAgMBAAAABAADBQECBhQWERUgNEAHITEyEzUSMBBBNoAXUJAz/9oACAEBAAEIAP8A5M8aLjRcaLjRcaLjRcaLjRcaLjRcaLjRcaLjRcaLjRcaLjT/ABxouNFxouNFxouNFxouNFxouNFxouNFxouNFxouNFxouNP88aLjRcaLjRcaLjRcaLjRcaLjRcaLjRcaLjRcaLjRcaLjT/HGi40XGi40XGi40XGi40XGi40XGi40XGi40XGi40XGnRxouNFxouNFxouNFxouNFxouNFxouNFxouNFxouNFxouNP/AEGTEPM1Dq1zA1cwOXMDlzA5cwOXMDlzA5cwOXMDlzA5cwOXMDlzA5cwOXMDlzA5cwOWvNWPPOvAvXuVOM41WuMWuMWuMWuMWuMWuMWuMWuMWuMWuMWuMWuMWuMWuMWuMWuMWuMQZhd5Y1t0++8zpfx64xa4xa4xa4xa4xa4xa4xa4xa4xa4xa4xa4xa4xa4xa4xa4xa4xa4xQbzjoTtzlTjONVrjFrjFrjFrjFrjFrjFrjFrjFrjFrjFrjFrjFrjFrjFrjFrjFrjEGYXeWNbdPvvM6X8euMWuMWuMWuMWuMWuMWuMWuMWuMWuMWuMWuMWuMWuMWuMWuMWuMWuMUC866G5Vzzsr+wfh4z+ufVftXwge9FWS/Ifh4/wBg+q/avhA96Ksl+Q/Dx3s3PPyz7B+HjP659V+1fCB70VZL8h+Hj/YPq75r4QPeCrJvkPw8d7Nz+2QlI6LtYcOrWlK0pXoJKGGYfIfDLGOFYLE/yXIggWt3GdWWfYPrPlI+KZtePpmWK1rwpStK20uoq1pT568Z/XPqv2r0332N2X3374xJR8kBKsakBFmCgt2vF/0A96Ksl+Q+u/NcUsurbfGzEZMNuuR6KKHCYdJKsvsvstvs68f7B9XfNeqSmYuHtaukG8zxZ2+yyz/FhwrhT4lnWD3gqyb5D6nXW2G3HXN74kgJAGUHoSCijRQrG7yv6Md7Nz+31b/W4qshpln/AJPhLAZDL5QuckYaOI9TZG3EayrVz+ZsQNSJDGs0l5w3JINv09Jnx/TmYNLYzCQsgMEBhxchySHyaMgsljcm9QcjAmi4vEJ6zKMdjJmvrHBRlYgaau6ss+wfW6yy/bS17FxgbZLNb3N2Sj8e7LsG5KW/IQ4cfmPPKPYlS0W0m0dqhXVjP659V+1emtKXUrbXIAg7Mrwmy2Vl5YKfEgoWakZeOpZdUjJ6SmIxMtU6bnb8megozG5s84uYi5TqB70VZL8h9eaBB2O4rW3IpUuBLgw4mQKnAQxLn78svkMNnzXpOelx5iDiIyEmZW6bPgpfqx/sH1d816nhmCKW0ewkMO6zJLr8YnMjyCypl7+VyEXJRrBbclWzIMsasayXL38bbyOwIts4MQtvpB7wVZN8h9VbbbqVtrNgh0zHDrKS0vKgzwUFDTUhMR1G7qvZPzTGsfk7y5ufeyYyDjsZmzpF6Yj5Lqx3s3P7fUGDkp4GAaj8ojp8fLMbyKKNxc+NyeZlbJ3HD5fFo8cDPoOVlDsVODxyHyC3NJWcOxuCyeMxLJcTIpiWSRsX6fSUezF5Hk+UQs1MYLBHwsRNin+ncQdA4jExcl6jQclkGPNhRvVln2D/AKIWGJYKyypkdDGQ41sc9PjvlDWgWmwM03A4vbYK688O04/1Yz+ufVftXqmIssvIcXNZdiy7syElKORkwHkMybQfFplrDwIm5qKMtzUqVrDxRoeT5Se91A96Ksl+Q+vJ4suSvgKjTcWWZN4sWxLxknZlLUtbtuecx/MRXnoc6/KMdkKNxRlM2Ila9WP9g+rvmvXi8YZG2TlpUTAyo2GnRVawk6/GwQLVsOfSdywuosFIten1YW+FGeDh4oV7pB7wVZN8h9crFmFZNjJ7TsYXfmAcnS+MmAskmjqD4xMt4xDgXixRrWZykpfCxRgWRZWc91Y72bnn5Z9g/Dxn9c+q/avhA96Ksl+Q/Dx/sH1d818IHvBVk3yH4eO9m55+WfYPw8Z/XPqv2r4QPeirJfkPw8f7B9XfNfCB7wVZN8h+HjvZueflf2E8PGv176r9q+ED3oqyb5E8PH68AH1X7V8IHvBVkv2E8PHe0c894Ud+lPzctAXLQVy0FctBXLQVy0FctBXLQVy0FctBXLQVy0FctBXLQVy0FctBXLQVy0BNDssW/wAWtAGtAGtAGtAGtAGtAGtAGtAGtAGtAGtAGtAGtAGtAGtAGtAGtAGtAGrQhLLqXWusMvfxo7oA1oA1oA1oA1oA1oA1oA1oA1oA1oA1oA1oA1oA1oA1oA1oA1oA1oA02y0zbW1vQBrQBrQBrQBrQBrQBrQBrQBrQBrQBrQBrQBrQBrQBrQBrQBrQBrl4atBEsupda6Oy9w/LoAloA1oA1oA1oA1oA1oA1oA1oA1oA1oA1oA1oA1oA1oA1oA1oA1oAk0y0xb/Fr/AKPTEg+BUejW4zVuM5bjOW4zluM5bjOW4zluM5bjOW4zluM5bjOW4zluM5bjOW4zluM5biOUWa4YK465XKJGla0W55BbnkFueQW55BbnkFueQW55BbnkFueQW55BbnkFueQW55BbnkFueQW55BbnkELkRz5LLd0xIvA1Yo1uM5bjOW4zluM5bjOW4zluM5bjOW4zluM5bjOW4zluM5bjOW4zluM5bjOW4zlFGumjXOu1yI2la0W4zluM5bjOW4zluM5bjOW4zluM5bjOW4zluM5bjOW4zluM5bjOW4zluM5Dzpjz7Nl0vIPg6f8AFuM1bjOW4zluM5bjOW4zluM5bjOW4zluM5bjOW4zluM5bjOW4zluM5bjOW4zlEGOmj3uuedk3yJ4cD+vfV32r4Uf3oiyX5D8PH+weVftXwge8FWS/Ifh472bnn5N9g/DgP176u+1fCj+9EWS/Ifh4/2D6u+a+ED3gqyb5D8PHezc/tefYZ/hV3pvvtttrddZfY7ZbfZ/m95lutKOdWTfYPrrIx9K1pVohgilbmFffY3bW++leNONOuA/Xvq77V67jgra1pc0QOR/L8P9Mf3oiyX5D66yMfStaVaIYIpW5hX32N21vvpXjTjTrx/sH1d816nSGB6W1epIx91aW0/xS+y6+6ynWD3gqyb5D6q3W20rdXmUemnWn7P5tK9yyylK3/0Y72bn9vq3+txVT01mA3qNDiAnZXMvypcRAE+pbQmM1m3GZbMXYepaiMwljyJ2IfweanD8AmH50PMBofGMMYh4zLpZqcFgMjYz/JJUSSKhccmxclhI6XFyHB8Rkr5CVm/SkiRJwiMvO6cm+wfXmOOwTF+O1Zkz4/DXI0WNIOyWwMW9o7Iw5bEZ0g+QyR6MPhokKFnyzZE2JkuqA/Xvq77V688godkEQlsq+Pxp0YSGGyV9pySGloeYmpQeht2ESU4ZWUoZ1R/eiLJfkPrzDHYId3G7mZOQAw1yNFjXz8lsEFvaOyMOVxGdIOkMkejD4eJChJ8o2SNiZPqx/sH1d816j4mNlLWrT8Nx6CfpPOOwGUyOQ31cHdyaWjjAbJZksJnI8pvbszeXeh2p1oYhosZglnpB7wVZN8h9TjdjzbjbkxjcCzlmJDWHS9mOyIsBDHyOSDUbuHPnouZx+CkXzcmPsnSYOPx6evmKyA5PVjvZuf2+pkcbJAY1YBllTojNMXn7JTHQo3LJ6Qm5qAEew8CzHfUgWTffxm5YXFXjZ1MHiYszKB4TlOJEtw0/DxnpjPsUpIZrl+OSVPTuOPjoKfZM9MgDIzCIUQ3NJaZl5ysKTjslbJx1j1nTk32D68vEKLrjdR8gDJfyDDn2shHeuyZl2Ush5HaubDWPgl1zDGCqNBFb/JNr1QH699XfavXm4ZR0WC2Ll0PUmSipW+GYhGteWBAi3tZDY7EYpq402ZiyuqP70RZL8h9eXCFF341UfIBCX8gw59rIR3rsmZdlG4eSpiubD2Pgl1zDGSqNhFUz4k2vVj/YPq75r14gGSI3kNCIIGZFwg4YesZaQHA0DtAMpkWaP1DjjrPTO6PugGnWIOHZe6Qe8FWTfIfXMBlPZZiRLb4ZN+cgmUOFcuySYcmBIeUaxCCEqGEVZnkuZdjwRY+UZmQ71Y72bnn5N9g/DgP176u+1fCj+9EWS/Ifh4/2D6u+a+ED3gqyb5D8PHezc8/JvsH4cB+vfV32r4Uf3oiyX5D8PH+wfV3zXwge8FWTfIfh472bnn5N9hPDgewfV32r4Ud3wiyX5D8PH+wfVftXwgu8FWTfYTw8d7Nzzzo5g78f5duhrboa26Gtuhrboa26Gtuhrboa26Gtuhrboa26Gtuhrboa26Gtuhrboa24GhAGQ2bmm64wBWvFbXAW1wFtcBbXAW1wFtcBbXAW1wFtcBbXAW1wFtcBbXAW1wFtcBbXAW1wEzjgLDrb1p0awf8Ajq7t0NbdDW3Q1t0NbdDW3Q1t0NbdDW3Q1t0NbdDW3Q1t0NbdDW3Q1t0NbdDW3Q0IC0G1VpuuPB191t0NbdDW3Q1t0NbdDW3Q1t0NbdDW3Q1t0NbdDW3Q1t0NbdDW3Q1t0NbdDTUCG05Y7adHMHfj/Lt0NbdDW3Q1t0NbdDW3Q1t0NbdDW3Q1t0NbdDW3Q1t0NbdDW3Q1t0NbdDW3Q0EE0C3Vtv8A6PHSTIH46ObjDW5A1uQNbkDW5A1uQNbkDW5A1uQNbkDW5A1uQNbkDW5A1uQNbkDW5A1uMRBmtGtVdbrkYdK8FuQNbkDW5A1uQNbkDW5A1uQNbkDW5A1uQNbkDW5A1uQNbkDW5A1uQNbkDTU8I87Y1bIyjEbVr826QVukJbpCW6QlukJbpCW6QlukJbpCW6QlukJbpCW6QlukJbpCW6QlukJbpCQUgyexc83uMSnstyBrcga3IGtyBrcga3IGtyBrcga3IGtyBrcga3IGtyBrcga3IGtyBrcYaanxXnbG7TpJkH8f5Nxhrcga3IGtyBrcga3IGtyBrcga3IGtyBrcga3IGtyBrcga3IGtyBrcga3GIgTWjmquN+dkv2E8PH+wfVftXwge9FWV/Ifh41+vIVfmvhA94Ksm+wnh452bnn5N9g/Dx79eQq/avhA96Kss+QvDxn9cQrvmvhA94Ksm+Q/Dx3s3PPyb7B+Hj368hV+1fCB70VZZ8heHjP64hXfNfCB7wVZN8h+HjvZuf2zk/HwDQTp9Tg2y2Q7+i6ai6Rhcq3FyIsvHhyAv+ZrP8YgDHAjwjRZERgwPpyb7B9eSBzEVfEVY1geKWWWS9+UxrYwZFJCdAPxo6RBMySKiKhjHRGQRk3UmwTqx79eQq/avS5bW9u+2koBMgzePAWXTUZi1KgyheUxoX8PyTEqM/DBHCSGTw8aZcCTETcfOMOPg9QPeirLPkLrkgXz2LG2YMSYkzp8d13LYQd29u+RyGNjLx2XZ/MG4u6BqwIU0aOyQ11Yz+uIV3zXqlY4mRtZtYxkKYlLpNwgLLYOQIsHEHy2HIKGFqwbZZOTtL9+41WxlylLrbqUup0g94Ksm+Q+p6y51p2y2RAmQ5+BjLL5qNxe2gMmXlEaH/D+ctKikxsUYGdlMNHFugvxE1Hzg1xIPVjvZuf2+rf63FVkEVLkeqMHQeXzC4rJJmIJezvJb8LqYNIa2Agbed4pPS8rL5PjlPTpuXjPTeYlm2soyKSivTuIBtNn8SyuBiD4S/OstjJ0xvBJ0nI8ThpYzMzMpBDItgvTW2LbwmDaiunJvsH15v9sVWVMtEZHgtjszMk3ZHSHq3e1dhvqD+Eq2l2c4f/JilLfUo7h1Y9+vIVftXqyH/luDItppz1Gi7rzJt42ZnQiwuP8A46hqJmy2vqUXfXHaUtzXOaU6ge9FWWfIX9GOWO3m59azBs/nxzlxMoALG6AsOYk3T4rB5Ypp5p5qx1nqxn9cQrvmvXg//wCeTrFCKxGDSMiPKGUNExUt+z/k+eoBpv8A8S32rHK1rj8JWvSD3gqyb5D653/muFIxlp31Fiq3lzTxs3Oglhf8HxqlArbLvUiZuri9KW5ZndlvVjvZuf25rjL+TCQzI+UY7Pv5BBT8AVjeURk5JzONTmNz+SY/HhyOYYxKy5+Ny8PBYvPDZTI5DLQeGZHEQeQ4y5fgMg1D4ZUADGMhkJ8CfyfEMaIx2Mlg38LgH8XxqOhyJVn1HvLKbjMPxtrE4ISKb6cm+wfW4yy9/D8t7LLl7d95IARlW6lVDErY7ZWo7FXW3a0YZo9V+nVj368hV+1eq9lm+9ty+rLNXaPVdAAIesfe0YlW/wAVaMM0eq/Sxhmxxx2zqB70VZZ8hf0WMst3OXNvRkaS5+Z9+OAKusuIeHHIaqy8000y3Y011Yz+uIV3zXrbZZZ/nRpphhmz8bTUVGM0uo1p2P5u3qgw9rGnpZZY3ZbZZ0g94Ksm+Q+u5lm9xt26rLNXaP1ejwCHm33tGJ/Cliowxa7c9Sxhlu91yzqx3s3PPyb7B+Hj368hV+1fCB70VZZ8heHjP64hXfNfCB7wVZN8h+HjvZuefk3yJ4eP9g+q/avhA96Kss+Q/Dxn9c+q/NfCB7wVZL8h+HjvZuefLxzx9WPxbdNW3DVtw1bcNW3DVtw1bcNW3DVtw1bcNW3DVtw1bcNW3DVtw1bcNW3DVtw1RQTgI17TlcdMrWtVtw1bcNW3DVtw1bcNW3DVtw1bcNW3DVtw1bcNW3DVtw1bcNW3DVtw1bcNQ8EWwSw7dNxj8l+CrW2D1tg9bYPW2D1tg9bYPW2D1tg9bYPW2D1tg9bYPW2D1tg9bYPW2D1tg9bYPURHOgCXtO1x4yta1W3DVtw1bcNW3DVtw1bcNW3DVtw1bcNW3DVtw1bcNW3DVtw1bcNW3DVt01DwRbRDLlZeOeO0/wCPbpq24atuGrbhq24atuGrbhq24atuGrbhq24atuGrbhq24atuGrbhq24atuGqJDcBGuac/wCjz5LDHD83MgFzIBcyAXMgFzIBcyAXMgFzIBcyAXMgFzIBcyAXMgFzIBcyAXMgFzIBcxATT7L1tbmuZALmQC5kAuZALmQC5kAuZALmQC5kAuZALmQC5kAuZALmQC5kAuZALmQC5kArTwr7qW2vEMsUpV7mQC5kAuZALmQC5kAuZALmQC5kAuZALmQC5kAuZALmQC5kAuZALmQC5kAuZAJp9l6ytzfNI9c1j1zWPXNY9c1j1zWPXNY9c1j1zWPXNY9c1j1zWPXNY9c1j1zWPXNY9c1j1zWPVkkBfdSyx8lhjh+bmQC5kAuZALmQC5kAuZALmQC5kAuZALmQC5kAuZALmQC5kAuZALmQC5kAuZAJp9kiyt7XnZN8ieHj/Yvqv2r4QPeirJvkTw4H9e+rvtXwo/vRFkvyH4eO9o55+TfYPw8e/XkKv2r4QPeirJfkPw4D9e+rvtXwf9qO74RZN8h+HjvZuefk32D8PHv15Cr9q+ED3oqyX5D8OA/Xvq77V8H/AGo7vhFk3yH4eO9m55+TfYPrnXs1iHY7+IT5cRZdbPvZJAjsDkuyUla7BkHRbstHg2M2HR8rGytl94HVj368hV+1el22+5ty1s93NwJWFjkNIUhx72Z4rJIEOrVCJg16kcMTHlzUSBe42YDIgybFCAuoHvRVkvyH1zjuaxDsbS0J8uIsusn3skgRxxyXZGTtdgiDot2WjwbGbT4+VjZWy9wDqgP176u+1evJiMthrLSmQ75GHZIfyAGVjpJq94IbIIQu5+wfHssAnrzGbOn/AGo7vhFk3yH1P2u3Mu2smu5uHMQ8WhpC2IGqzPFZJABVaoTLnPUEBfjy5uIAvdsLCPDkWLSQurHezc/tzzIJHHBIJ8CT9QYOIygOBJlMkgIS1q+TrKxVBBzLq5ZjloZB9wmTQBsc/IiY9n4mV44cWDHy1o+PAyEzE5DBTzbl8UXl+LA/iuJadsdssvbzPJr8bj7KCYfMET2MwsqX05N9g+vN/tiizARg6ewgciQkCnsgsgIq3jZhvqC1SQGYLzbD7CAm2xfUaRbY6se/XkKv2r1ZD/y3BlJBCneocVaSQebLSs4ACJfdd6cwdK0EHI9SibnsYssHzDNxmeoHvRVkvyH15rx/niazARg6ewkcmQPKdnrIGKtpW3DfUFmkgMwXm2H2PhNtC+o0k2x1QH699XfavX6gfqQFlmuvyTGW2RsdlHJCVKkoJ0qEkAMbPwNpm1me4dP+1Hd8Ism+Q+ud/wCa4UpMEY71Ch6EvyBkvLTceCFdWuDYvRDiDEepMte9idlo+TZyM11Y72bn9vq3+txVTIQN/qni9Hw2Z0zP84oLkuLnweD1jpLJCxsevxjHIXFA32PUfLATsKGFt9IZ16wOg77fogJKTzAoXqZhFYj08gIY+By9wv0mdccwDHv5mjZqPLZRMG+lJR7+DwVhfTk32D6ywRDqj1JfBEKIEIeksfhpd5p46mPw1ghYdt0aBcWKZWkeHQ+6Qp1Y9+vIVftXqeAFJJEKdqCHcdYfUzGYKQM1pVIGIoHYFSkeHaffIUZjwxyyzGuoHvRVkvyH1lAiG1HqS+AIUQIQ9JY9DS7zTx1MfhrBCw7bo0C4sUytI8Oh90hTqgP176u+1eswAORasaLPjgZRio5ouOQwTRLTEdAQ8S7e8EzCRY8i9JM9P+1Hd8Ism+Q+t4AR8oQx24ESpzZ9TMagjzNaVSCiKDMi0sjw2znj7B48MUkspjqx3s3P7ZWGjJpsVo+fxWCybR1lZrDcannB3j7MRx6yKGilN43C5GyyzKxWKY/CkVLjh8HxgImXIGJxWALhmIQiDxLH8dufcjYyGjogcgcGJiwIQFqPj3WbHmnWnY2NEiwBgAenJvsH4ePfryFX7V8IHvRVkvyH4cB+vfV32r4P+1Hd8Ism+Q/Dx3s3PPyb5E8PH+OgfVftXwge9FWS/IfhwH699Xfavg/7Uf3wiyX5D8PHezc8/IB336i/i5ecuXnLl5y5ecuXnLl5y5ecuXnLl5y5ecuXnLl5y5ecuXnLl5y5ecuXnLl5yg2XmQnbXKgHcarl5y5ecuXnLl5y5ecuXnLl5y5ecuXnLl5y5ecuXnLl5y5ecuXnLl5y5ecgwi7Chrrp8d9+ov4uXnLl5y5ecuXnLl5y5ecuXnLl5y5ecuXnLl5y5ecuXnLl5y5ecuXnLl5y5ecoRl5kJ2x26MkK3VXLJBcskFyyQXLJBcskFyyQXLJBcskFyyQXLJBcskFyyQXLJBcskFyyQXLJBcskEFHn2GC33ZAO+/Ub8XLzly85cvOXLzly85cvOXLzly85cvOXLzly85cvOXLzly85cvOXLzly85cvOUCy6yI5a5/0e40ouNP9ey9l7L2XsvZey9l7L2XsvZey9l7L2XHgqVXFcV7L2XsvZey9l7L2XsvZey9l7L2XsvZcf8ey9l7L2XsvZey9l7L2XsvZey9l7L2Xsvb/AB/Ki9l7L2XsvZey9l7L2XsvZey9l7L2Xt/mteC40XsvZey9l7L2XsvZey9l7L2XsvZey9lxXz5+QvvM1G/FrTFrTVrTVrTVrTVrTVrTVrTVrTVrTVrTVrTVrTVrTVrTVrTVrTVrTFBuuuhu3OXGm8arWmLWmrWmrWmrWmrWmrWmrWmrWmrWmrWmrWmrWmrWmrWmrWmrWmoMsq8se27IHnmai/j1pq1pq1pq1pq1pq1pq1pq1pq1pq1pq1pq1pq1pq1pq1pq1pq1pq1pqg3XXQnbnLjTONVrTVrTVrTVrTVrTVrTVrTVrTVrTVrTVrTVrTVrTVrTVrTVrTVrTEGWVcWPbdkxD7Fwn4tecuYHLmBy5gcuYHLmBy5gcuYHLmBy5gcuYHLmBy5gcuYHLmBy5gcuYHLXnLHHXXg3Kuedk32D8PHv15Cr9q+ED3oqyX5D8PH+wfV3zXwge9FWV/IXh4r2L3n5N9g/Dx79eQq/avhA96Ksl+Q/Dx/sH1d818IHvRVlfyF4eK9i9/bk+Sj4wPGvvuTMezKixLv+a14U41GySPkoUiYiow26Tjgzb/8AM7nDELL8pbh5SsuAwZd05N9g+s/Mj429i0iKPMPbeuKUmbdHAvl2NX1cabvr149+vIVftXpcuusbvutIzM8UoMR6NLKNG/KSpSQcjR7HrP6Ae9FWS/IfWfmJ8c4PaRFHmHtvXFKTNujgXy7Gr6uNN3168f7B9XfNeqVkDALWaix+Ymyd7to/+GJC96TMBr1g96Ksr+QuuUkDQKtaWJy4mY/heN7/AOH5INg4IBzrxXsXv7fVv9biqyPFwZH1RhrXDz3JnKsiBOkpDLR8FttfmQIXGoYKKPxOhj2RZVi5GARDQHppOzTDEjLS8Z6WY7S8d/CMzxgEDGMeLyyJyIk/05lzJvCoM46VxbJ25+Xn4DB8lcynGxJJ7pyb7B9eb/bFFmOvdlsUDElmIgW+PhlZJyluFZe27MWmHZRjMfZBUeh8tkoKzqx79eQq/avVkP8Ay3BlOjGSeZhRlkxSMINdjx7ZqSLwSEMdOYflc7LjL8TcJEmMlg7+oHvRVkvyH15r98UWYa96WxQMSWYiBb4+GVknKUwnL2nJi0w7KMZj7IKj0Pl0lBWdWP8AYPq75r14R9MnWHs3uRbs7KvF3BPQclE2lE1yTN2qjAGP4K1kLkQXefFRpbnSD3oqyv5C6/dY5I3xODTBzdKyVoQhwM7W5idfInZ+JEOzLG003RpttunVivYvf25RjTOTjxbLuSYmVLykRMxkhhh1JcqbgpLEipuDDjZTKMTcyAiGkRITDnoqfNnSorAiogCdhrCPT4Z6FxoJiIwwpqXZnp3GsaZxsCRDbxbH28XgQYZqWxvKDyytLAwYONxYcSD05N9g+uZhW5isZW+Rh25CRhjrpHGyX5ikxHWYUxbETsbVyAacmoqWrbCN25A7N9ePfryFX7V6j4Zs6UhpG6+Fbvn2ZqruMGWSkibHt4WOzAiw1tkG3ZkL05QGEbBmZmVt6ge9FWS/IfXMQzcxdF1vkYduQkYU66Rxsl+YpMR1mFMWxE7G1cgGnJqKlq2QbduROznXj/YPq75r1w0M3D2yNLBMXFGx8mDc2Ya+xHDm0gGqSM2cmcaZZxeuPUjg7Y8AIK3pB70VZX8hf0ReOix0QTFXhQEyBVhhmYgpKVuJYrK41Uu6Iej27b7bLLb+rFexe8/JvsH4ePfryFX7V8IHvRVkvyH4eP8AYPq75r4QPeirK/kL+r3/AKcV7F7z8m+wfh49+vIVftXwge9FWS/Ifh4/2D6u+a+ED3oqyv5C8PFexe8/JvsH4ePfryFX7V8IHvRVkvyH4eP9g+rvmvhA96Ksr+QvDxbsXvPdYZepT8mhFWhEWhEWhEWhEWhEWhEWhEWhEWhEWhEWhEWhEWhEWhEWhEWhEWhFTTLTNtbbNEItCItCItCItCItCItCItCItCItCItCItCItCItCItCItCItCItCIrQxba0uo6wy9Sn5NCItCItCItCItCItCItCItCItCItCItCItCItCItCItCItCItCItCIm2Wmba22aERaERaERaERaERaERaERaERaERaERaERaERaERaERaERaERaERaERUDFtrS610dh+lPy8vDXLw1y8NcvDXLw1y8NcvDXLw1y8NcvDXLw1y8NcvDXLw1y8NcvDXLw1y8NNMNMW1tb/wDY1/8Ae8FwXBcFwXBcFwXBcFwXBcFwXBcFx/8AkR//xABDEAACAQMCAwYCCgECBAUEAwABAgMABBESkgVRkRMgITFAU7HRBhQiMDJBUmFxshBCVRUjVoAzNVCBs2Bic5CTocH/2gAIAQEACT8A/wD18H/0CZ0yHzpJFXc281dTbzV1NvNXU281dTbzV1NvNXU281dTbzV1NvNXU281dTbzV1NvNXU281dTbzV1NvNXU281dTbzV1NvNSszCQgFiSR9mrqXeaupd5q6l3mrqXeaupd5q6l3mrqXeaupd5q6l3mrqXeaupd5q6l3mrqXeaupd5q6l3mrqXeaupd5q6l3mrmQgyKCCTgjNSsmQ2cEjNXUu81dS7zV1LvNXUu81dS7zV1LvNXUu81dS7zV1LvNXUu81dS7zV1LvNXUu81dS7zV1LvNXUu81dS7zV1LvNOWIkIDHxPkKupd5q6l3mrqXeaupd5q6l3mrqXeaupd5q6l3mrqXeaupd5q6l3mrqXeaupd5q6l3mrqXeaupd5q6l3mrqXeauZCDIoIJOCM1KyZDZwSM1dS7zV1LvNXUu81dS7zV1LvNXUu81dS7zV1LvNXUu81dS7zV1LvNXUu81dS7zV1LvNXUu81dS7zV1LvNXUu807ORIRljk4wPX8n9H7jf1rn6L3V+Ncn9H7jfCufoveX41yf0fun4D1/J/R+639a5+i91fjXJ/R+41c/Re8tcn9H7p+H3t5FAs06wRmQ4DSP+FR+5ojx8hz7syJDCrNI7EBUVBkkn8sVMksEqBkkQ6lZW8iDy7l5Bbh2CoZZFjDMfIDJ8T3+T9+7jgjZ9Ks5wC2M4rjtrvo5BGQf8ED7j3W/rXPusAqqWZj5AL5muP2m6rpJ4tRXWpyuoeY/xcRxRl1UM5Cgs5wBk/mfufdX41yfv8dtAwJBBfxBFX0VwqMAxQ5ALDOD/iZIokGWdzpUD9zTBlYBlYHIIbyI+49xq596+hgEhIQucAlfPFcctWZmAAB8SScAf5uEaeJVZ4wQXVX8iR+WfuPeWuT95gqIpZ2PkqqMkmuPWm6rpJoixUOvipI8x/i4SJWkWNC5Cgu/ko/c/c+6fh97/wBT8O+Jq+4fGG4ZdNbCWOQqEBTX2gDjLVxTg9gOHLGLm5vvHtJ5VDaI49aEKPzNWdrLf2nG4+G3MUTGSKRtYBaJuTeaVxDglldtPqeSQSG3hgK/h8WTU4NcR4TdXlrapPaX9sC1s6v+tASQVqSwubBLbibpA8btI8iOxIlJOGQ1w2zHE+NWytBFpKWttEiBnchPyH5ChZTR8SilNleWqPCO0iGWidGZ6tuEwrw+9u4AJ1kc3JhfwVQCNFRdmbiLLRfpcEqwBq31XyX9lCkrOx0p23iEHf5P34kcA5AcBgD/AO9W0JSLiJIJRSFULk1c8Ljt0DOllI//AD3iQ+ZOcBiBkDFSWtst3ZC6We6BZTnyjUAj7VXNqGa/hBwj6TPu8Y6aNpwv/MMYKoT+wJJA7/ut/WufdAIPgQfzq0gCvLeawEUA4jqytB9YtGmDupVImD4LsErjXB7UCFfCdW1SSY+1j7QwvKuH2ztNfQxPFKutA/aaCy1FaACyS47eYMQmWwcgfi5AVHALywkQO8IIjkSVcqwB8Qe/7q/GuT9+0hBbjtuHwijIIOQa4fbtJfzSx6dOgawmVYlPyBOTXF+EWraD28syPoL58AgLCrWzuJrKVoXABe3mwww4BPkQatrU/XLJpAZAwWIp/B8VH6aW3M8UC3MU0AZVeJzpOVckgjv+41c+9BHIB4gOobHWrWElOOXQQmNSQARgCoLSG0jaaI/j1yyISAV/Sg8Aa4pwi7We6S3lgtwwkhMngGGWOQKtbdWtLGCRZQmJHJQnDt+YFQcPFukWt4CHLyIhw7A+S0CEnhjkQHzAcAjve8tcn7wBBGCCMgirOAIyXupQigNiOrK1BuLNpQzqVSJg+CzBK41we1AhXwuFbVJJj7WPtDC8qsLZ3uOKQQPHIutFbWULpUVoojtY5xPMGIQEkHIH4iaihW84fOkcjRfgdXGVYA9/3T8PvYRI9txy0upAWCYjhJLGuEi/S2s7m1uIFlSJ1ExBDgvyIr6H2fG7LiZimMcnZLPbTIgRgDL4FGr6LW/DJxxm0uJbWNowAkMgJcsuFLYrhq8RteH3Usl3w13VBPrTCONfgTHXCYLG1ueEx20MEbo7RlHJ0vp/M1wUAG3vxaXonQpObgkouPMfiqCJ+K8Cs+wnsnkAE8cqBZEWTxAYVwpeHWXCFla2tmlSaaaeYaS7GPwCrUYSWbi19cRgMG1JM2UNQiO5hMxkUMHA1yMwqESzC/tJipYINEUgZj3+T/cRBYb68ZoiGB1IU0k+FfRC04h2RKx3amFdaZ8C4kGQwr6KxXkBgAjIkjQRSYIwAcFQOa1i7vOGXMU0iGQL2gTIKhjVuYJGXLxlg5U8sjwPf91v61z70YMNnJcmZiQColTStRg2ycLkgLZGQ5kDAVwSLiAuuy+rXDyIvYKBgoQ/iF/ioEN1FxVZnAddJQTFywP8VEBavwtIA+oZMgfURUQFveC27FgwJPZIQ3f91fjXJ+/GGFvxaC4lyQNKIDk+NRhorOed5iSBoV00iuEpxK2+pCKOIyIpgk1ZLgSVaQrc39520KI40EHT4Amogbe2sJYpW1DKu48BUQ+qtwpYFbUMmQPq7/uNXPvxhTccVuJ48ENmOUjSfCiILyT61obX4AyOSpyK+jcFmLK7tZbh+0jLTGEjUy6NxJqIdjeWMUUDah4uiEEVCBe/UJYtGofjOcDVSgSxWkUbqDnDIgBGe97y1yfvxgwWi3QmYkAjtUAWowbVOGSQM+RkOZNQFcFi4gLsRfVZ3kRfq4QYKEP4hf4qBDc2/GluZArrp7MSFiwqIC1m4dFEj6hkujZIqILDeSW5hYMCXCJhvAd/3T8PX8n9H7rf1rn6L3V+Ncn9H7jVz9F7y1yf0fun4ev5P6P3W/rXP0Xur8a5P6P3Grn6L3lrk/o/dPw9fyf0fut8K5+i91fjXJ/R+41c/Re8tcn9H7p9fCj8tQBxVpFtFWkW0VaRbRVpFtFWkW0VaRbRVpFtFWkW0VaRbRVpFtFWkW0VaRbRVpFtFWkW0VaRbRVpFtFWkW0VaRbRUSouckAYGatYtoq1i2irWLaKtYtoq1i2irWLaKtYtoq1i2irWLaKtYtoq1i2irWLaKtYtoq1i2irWLaKtYtoq1i2irWLaKt4wQfA6RkGolcjmAatYtoq1i2irWLaKtYtoq1i2irWLaKtYtoq1i2irWLaKtYtoq1i2irWLaKtYtoq1i2irWLaKtYtoq1i2irWLaKjVR5kAYFWsW0VaxbRVrFtFWsW0VaxbRVrFtFWsW0VaxbRVrFtFWsW0VaxbRVrFtFWsW0VaxbRVrFtFWsW0VaxbRVrHtFW0YIOQQoyDUStjyyAatYtoq1i2irWLaKtYtoq1i2irWLaKtYtoq1i2irWLaKtYtoq1i2irWLaKtYtoq1i2irWLaKtYtoq1i2irWLaKjVR+wwM/wDY+qnXqzn9qSLoaSLofnSRdD86SLofnSRdD86SLofnSRdD86SLofnSRdD86SLofnSRdD86SLofnSRdD86SLofnSRdD86SLofnSRdD86SLoaUBlcgdAaSLoaSLoaSLoaSLoaSLoaSLoaSLoaSLoaSLoaSLoaSLoaSLoaSLoaSLoaSLoaSLoaSLoaSLoaWIB5FB8DnBNKp16s5/aki6H50kXQ/Oki6H50kXQ/Oki6H50kXQ/Oki6H50kXQ/Oki6H50kXQ/Oki6H50kXQ/Oki6H50kXQ/Oki6H50kXQ/Oki6H50kXQ/OlUMrEDAwPIGkipIuh+dJF0PzpIuh+dJF0PzpIuh+dJF0PzpIuh+dJF0PzpIuh+dJF0PzpIuh+dJF0PzpIuh+dJF0PzpIuh+dJF0PzpYuh+dJHh3UHwOcE0qkvqzn9qSLoaSLofnSRdD86SLofnSRdD86SLofnSRdD86SLofnSRdD86SLofnSRdD86SLofnSRdD86SLofnSRdD86SLofnSRdD86WLofnQAIcqMeAxj1/J/R/rP9RXP0XvJXJ/R+43wrn6L3lrk/o/dPw9fyf0f6z/UVz9F7yVyf0fuNXP0XvLXJ/R+6fh97KqBmAUsQMsfIDP595gBjJJOABTKVIyGByCOYPclRCfAaiBnv8n799bgjwIMi/Op43AOCUYNjp/h1VV8SScAf+/3P6z/AFFc+/ewAg4IMigg9anjfT56GDY6fde8lcn799bgjwIMi/Op43AOCUYNjp/h1VV8SxOAP/f7n3Grn3p44w3gC7Bc9avrcknAAkXx/wAspYAFlB8QD5ZH3HvLXJ+8QABkknAAq/tv/wCVfnUqOucalIYdR/hwASFBJxknyH3Pun4fe/8AU/Dvia4YksB4ddPHAb0xRzgFcyOMEBlrgsF1c2KRPey3Fx2MMTyjUI1IBLvXCpBLDxReH3dprDPDLr0tpIB119GbeK7e4KpbSXYVUh05DyOFP2ua1waBOMWFsk6Qx3IeCdZfBSsmMiuGi7sUteJO073ZaWbQ7ZhPhlRXBWe54pbIvDuHrL+BQgZi0r+SrXBo7G6u4pJLSWCftoJuy8WXJAIcV9EFmj4ddzxXLyXIQSdixBEQx4tilZYbmLXpf8SnJDL/ACKtWlYxEmWWaQLAqL5xjUAlSyyMWmEDykl2gEhEZJPe5P3+FWyGbjUEcpVAC6PnKtXA0J4hM6LHBiMmRFGnqTXB7T6wyEziS50pGc+CggEtkVwsv9UlMF1adp4F0YfhkSuEm4ku7MyQgSBANH5MSPBQKsFtb2CNZcJJ2iSRucBlPf8A1n+orn3+G26zS8TgEkgQAsHY6gTXBoTe3xISJMRKVjGS7t+SirEQXNpaG7Ihk7VJYh5lDgHINcJt0tpoDLblbjU5OPsq4xgZq2DwjiFyO2M5do2BGI1UjxUd/wB5K5P3+E2yGbjcEcpVANaPnKtXA0J4jK6LHBhCZEUaepNcHtPrDITOJLnTHGc+CggEtkVwot9VkMF1adp4F0YfhkSuEm4ku7MyQqJAgGj8mJHgoFWC2t9BGsuEk7RJI3OAynA8j3/caufesobgISUEiBgC3njNcKtneDjVykRKAlFQjSFrgui1jMscsryj/wARCcIg5GuEwQ293cJArw3HavG7/h1rgeBrh4Fzb2UDyTaz/wA5dBKrp8lxivo5nh4TVMxnAlCg4ZkH6RTZjljV0PNXGR//AEe97y1yfvKGR1KupGQwIwQa4TbCGZLwyxiMAPojBWuBI8lxbtNCkbCJNerDauQwMk1we0YCJWkMlzoy+PtIgwfI1w0yx3HE4IxE8hQxS6iucj9NcHFxcR26TB2lCIFfzL/watDbXtlKI7iLXrUEjKsrcj3/AHT8PvbSWcw/SCxmlEalikaMdTmuEX17ZxWV1ay/VI+2kjaUqVJWvone8UseJvFPb3FqjyvA4jCvHLHGRX0WvLMS8es7iW2eJhMRFKA0jAlqsb274Kly54pb2YYyONI0ZVSC6A19FpeE8Mn4NHHbhoRHrIfxZlH4WNcB4hHewW/EzHIYiYJ+2LFBC4/ETqrhE9xJwjhxgvbIACcJNEAzIP1IRXBb2x4Zwbt5e1u4+xlmmmQKFRP0irOaGSTjXEJER1Kl0d8qwBq1kgnjE2uKRSrjMrEZBr6M8df6P27g3Bs7Yu1+48Qhb2q4Pd8OSNjElvdRCKQKg8CFBP2eXe5P34Hk7LjFvJJoBOlADljyAq3d44Lm4aVgMqgKYBY1wu7vuFfVMQRQIZUFxq8TIgNcFlt3uLzXb2yL/oOjAXTVrIYYuGTRySBTpRyPBSat5Bbng6RCXB0F9edPf/Wf6iuffgeR14jbSMEBYhAfFv4FcNe/t4I5Yri2QnWFfxDoARkivozeQsluQxliZGlU+JRBI3ia4ffWXDTA5uorhWSMyn8PZox8CK4fcoZL+4uUn0ZhaOQgj7ff95K5P34HkEXGbeWTQM6UAOWPICrd3jgubhpXAyqApgFjXC7u+4T9UxBFChlQXGrxMiA1wSS3e4vNdvbIuf8AlnRgLireUww8NmjkcKdKuR4KT+RNQSC3PB0jEuDoL9pnT3/cauffgeIy8YupI9QxqQkYYcwageDiBN2YVYaGDO5Knxr6K3q3kN7avfXU8ZD5DjWQxJZ8nxJFWsvZz8Ot0ibSdLsI2BCn8yDVrKLn/hsydiVOvWc4XTSFJEs4VdSMFWCAEEd73lrk/fgdoYUvBK4GVXXGAuTUDmBeESRGXH2A5lyFrgN5xGNgg4aFTtYFXH2lP5I2fMmuGypNFx5JHiCk6EEpOr+BVvILd+FwRrKQdJcHxUGreRIp5bYxOwIVwIyDpPf90/D1/J/R/rP9RXP0XvJXJ/R+41c/Re8tcn9H7p+Hr+T+j/Wf6iufoveSuT+j9xq5+i95a5P6P3T8PX8n9H56j/UVz9F7yfEVyf0fuN8K5+i95fjXJ/R+6fXlhpzjBx51JL1FSS9RUkvUVJL1FSS9RUkvUVJL1FSS9RUkvUVJL1FSS9RUkvUVJL1FSS9RUkvUVJL1FSS9RUkvUUSQSSST4+WKll6ipZuoqWbqKlm6ipZuoqWbqKlm6ipZuoqWbqKlm6ipZuoqWbqKlm6ipZuoqWbqKlm6ipZuoqWbqKkkLIwYZIxkUWGnOMHHnUkvUVJL1FSS9RUkvUVJL1FSS9RUkvUVJL1FSS9RUkvUVJL1FSS9RUkvUVJL1FSS9RUkvUVJL1FSS9RTEgkkknx8sVJL1FSS9RUkvUVJL1FSS9RUkvUVJL1FSS9RUkvUVJL1FSS9RUkvUVJL1FSS9RUkvUVJL1FSS9RUkvUVJISpBGSMZFFhpzjB51JL1FSS9RUkvUVJL1FSS9RUkvUVJL1FSS9RUkvUVJL1FSS9RUkvUVJL1FSS9RUkvUVJL1FSS9RUkvUUSQTnxOTn/sfVjqzjA5VFJUUvQVFL0FRS9BUUvQVFL0FRS9BUUvQVFL0FRS9BUUvQVFL0FRS9BUUvQVFL0FRS9BUUvQVFJ0FAgAkeI8fLNRS9BUUvQVFL0FRS9BUUvQVFL0FRS9BUUvQVFL0FRS9BUUvQVFL0FRS9BUUvQVFL0FRS9BUUvQVFL0FRyAswUEgYyaVzrzjSOVQzVDNUM1QzVDNUM1QzVDNUM1QzVDNUM1QzVDNUM1QzVDNUM1KwUMVIIwfAZqOXoKil6CopegqKXoKil6CopegqKXoKil6CopegqKXoKil6CopegqKXoKil6CopegqKXoKil6Co5egqOQFmABIGMmlY684wOVRSVFL0FRS9BUUvQVFL0FRS9BUUvQVFL0FRS9BUUvQVFL0FRS9BUUvQVFL0FRS9BUUvQVFL0FRydBQOAcePnn1/J/R+41c/Re6vxrk/o/cb4Vz9F7y/GuT+j90+v5P6P3Grn6L3V+Ncn9H7rf1rn6L3lrk/o/dPw9fyf0fuNXP0Xur8a5P6P3W/rXP0XvLXJ/R+6fh97IyR3N5FaRFVJzJMSFBx5CrmJbmVGdIiwDsqY1MF8yB3byOa1gSR5JIT2oAh/GBozkitTQXMSyRFgUJVhkZB8R3L+QSxgGURwSyiIEZBdo1IWp0lgmQNHIhyrKfIg97k/f8ApTxEi84nFbODowqS+J0/Z8xXHrqc3BkMTzgHAiXLKNAFRXji4jd40jt5HfSpwSygeFcXa2jUaWuFjLvEwYAgoRV43bS2/aJ9hi0oHh4BR+I/pFSuJbdgJYpEMci58sqwBwe/7jVz7rlSylQw811DzFfSziTR3zzh2OjUvZJqGn7NcauLicxmdWlTU5QsECroABNRXj5hWVjHbyOERxkFiFwK42baGe5gCTxx9rqDvjRg9DU7/WRGriJEd3cOSBpCg6jU5YI5R1ZSjo4/0sp8Qe/7q/GuT9/iNxaMHyZIdOojHkdQIxX0p4iFsrzsUK6MsuM5b7NXEzJG4jluRE7Qq/lhpAMA86eWSWVC6RwRtK5Qeb4UH7NRyOl5MhctC5Ihf9IA/H+1Bwki5UOhRsfup8R3/db+tc+9xW5stBJYwactn8jqB8q+lPEsWnFJrdVGjSyQkY1fZ8zVy8khR2OEfCrGSDq/SfDwBprmFrhsQNPA8SSnkrMACa4rI6W9tC72hjwsIKk6w2PtFgKu5DC+kGYROY0L+Qd/IGiCCMgjyI73vLXJ+9IyFkKh1xqUkeYz+Yr6V8SMV8twXY6NS9igcY+zXGLiefszMrSrqdkLaQo0AAnkKivHzCszdnbyOERxkFyBgVxo28Nxdwqk0cfa9rrOOzII6mp5DdIiN2KRvI7B/wBIUHVUxdVco6lSjq481ZT4g9/3T8Pvf+p+HfE19JLm2MvCrp4isMR7BEKAousHIevpVdcKtOGiKFTbWxmluJigZnY6JAqirkPf23H4bBLl4TCl3E7gK5Rx4Bga+nc0M095qe5S3j1vrXHYQR4euOX0saWEVxZ31zaCG6j1kqwKSIgYCuNytFFa8TMFqYk0RzROxEgNXqRX/G7L6xdXhjVjFFFGGdkTy1GuNS8T4dxgTJE86Is0M8K6vxRgBkavpYbP6nxO8gtVjgiJkMLnT2pNBVuJkIlC/hLoxQkcgSK+jsF+JYHErvMEZf4jP4+tXbz26RsNTjS+vUS4YeOkg97k/f8A99tqQMv1yd8EeGUTIriycMtlsxcNcEJrmYtjQjSeC1cSTR/8RYpK/wCJwSn2jgAUAccKnYbaGNXBELfuQ+Mnv+41c+97t7/8VIGKcHkdCRnS3a4yK48OF2tiECIgjWWcOuS+qQH+AFok443GPH/85pQSvBExvoYBNkesff8AdX41yf7hsStxBwh5MU8DX0sjswolhuLSWCJXRiTqBLYJz+qvpHDbcQsuHLErTFCk8IHhqQ86h+rg8Ut5Zs+CICCNWT5KalV0YZRkIZWHMEeff91v61z7/wDvt58RVuJJlkvJSP1sjkDNfST65dTcQtJfqsQjWKIE+OQo1DHlk1/tdt/8TUi/+WTN/LZJok5sICSf/wAfe95a5P3/ANF9/SkDGPg8roeTa8Vx0cKtLEIEVBGJZw65LhpAf4AWmJA+kUYGRhsdu1AErwmHSf5ehhfrFqcfzGcnv+6fh97dRRtacXtrxy4JBWEklRVxZC4s4J7eSK716HjmIJIMfiCCKu7AjiIie8tL0SCMSxLp1o8dXVjHexcSt7l2hDiLTDIG0rqy1XFqt5wmaV0hugxhlEyhTkr4qRXELSZ7vh0dsYbdGRISr6gFLZJWruwfhlxBeizlAkE4a5JIEoricUPGOBQiOKVlZoJVKBZEdfA6Xq6s2ksInSys7IP2SNL4NKxk8Sxq5SU3HEbu6DICAq3DZCnNTRyyW5ly6eCtrctV3wMWcrHs5J0m7aJT/B0uRU7TFC0kkzeBeSVizt3uT9+JH0MGTUA2ll8iM+R/eolZ0JKMQCULeBIP5VZwSlDlC8avpP7ZHhVrCUkOZFKLhz/9wx4+X51AhkRSqOVGpQfMA+YFQoJSukvpGsryz54/bv8AuNXPvRIzpkxsQCyavPB/KolMoXSHwNQXlnzx+1WUDyp+GR41Zx/BIyKtYtAfXo0Lp15zqxjzz45qFBKV0l9I1leWfPH7VCiu+NbhQGbT5ZP547/ur8a5P9xEiF2y5UAEnmceZqwtnk/W8as3UjNWMEjKMKXjViB+xI8KgjkjIAKOoZT/AOx8KjVEUYVUAVVHIAeXf91v61z78SJqYs+kBdTN5k48z+9QoiZJ0qoVfHz8Bzrh1sgZgzBY0GpgcgnA8wagTXIoV20jLgeQJ/MVBEIdOOzCjRjlp8sUoCqAqqBgKOQHe95a5P34kLpnQ5ALLnzwfyzUSmULpD4GoLyz54/arKCSVPwu8as4/gkZFWsWgSdoF0LgPnOrGPPPjmoUErKFZwo1sq+QJ88VCivIQZGCgM+PLJ/Pv+6fh6/k/o/caufovdX41yf0fut/WufoveWuT+j90/D1/J/R+41c/Re6vxrk/o/db+tc/Re8vxrk/o/dPr2UaNWdRP51JF1NPF1NPF1NPF1NPF1NPF1NPF1NPF1NPF1NPF1NPF1NPF1NPF1NPF1NPF1NPF1NPF1NPF1NMCWYkEeXkBUkXU08XU08XU08XU08XU08XU08XU08XU08XU08XU08XU08XU08XU08XU08XU08XU08XU08XU1JGQjKSATnCmig0as6ifzqSLqaki6mpIupqSLqaki6mpIupqSLqaki6mpIupqSLqaki6mpIupqSLqaki6mpIupqSLqaki6mpIupplLM5bK5x4gCpIupp4upp4upp4upp4upp4upp4upp4upp4upp4upp4upp4upp4upp4upp4upp4upp4upp4qePCMpPic4BplGjVnUT+dSRU8XU08XU08XU08XU08XU08XU08XU08XU08XU08XU08XU08XU08XU08XU08XU08XU1JF1NMpYuTkeWMf9j8qrnyycVdxbhV3FuFXcW4VdxbhV3FuFXcW4VdxbhV3FuFXcW4VdxbhV3FuFXcW4VdxbhV3FuFXcW4VdxbhV3FuFXcW4VKrDmDkCruLcKu4twq7i3CruLcKu4twq7i3CruLcKu4twq7i3CruLcKu4twq7i3CruLcKu4twq7i3CruLcKu4twq7i3CrmMknAAYZJqRUJ5nFXcW4VdxbhV3FuFXcW4VdxbhV3FuFXcW4VdxbhV3FuFXcW4VdxbhV3FuFXcW4VdxbhV3FuFXcW4VdxbhV3FuFSKyg4JByKvItwq9i3Cr2LcKvYtwq9i3Cr2LcKvYtwq9i3Cr2LcKvYtwq9i3Cr2LcKvYtwq9i3Cr2LcKvYtwq9i3Cr2LcKuoixOANQ8TUqrnyycVdxbhV3FuFXcW4VdxbhV3FuFXcW4VdxbhV3FuFXcW4VdxbhV3FuFXcW4VdxbhV3FuFXcW4VdxbhV3FuFXcW4VIrDOPA5GfX8n9H7jVz9F7q/GuT+j/Wf6iufovdSuT+j90+v5P6P3Grn6L3V+Ncn9H+s/1Fc/Re8nxFcn9H7p+Hr+T+j9xq5+i91fjXJ/R/rP8AUVz9F7yfEVyf0fun4ev5P3/pDaut5fJbKPqijR2vkSa47ayySljE2hYAFRcv4ZOcCuK2yRTKTExcYcA4JXmK4pZp9j7FzIQ8I+0ASxFcQto5TD2rFnCBlGAzjJ/Dk1ewzqpw/ZuDpPI8u/7jVz7rBXKkIxGQpx4HH519IbVzftMBILNQE7FNXOuO2r3KqZS+lYQIshQdOTXFraMyRq6BnAJRxkNj8ga4lZw9pNCFmmOqNkc/hUjzLeQriNvC8aK7q7hSFJwDg8yKu4p4s6daMGGeXh+ff91fjXJ+/wDSG1dby/S1QfVFGjtfImuO2sskpYxEIsACouX8MnOBXFbZYp1JiYuMOAcErzFcUs0GgFLmQh4R9oAliK4hbRSmHtG1OEDKMBnGT+HJq9huFU4cxuGweR7/AOs/1Fc+/wAbtzDLeJDHEbYZRZDgZauOW0kX2RG/ZCEKfzycnOavIZkU4cowOk/vyricEhiRpJArg6UTzb+BUsKSx3MkcUYcM7xx+UgHI9/3k+Irk/ecJIyERsRqCtjwJH54P5V9IbVjfCciQWagJ2KhudcctXuVRpWfAiHZ6gAdNcVtozJGroGcAlHGQ2ORriVnCJbmECWU6kkRz+FCPNmriVvE0aqXV3CkB/w5H7/lV1HNESQHRgy55eH59/3T8PvTGHueNWdpJrGodnMSGq8tED28ks80lwEELpjTGynyLA1xe1tllAKGSRVLg/mB5kVxK3+rzuqRS9ouh2c4UK2cEk+WK45Z/VopzC85lXQJVGSmrOC1cYtJrWEEzTLIpRMfqOfCrqwtOIpFdMIJZxIIRESqySYwQlcUsPG3R5rmKQLbFiPxIzn8J/KuLWt2EOHEMgcj+QK+kFhEJJGRdU6DLIdLD50wZSAQwOQQ3kQfzFQrNxK6YpY258iwGWdseIRB4saRBPd2qTOqAhAxH5Aknvcn7/8AvttUYeJrucuh8iAmrBqCygeKyE8lxPHrAjLYCRoCKuEmCcSfDRroQklMlVqFXQcMmcBhkagMg0gRJeDxyOqDClxLgMQO/wC41c+97t7/APFUKyLHwmSRVYZXWJMAkV9QtLewRI7ia4i7V3ymcBcqAgp86eMxKP4FwahVzHwZGTUMgNrxkUoSEPayBFGFDvGdRA7/ALq/GuT9/wD362qMPE13OWQ+RATVg1BZQPFZid7iePWFQtgJGgIq4SZU4k4DRroQklMlVqFXUcMmcBhkagMg0gRJeDxyOqjCs4fAYgd/9Z/qK59//dbT+1PaqhScxG6DNEZ+RAI8au7JFu+HNbSC1V4/4kOo+YqC2lVrVzbXMIwzpH5rIp8iajQOvGbseQ1Ad/3k+Irk/f8A0X39KiEiR8JkkVGGVLCXAJFfULSDh6IlzPcRdq761zgLlAEFOHC/SCNVPkComaoUcx8JgKagDgk4JGaUJCt1bsiKMKGdCWIHf90/D73/AKn4d8TVrbkTcIviS6Ah3BShwRp4Wtoo04gkjultoBXsgh8ENXNs8d19KbaWKOzyiQRzyDVGmquCcONxxGdxaidAttB2KZaRggyWxU9hcGXg0D3KWsPYw69RADIS/jVvEJvq/FUdgoD4DP4Gv/LJLF2KP4xPcpCOyDg1HFHdzR3a36RADVahMqZAK4fBK9xxniMUjSKHYoH8ACaYsUjlQE/pSVkUV9E0uy0E1tZy/XkQW9qFP4UIJ1N5tXDvq8UVpEsEglV+2TH4+9yfvwrJ2EqyxZz9l08mH7ioFeW3Zmhc5yjOMEj+RVikskakK+WVgp/0koRkVw+EQXLBpolBVWKgAeA8vAVbqbiCNo4pPHKofMCoALpohE0njqKA50/x3/caufehVprcsYXOcqXGGx/IqFTdLEYlk8dQQnJX+K4dG85ADOcjUB+oA4arGMW6zdssYyFWTVq1Dx51ABdNEIjJ46igOQv8VAqz3GjtnGctoGFz/A7/ALq/GuT9+BZDBKssec/ZkTyYfuKgDy27M0LnOUZxgkfyKsUlkjUhHyysFP8ApJQjIrh8K29ywaaJQVVioAHgPLwFW6m4gjaOKTxyqHzAqAC6aIRNJ46igOdP8d/9Z/qK59+BZUSRZFVs4DIcg+HKrVJoyc6XGcHmD5g/uKsVCXEfZygszlk/SS5JxVikcjLpMhLO2n9ILkkCrREupAdcikjOfMkZxnv+8nxFcn78CtPbhxFIc5XWMNj+RUCm5WIxLL46ghOSv8Zrh0bzkAM/iNQHkGAOGqxjEEdx9YjQZCrJqLah41bgXMkSxvKM6igOQtQBJrkqZn8cuUGBn+B3/dPw+9tRKsFwlxGNRGmaP8LeBHlVgJmtmLQMGaN1J88MhBwa4frnhXSk6SPFIF/TrjIYiuHg2kM63EcZdziVG1ByxOSc1ZLMIX1xvqZHjfmjoQymuGpBO8PYvICxZ01a/tEk6v5NcLEb8Rilju1V3COsv4ho/Cua4ZHJYQIqQwNkhAgwpVvMEVw4RyzAB5mZpZXA8lLyEtirZYo55pJnQEnU8pyzeJPmatxDaxatEYJIXLFj4kk0uY3Uow5hhgioOytoIgkaAkhVHkMnvcn9H7jVz9F7q/GuT+j/AFn+orn6L3k+Irk/o/dPw9fyf0fuNXP0Xur8a5P6P9Z/qK5+i95K5P6P3T6+JnwGzgZxVrLtNWsu01ay7TVrLtNWsu01ay7TVrLtNWsu01ay7TVrLtNWsu01ay7TVrLtNWsu01ay7TVrLtNWsu01ay7TSFWMhIB8D5CrWXaatZdpq1l2mrWXaatZdpq1l2mrWXaatZdpq1l2mrWXaatZdpq1l2mrWXaatZdpq1l2mrWXaatZdpq1l2mraQASKSSDgDNRM+A2cDOKtZdpq1l2mrWXaatZdpq1l2mrWXaatZdpq1l2mrWXaatZdpq1l2mrWXaatZdpq1l2mrWXaatZdpq1l2mrWXaaiKsXYhT4E+FWkvn+g1Zy7DVnLsNWcuw1Zy7DVnLsNWcuw1Zy7DVnLsNWcuw1Zy7DVnLsNWcuw1Zy7DVnLsNWcuw1Zy7DVnLsNWsoUSqSSpwBmomfAbOBnFWsu01ay7TVrLtNWsu01ay7TVrLtNWsu01ay7TVrLtNWsu01ay7TVrLtNWsu01ay7TVrLtNWsu01ay7TVrLtNRlSZCcEYOMD/shNGjRo0aNGjRo0aNGj/gj/Jo0aNGjRo0aNGjRo0aNGj/k0aNGjRo0aNGjRo0aNGj/AIP+DRo0aNGjRo0aNGjR/wAEf4NY9CR/6BKyZDZwSKuZd5q5l3mrmXeauZd5q5l3mrmXeauZd5q5l3mrmXeauZd5q5l3mrmXeauZd5q5l3mrmXeauZd5q5l3mrmXeakZjrIBPiR4CrmXeauZd5q5l3mrmXeauZd5q5l3mrmXeauZd5q5l3mrmXeauZd5q5l3mrmXeauZd5q5l3mrmXeauZd5q5l3mrmQqZFBBJwfGpWTIbOCRVzLvNXMu81cy7zVzLvNXMu81cy7zVzLvNXMu81cy7zVzLvNXMu81cy7zVzLvNXMu81cy7zVzLvNXMu81cy7zUjORIQCTk+Qq5l3mrmXeauZd5q5l3mrmXeauZd5q5l3mrmXeauZd5q5l3mrmXeauZd5q5l3mrmXeauZd5q5l3mrmXeauZd5q5lKmRQQScHxqV0yHzpJGau5d5q7l3mruXeau5d5q7l3mruXeau5d5q7l3mruXeau5d5q7l3mruXeau5d5q7l3mruXeau5d5q7l3mrqXeakZz2pGSSTjA9fyf0fuNXP0Xur8a5P6P3Grn6L3l+Ncn9H7x9fyf0fuNXP0Xur8a5P6P3Grn6L3l+Ncn9H7x+9t3lF3xCCzQIQCHmJAY5/IVcYu54Xmji0k5SMgM3IYJ7olvYI1mKJEhDytCSCiq2MkkYFWc1q08SuYJhpkjJH4WH5EdzgXFb+5Fqtw4soRKER2KDV4iuH3dm0hYdhdJ2ci4JHiuTjPmO9yfv8A0VvVE04giPaR4eQ/hA8a4TPZFWAVZXRywx5jsyf8Ws1yY1BEUQ1O3iBgCkZSyhirfiXUPI/v9x7jVz7qFiqkhR5sceQr6JXyTXRcQoZIiWKDLfnXDpbN9ZXspGRmwPzypIwf8WM9yTKkeiEanAc41H9h+f3Pur8a5P3/AKK3qie4EEJ7SPDyH8IHjXCp7IqwCrK6OWGPMaCf8Ws1yY1BEUI1O3iBgCkKllDFW/EuR5H9/uPcaufe4RPelyQwidUKgfmdZHnX0WvSsVwYJXMkeEdCAwPj/mxnRYY0YXDDEUmv/Sp/Mj8/uPeX41yfv8HnvNWdRidF0456yPOvo5edgZjE8pkTSpDYYkZ/zNie4DmJME6xEMsc+Qx9x7x+9/6n4d8TV9xFPrfC7qZzFdyRlGiKKAn6FNWX0iurHhZhtbeHhhZQHMYZpJHR0Jc1JxGzuofpLbwWVxdjRO9s8g0GQCuKcdvJ76+LpHDO7Xd3Lp8VBQghKj4vZ8Ok4ZFcwwXVzruYS7lCY5VdyFNXt8Lo2XFI1BuHMa6HbDKn5PXFbmBOKcOae+uUkInkSCIEosh/XXEbybhvGe3gmtbiZ5+ykhQOsiNISa+knFgYOLX8VkIbl4hD2chIJ/XUxkuXjcSP+sxOY9Rr6Q28E9zbRRC2ntu1jItwcLryCASatxDOZHhnQeKiSFiraT3uT9//AH22q/lthc3E8cjxkg6NGTTcXvbiOBmW3t52DlC3/iSvlf4Bqe6SSxu2ihaR8zomVIVnU+JFcSuYIJ+GymcQyFWYDx6mrueazawS6jWdzIY316SAx7/uNXPve7e//FXE7m2tpOFu86wyFGYJJ5DkSaj4ze3NrbRRsttOUSD9JZiVGs1cyfWP+KQwvIG0sVSbT9oiuI3UNn/wmKV44ZDHrbWdtXc08FlJA1u0zmRwsyZKFj4kDv8Aur8a5P3/APfbar6W1FzcTxyPGSDo0UeL3txHA7LbwTuGKFv/ABJXyv8AANT3SS2N40MLSPmdEypCs6nxIriNzBBccMlM4hkKswHj1NXlxNZmwS6jWdzI8b69JAY9/wBxq59//fbv/wDyuM3RSF7pEBlISOIEgs36mqHjKQzX8MT3F3KWjuI5mx4ozE+PmCBVxJoi4bbsi6jpVjGxJUVxu/N/DaPNEwmIRBEfBSnkaADz2sUjgeWp1BPe95fjXJ/uBl4Lm7ZPzGrWQM1afSCTimYpHlkBMMwJBdSmcBOVPxBOFtHELWa2d0jhf/WZNByDV3chLm3uGLRzkYESeBQg+GaJIRQASckgDHifzPf94/e3Twi04jBegqobLW5JCnPkDXGmsL6ySSIOIlmDxTfiVlf+K+kMnDby6SNLtewSeGcxDCuUbGGFccknmgv4bo3IhRCxhfWE0JXFXsOI8NkdrWYRiUYlXS6sjeBBrjc99eXdmttMXjVR9htQKhfBRXH5H4RexXKQ2phTNu1ySSwfzYCuJ3EF7wVFFlfxqusELpOpTkMr/mtcbl4nfwRPDbExLBDCr/iKRp+Z8ixq6eYXV5cXJLAKQbhslRj8hVy0yW5fEjgKza3LeQ/mvpxPa2U5OYFtYmkjUjBWOQ1GVhgXwz4sSxyzOfzYk5J73J+/O0f1S9iuVwAdRi/0nkKnZGsZJXVAAQ3appwTXFms7hoBbzf8tZleMHIwH8mBriUzjiM/bPK4BkDeHXJFXDBrO2eBUwMOHHmTUzF2sxbdlgYAD6tWe/7jVz707K1g0pRAAQ3appOT+WKuCHjs2thHgaSHYNqzXHJbWO+Km5iEaSEsF06kZ/wmr6Ts4bxblJCoLHD9oFNTsXksltjFgaQA2rVmp2Zr4QhkIAC9iukYP557/ur8a5P35mj+qX0VyuADqMX+k8hU7I1jJK6IACG7VNOCa4s1ncNALeb/AJazK8YORgP5MDXEp3HEZu2eZwDIG8M9SKuGDWds8CpgYcOPMmpmLtZC27LA0gB9WrPf9xq59+ZpPrV7JctkAaTJ/pH7Crh5IZ+2DPgKwExLHH8V9IpporGaGS2QQogHY/h148WNXDauIW8cLpgYQRroyD+fnV0xjNq8HbFRnD05YQQxxBiMFgigZ73vL8a5P9xIZ4Z5JWfUNORISSvhX0mlNlEVCRPAjyBAfwazXHpIrGcaZLcQoWC4AKq58Rmr5rO44ejRwSBBIvZuoUqVNNqYKAzYxqPPHf8AePr+T+j9xq5+i91fjXJ/R+41c/Re8vxrk/o/ePr+T+j9xq5+i91fjXJ/R+41c/Re8vxrk/o/ePr+T+j9xq5+i91fjXJ/R+41c/Re8vxrk/o/ePr4lbH6gDiraLYKtotgq2i2CraLYKtotgq2i2CraLYKtotgq2i2CraLYKtotgq2i2CraLYKtotgq2i2CraLYKtotgq2i2CkVR5kAYFW0e0VbRbBVtFsFW0WwVbRbBVtFsFW0WwVbRbBVtFsFW0WwVbRbBVtFsFW0WwVbRbBVtFsFW0WwVbRbBVtFsFQRgg5BCjIqJWx+oA4q2i2CraLYKtotgq2i2CraLYKtotgq2i2CraLYKtotgq2i2CraLYKtotgq2i2CraLYKtotgq2i2CraLYKtotgqNVHmQBgVbRbRVtFsFW0WwVbRbBVtFsFW0WwVbRbBVtFsFW0WwVbRbBVtFsFW0WwVbRbBVtFsFW0WwVbRbBVtFsFW0WwVBGCDkEKMiokfHllc1axbBVrFtFWsW0VaxbRVrFtFWsW0VaxbRVrFtFWsW0VaxbRVrFtFWsW0VaxbRVrFtFWsW0VaxbRVrFtFWsWwUiqCfIDH/1eKFChQoUKFChQoUKFCh/+on//xAA5EQAABAMEBgkEAgIDAQAAAAAAAQIDERRSBBITkRAhMTNRUwUVIDAyNEFxciJAYYEGgmChQnDBsf/aAAgBAgEBPwD/ALM6SdcTbHSJaiLV6jGe5qszGM9zVZmMZ7mqzMYz3NVmYxnuarMxjPc1WZjGe5qszGM9zVZmOiXHFWsiUtRlA/UXEUi4ikXEUi4ikXEUi4ikXEUi4ikXEUhaU47ZQ9DFxFIuIpFxFIuIpFxFIuIpFxFIuIpFxFIZSk3HSgLiKRcRSLiKRcRSLiKRcRSLiKRcRSFoTdV9Is6Um0RmkXEUi4ikXEUi4ikXEUi4ikXEUi4ikWlKSb1F9h0n5139aUpUo7qUxMLbcb8aFF7lDs9D+cL4mC0ktJnAjEeyvzDfsfYvJM4R7TW9e9y0mZEQJST2GI9hfgULPuU6TUktpgjI+zat19h0n5139aSOBxIEpha1mo0rP6NplshrhENKZSbKiup2lA4HGJbTML8ao6eh/OF8TBaTI4qh6qIRXE/YwV+P9jy7C/MN+x9gyOK4fgKNcThe9RBcf7f6h2Gt697l2CJREn9gr4RejrpLPSvwKFn3KdLhRIvkQO9r8W3IFf1foIjDXptW6+w6T867+u56H84XxMF3K/MN+x901vXvcu5X4FCz7lPc2rdfYWvoty0WhbhOERHAdRu85OQ6jd5ych1G7zk5DqN3nJyHUbvOTkOo3ecnIdRu85OQ6jd5ychYujV2V8nDcIygYnE0GJxNBicTQYnE0GJxNBicTQYnE0GJxNBicTQYU+SnErhsE4mgxOJoMTiaDE4mgxOJoMTiaDE4mgxOJoMTiaDCLQSFrVDaJxNBicTQYnE0GJxNBicTQYnE0GJxNBicTQYVaiMjK6GrSSEEm6JxNBicTQYnE0GJxNBicTQYnE0GJxNBicTQYetBOJhd/wAQYaQpsjNOsYDVAwGqBgNUDAaoGA1QMBqgYDVAwGqBam0IaM0lAwq32yO/UJ+2c9Qn7Zz1CftnPUJ+2c9Qn7Zz1CftnPUJ+2c9Qn7Zz1DoN1b97FO99XqMBqgYDVAwGqBgNUDAaoGA1QMBqgYDVAwGqA20g3HSMtgwGqBgNUDAaoGA1QMBqgYDVAwGqBgNUBbLZJUZJDDSFNkZp1jAaoGA1QMBqgYDVAwGqBgNUDAaoGA1QLQ2hLcUlA/sLPuU6TPtWzcKCvEekkmewgZGWo+z/HNqvl2Il2mt697l2I9lfgULPuU9zat19hZ9yjS4US2AzMo8Ngis4foIjA4+h6bZuFBXiPTY1mi0NwVAo/ULrKmSWolLUfiVHXGOw9YcQ2lu0ElCdaUmSfUux/HNqvl2DKBmZFDZ6BSlRMvcEa4/2h+uw1vXvctJkRhJGRFD8gjVH9hF6JROMUkelfgULPuU6XEkZFq9SBmoo+8ARrOHpGARGGvTat19hZ9ynubZuFBXiPuf45tV8u6a3r3uXcr8ChZ9ynubVuvsGX0IQST2iabE20JtoTbQm2hNtCbaE20H3kONmktoPoi2RPUnMdUWzgnMdUWzgnMdUWzgnMdUWzgnMdUWzgnMdUWzgnMdUWzgnMdUWzgnMdDsLsZqxfVXoJpoTbQm2hNtCbaE20JtoTbQmmw2+hK3DP1E00JtoTbQm2hNtCbaE20JtoKtLZpMiDT6EIIj2iaaE20JtoTbQm2hNtCbaE20H30LRAv8QZYQtBGe0SrQlWhKtCVaEq0JVoSrQlWg8whCIkJVoSrQlWhKtCVaEq0JVoSrQlWh0qo7KwpbW0obR1vbOKch1vbOKch1vbOKch1vbOKch1vbOKch1vbOKch1vbOKch1vbOKch1vbOKch0aUzZ0Lc2mkhKtCVaEq0JVoSrQlWhKtCVaCrM2STMNMIW2RntEq0JVoSrQlWhKtCVaEq0JVoPsIQiJfYWfcp7m07svkC7np/yq/13XQnk2/iXcr8ChZ9ynubVuvsLPuUaXCikXjIz4FqF9W32CDMy16bTuy+QLTrI1QqIgbh6y/B/wCglSo/i8Zdjp/yq/12LMs8F4vp1JK7EiPaYVZbOTlyK9pl7/mMBaWktstQRA7yiUqMdh9joTybfxLSZRIJiUPzGP6F8zMIUqJEfqmOlfgULPuU6VlqL9A1mUfeBAlq1fmAQZmWvTat19hZ9ynsQIQ7Fp3ZfIFpgIEIdjp/yq/12IjEc+n6j1C8cIXtXY6E8m38S7EBAhDSvwKFn3KexAhDsWrdfYMOoS2RGesY7VQx2qhjtVDHaqGO1UMdqoY7VQx2qg+6hSCIjiMdqoY7VQx2qhjtVDHaqGO1UMdqoY7VQx2qx0yRv2daW/qPVsEhbOQoSFs5ChIWzkKHV9s5Ch1fbOQodX2zkKEhbOQoSFs5Ch1fbOQodEngWZCHNRkkhjtVDHaqGO1UMdqoY7VQx2qhjtVDHaqC3mzSqCww6hLZEZ6xjtVDHaqGO1UMdqoY7VQx2qhjtVDHaqFodQpuBHE/8Qas5LQSr20SaazEmmsxJprMSaazEmmsxJprMSaazEmmsw7ZybTGIlE1mJNNZiTTWYk01mJNNZiTTWYk01mJNNZiTTWYUwSXEIjtEmmsxJprMSaazEmmsxJprMSaazEmmsxJprMSaazHSlrXYlISkiOMdv4HXb3KSOu3eUkddu8pI67d5SR127ykjrt3lJHXbvKSOu3uUkI6ZdUtCTbTrUQas5OIJV7aJNNZiTTWYk01mJNNZiTTWYk01mJNNZiTTWYds5NpjH7Cz7lHc2ndl8gXcr8w37H3X8i3qP7dyzvmvkQs24R3Nq3X2Fn3KNLmzaLxlH8auIJw/wD4EGZxj6abTuy+QLTrTGGv6oazBuHrL8H/AKBLVH8XjLsL8w37H2Dik1esIevEG4ev9/6BLVH8Xodj+Rb1H9uwgieaaIySV6/eVAiP6SiJZj67i75kUbsfQWtDaH1pQm6RaWd818iFm3CNKy1Fr4C+ZR94ECWer8wCDMy16bVuvsLPuUaTKIulwF1PAQhptO7L5AtMCF1PAQLsL8w37H2IELqeAgXY/kW9R/bsEtabsFbPD+AbzpkcVq17de0KWpetSr2lnfNfIhZtwjTCIukfoCSXAQhptW6+ws60k0kjUL6Kk5i+ipOYvoqTmL6Kk5i+ipOYvoqTmL6Kk5i+ipOYtCkm3qP1F9FScxfRUnMX0VJzF9FScxfRUnMX0VJzF9FScxfRUnMX0VJzC1Jx2zj6GL6Kk5i+ipOYvoqTmL6Kk5i+ipOYvoqTmL6Kk5i+ipOYvoqTmOn0LW63cTHxbBgPcpWRjAe5SsjGA9ylZGMB7lKyMYD3KVkYwHuUrIxgPcpWRjAe5SsjDLDxOtGbavEXoYs6kkygjUL6Kk5i+ipOYvoqTmL6Kk5i+ipOYvoqTmL6Kk5i+ipOYtKkm3Aj/wAQbs6lpJRHtEoqohKKqISiqiEoqohKKqISiqiEoqohKKqIOWdSExMxKLqEoqohKKqISiqiEoqohKKqISiqiEoqohKKqIGwolpRHaJRVRCUVUQlFVEJRVRCUVUQlFVEJRVRCUVUQlFVEEsKUpZR2CUVUQlFVEJRVRCUVUQlFVEJRVRCUVUQlFVEDsqklG8LT0o3Z3ltG2ozIddtcpWY67a5Ssx121ylZjrtrlKzHXbXKVmOu2uUrMddtcpWY67a5SsxZek0Wl3DJtRH9hZ9yjubTuy+QLuV+Yb9j7preve5dyvwKHSfnnf13PRHnC+J/YWfco0uRhqOAvwj+Bi+sOH+wlV4tNp3ZfIFpvKIzicfqgDc2kCc17PWHYX5hv2PsRUkzicYQ/2FObSBOfj/AJQ7DW9e9y0nsCVGRFHXH/wYgSu96Q1R0r8Ch0n5539aUGRLI1JiVOv/AMDlkSta7t1CEquF+feIRZERTeWqBtqVFJatRRgD09EebL4n9hZ9yjSZEZC4kxcSXoCIi02ndl8gWm4Qw0cBcLsL8w37H2DSRjDSfoLqf/ew1vXvcuxcIXEgkkWlfgUOk/PO/rsTDv1643tZxIj1grS6V2CoXfwXqUDiD16eiPNl8T+ws+5T3Np3ZfIF3K/MN+x901vXvcu5X4FDpPzrv6EDEDEDEDEDEDEDEDHRHmy+J/YRPiIq4iKuIiriIq4iKuIiriIq4iKuIifERVxEVcRFXERVxEVcRFXERVxEVcRFXERPiIq4iKuIiriIq4iKuIiriIq4iKuIiriInxEVcRFXERVxEVcRFXERVxEVcRFXERVxBttmcVISZ+wwmqE5DCaoTkMJqhOQwmqE5DCaoTkMJqhOQwmqE5DCaoTkCbbScUoSR+3/AGJ//8QAOhEAAQICBwQHBwUAAwEAAAAAAgABAxEEEhQVUlOREyExURAgMzRicoEFIjBAQWGCMkJgcaFwwfCx/9oACAEDAQE/AP8AkyiABQAdx5rZQ8ArZQ8ArZQ8ArZQ8ArZQ8ArZQ8ArZQ8ArZQ8AqnAIwHdh+rJ4kSb++S2kTGS2kTGS2kTGS2kTGS2kTGS2kTGS2kTGS2kTGShmb0SO9Yp1mW0iYyW0iYyW0iYyW0iYyW0iYyW0iYyW0iYyW0iYyW0iYyUczaBR3Yv2utpExktpExktpExktpExktpExktpExktpExktpExkgiG5h75fqb6qmGYxzZiL6LaRMZLaRMZLaRMZLaRMZLaRMZLaRMZLaRMZLaRMZKgmZR5OX7X+Qofdw9el3Zmm6ExLg8+r7Q7u/mT8X6XAxabgTeiZnd5N1YXc4/mbqPDiM03Amb+kzT3N1aR2FG8r9LM7vJmm6IDH9QyTM79SH2geZU3vET06RAy/SJOnZ2eTqTyn1KB3j8X+QoXdw9el2mpGwszbuOs0bG7Ez1n4c2Q8On2h3d/Mn4v0sQuwT3yhvx5pmhswTcZ1m0kieHVJmq/pb+59SF3OP5m6gELtDYt8hJC0KQzq8Wfl6J3hVJSHs/Wc+pSOwo3lfpZ5J3ByiTcZ1mkiaFL9s5c25qK8N2eqw7jdt3Lph9oHmVN7xE9OmE8iffL3XQ1Hq/p3Dq80+yavKrurSUWrXmPCq3TQO8fi/yFD7uHr8H2h3d/Myfi/wYXc4/mb4VI7CjeV/gw+0DzKm94ienwaB3j8X+QgUwYUNgcHeSvEMt1eIZbq8Qy3V4hlurxDLdXiGW6vEMt1eIZbqk0sY0OowOyu48wVdx5gq7jzBV3HmCruPMFXceYKu48wVdx5gq7jzBQUMhgRIdYZk7K7jzBV3HmCruPMFXceYKu48wVdx5gq7jzBV3HmCruPMFRKGRw4QVm9xXceYKu48wVdx5gq7jzBV3HmCruPMFXceYKu48wUPs8xISrjuUehFFikbGzTV3HmCruPMFXceYKu48wVdx5gq7jzBV3HmCruPMFUahlBiVnNn/iFKpEYI5iJkzNJWqPmErVHzCVqj5hK1R8wlao+YStUfMJWqPmErVHzCVCjxTjsxG7tVTUWBlirLAyxVlgZYqywMsVZYGWKssDLFWWBlirLAyxVlgZYr2wLQYc4fuv8AZWqPmErVHzCVqj5hK1R8wlao+YStUfMJWqPmErVHzCVqpGYSjx4owYDsZTcXmrVHzCVqj5hK1R8wlao+YStUfMJWqPmErVHzCVqpGYSh0mO5izxC/UqVSIwRzETJmaStUfMJWqPmErVHzCVqj5hK1R8wlao+YStUfMJWqPmEqFHinGkRk7Sf5Cm95ienSzO/BO0ur7P7wP8ATpuDdLuzKc+r7d7LqOzt1qR2FG8r9LNNOztx6sPtA8ypveInp0szvw61A7x+L/IU3vMT06YBOJtvkhYSqT3vVdyn9d/BOMJp8veeU/sorCxM4/UW6fZ/eB/p03BumOLPDfdNTOu7NuZvp9pIXJyhu7l9W+z9T272XUY6ww2MptVL6oAhyF3qzmz7k7Q3GUt9Wc/vPqUjsKN5X6WdxebI3YiN3efvMwzfhNEENmeW56v/AGorQ5O4tKRu3p0w+0DzKm94ienTANxJ5FL3XQsBVf0v7sy5u804wmY/qzVpb1FYWP3eFVv96aB3j8X+QpveYnp8H2f3gf6dNwb4Pt3svhUjsKN5X+DD7QPMqb3iJ6fBoHePxf5Ck0SNEjEY1ZP91YKR4dVYKR4dVYKR4dVYKR4dVYKR4dVYKR4dVYKR4dVYKR4dVRKLFhRWIpSVvg+LRW+D4tFb4Pi0Vvg+LRW+D4tFb4Pi0Vvg+LRW+D4tFb4Hi0XtQmpQVYf+qwUjw6qwUjw6qwUjw6qwUjw6qwUjw6qwUjw6qwUjw6qwUjw6qwUjw6qNRYpwoAtVmIvNWCkeHVWCkeHVWCkeHVWCkeHVWCkeHVWCkeHVWCkeHVWCkeHVBQY4mLvV1VIocaJGIhqyf7qwUjw6qwUjw6qwUjw6qwUjw6qwUjw6qwUjw6qwUjw6qwUjw6qi0WLCi1iqyq/xCk0uNDjEAvub7K3x+Y6K3x+Y6K3x+Y6K3x+Y6K3x+Y6K3x+Y6K3x+Y6K3x+Y6KjUuLEi1SfdVdW+PzHRW+PzHRW+PzHRW+PzHRW+PzHRW+PzHRW+PzHRW+PzHRW+PzHReyzKlHKJwn9FYYHItVYYHItVYYHItVYYHItVYYHItVYYHItVYYHItVYYHItVYYHItV7SinRotWHw3q3x+Y6K3x+Y6K3x+Y6K3x+Y6K3x+Y6K3x+Y6K3x+Y6K3x+Y6IKdHIxZ3HRUilxocYhF9zfZW+PzHRW+PzHRW+PzHRW+PzHRW+PzHRW+PzHRW+PzHRW+PzHRUSlRYsWqT7pfIU3vMT0+DQe2fyun4v8AB9g9r+Xwvbfbt5n+DD7QPMqb3iJ6fBoHePxf5Cm95ienTAKRs3NVBOrPi4u7/Tg8k8IG3Pwaf+NNRREXarwcWfpoPbP5XT8X6dxiFbhUd90m4IYAyB341m+/FFCh1SlWmwsXU9g9r+XUiC1cH5z+qaLEcZ/0oZORnv3bpevU9t9u3mfpF3Z5sjFic5twJmaUm4p4Iizu2H/46iwwFnca24nbTph9oHmVN7xE9OmATsT+V/8AGTQxKq74ZlrLcnhA0572Gt/jqKLCch4bn1afTQO8fi/yFN7zE9Oozuym/UoPbP5XT8X6Zuqz4lN+p7B7X8upJVR5KTT6ntvt28z9Sbp3d+Lqb9MPtA8ypveInp1Gd2U36lA7x+L/ACFKo8Y45kIE7PJWWPlkrLHyyVlj5ZKyx8slZY+WSssfLJWWPlkrLHyyVEgRQizIJNVdWWPlkrLHyyVlj5ZKyx8slZY+WSssfLJWWPlkrLHyyVlj5ZL2OJQIk4jVfe+qtVHzGVqo+YytVHzGVqo+YytVHzGVqo+YytVHzGVqo+YytVHzGXtYDjRZw2m1Z1ZY+WSssfLJWWPlkrLHyyVlj5ZKyx8slZY+WSssfLJQ6NHYxd4ZfqVKo8Y45kIE7PJWWPlkrLHyyVlj5ZKyx8slZY+WSssfLJWWPlkrLHyyVDgRQjTIJNVf+IR6acKKQMAvJXkeAVeR4BV5HgFXkeAVeR4BV5HgFXkeAVeR4BVHphxjquDMrxPAKvI8Aq8jwCryPAKvI8Aq8jwCryPAKvI8Aq8jwCgphFAiRKrTF2V5HgFXkeAVeR4BV5HgFXkeAVeR4BV5HgFXkeAVeR4BVAhWqHWIpcOCu4Mbq7gxuruDG6u4Mbq7gxuruDG6u4Mbq7gxuioACJPXJR6aUKKYMDPJXkeAVeR4BV5HgFXkeAVeR4BV5HgFXkeAVeR4BVGphRolVwZvkKb3mJ6fBoPbP5XT8X+DC7nH8zfC9idh6N8GL2Z+VU3vMT0+DQO8fi/yFN7zE9OmA/vydhefNppgEpO/1F3fgzMzPJPAFtzluaf97mmogMLtV4OLP00Htn8rp+L9MmMQZ2Fmqu7yZmfchgNIH+tZvvxRQgYSk5TYWfqQu5x/M3UaRjDaQtObvJmnuQQR3P4m++53TwQqz96dWf24y6nsTsPRuoT1DN2rPKX15raHum0mdQXJwZ3ff0xezPyqm95ienTBKROzsL+6772nwZbMSqvzGb/RuMk8EWnN9wz/AMdRAYDk3Dc+rdNA7x+L/IU3vMT06Wd23smMmfcScyf6p3d+PTQe2fyun4v0zLmtocmasW5VixdSF3OP5m6k35pjNmZplJlWLF1PYnYejdRxF5zbiqg7pM25MzNwbpi9mflVN7zE9OlnduCYzbgScif9yd3fj00DvH4v8hTAMqQbsBPwWyiYC0WyiYC0WyiYC0WyiYC0WyiYC0WyiYC0WyiYC0WyiYC0VDA2jTcSb3XTwomAtFsomAtFsomAtFsomAtFsomAtFsomAtFsomAtFsomAtFsomAtFDA2okdnEp1mWyiYC0WyiYC0WyiYC0WyiYC0WyiYC0WyiYC0WyiYC0WyiYC0WyiYC0XscmCBInl7rcVtYeMdVtYeMdVtYeMdVtYeMdVtYeMdVtYeMdVtYeMdVtYeMdVEiQ6he+P6eapgGVIN2An4LZRMBaLZRMBaLZRMBaLZRMBaLZRMBaLZRMBaLZRMBaLZRMBaKggYx5uJN7r/wAQjU0YURwcZyV5BlkryDLJXkGWSvIMsleQZZK8gyyV5BlkryDLJQaYMU6rBJXiGWSvIMsleQZZK8gyyV5BlkryDLJXkGWSvIMsleQZZIaYJQjiVdwq8gyyV5BlkryDLJXkGWSvIMsleQZZK8gyyV5BlkryDLJRKYIBDNx/UryDLJXkGWSvIMsleQZZK8gyyV5BlkryDLJXkGWSH2iDkLbMt6hUM4oMbEzTV3RMYq7omMVd0TGKu6JjFXdExiruiYxV3RMYq7omMVGohQQrOU/kKb3mJ6fBoPbP5XT8X+DC7nH8zfCpHYUbyv8ABhdoHmVC7sHr8Gn9h+TfIU3vMT06YNVzkQzmtkzyfhPfJvoyeBLc789/9NNGFR2atNnGfTQe2fyun4v0uAEwSGrMZz3vwQwNwFzJv9RQZDOvvqs8vs/Uhdzj+ZupUAxBmEWd579/0QwJyef7m0d08H3Z1t9WdX7Tl1KR2FG8r9IuzPNxmjhi7nLdKXN5zTwJM7zn7qiQqjTYp+87erdMLtA8yoXdg9ekmd23PJDGcRafvO7TRRi3yHexM2/7v1Kf2H5N8hTe8xPTpZ3F5txTRDb6/ZPFifV//PuRE5Sn9Omg9s/ldPxfpYyZpT/bL0dbaJu38Jf4tofP9svTqQu5x/M3UYyaUn4f9rbHJmZ+Ev8AFtD5/tl6dSkdhRvK/U2hznW/8yeNEf6pzJ5s7/un69MLtA8yoXdg9epsw3fZbId/3+/Up/Yfk3yFN7xE9OpLq0Ltn8rp2eb9MlLqwu5x/M3UkpKXUpHYUbyv1JKSl0wu0DzKhd2D1+DT+w/JvkHAXebiqgYRVQMIqoGEVUDCKqBhFVAwiqgYRVQMIpgFuDKoGEVUDCKqBhFVAwiqgYRVQMIqoGEVUDCKqBhFVBlKSqBhFVAwiqgYRVQMIqoGEVUDCKqBhFVAwiqgYRTiL/RVAwiqgYRVQMIqoGEVUDCKqBhFVAwiqgYRVQMLJiJm3Oq54yVc8ZKueMlXPGSrnjJVzxkq54yVc8ZJyJ+L/wDIn//Z)\n",
        "\n"
      ],
      "metadata": {
        "id": "fsSUmt-XRtGd"
      }
    },
    {
      "cell_type": "code",
      "source": [
        "from sklearn.model_selection import cross_val_score,KFold"
      ],
      "metadata": {
        "id": "dWY04r_lOtIS"
      },
      "execution_count": null,
      "outputs": []
    },
    {
      "cell_type": "code",
      "source": [
        "k_fold=KFold(n_splits=5,shuffle=True) # Each fold contain 25% data"
      ],
      "metadata": {
        "id": "RgJOVAnVOtAu"
      },
      "execution_count": null,
      "outputs": []
    },
    {
      "cell_type": "code",
      "source": [
        "result=cross_val_score(xgb,x_new,y_new,cv=k_fold)"
      ],
      "metadata": {
        "id": "tLaI4HCGOs9G"
      },
      "execution_count": null,
      "outputs": []
    },
    {
      "cell_type": "code",
      "source": [
        "print(result)"
      ],
      "metadata": {
        "colab": {
          "base_uri": "https://localhost:8080/"
        },
        "id": "lUtontHNOs57",
        "outputId": "e9406c1f-5f60-4c9c-d7c1-002a72154c93"
      },
      "execution_count": null,
      "outputs": [
        {
          "output_type": "stream",
          "name": "stdout",
          "text": [
            "[0.85555556 0.86135266 0.85217391 0.86176897 0.85548574]\n"
          ]
        }
      ]
    },
    {
      "cell_type": "code",
      "source": [
        "result.mean()"
      ],
      "metadata": {
        "colab": {
          "base_uri": "https://localhost:8080/"
        },
        "id": "BsWUn1HMOs2x",
        "outputId": "bf19950b-9edd-440c-adf5-59c1f1f0ff32"
      },
      "execution_count": null,
      "outputs": [
        {
          "output_type": "execute_result",
          "data": {
            "text/plain": [
              "0.8572673676050648"
            ]
          },
          "metadata": {},
          "execution_count": 122
        }
      ]
    },
    {
      "cell_type": "code",
      "source": [
        "result.max()"
      ],
      "metadata": {
        "colab": {
          "base_uri": "https://localhost:8080/"
        },
        "id": "vtGkxiDdOszo",
        "outputId": "bf705fc0-bbd2-4d67-9ea6-c32a7d6d9aa3"
      },
      "execution_count": null,
      "outputs": [
        {
          "output_type": "execute_result",
          "data": {
            "text/plain": [
              "0.8617689705171581"
            ]
          },
          "metadata": {},
          "execution_count": 123
        }
      ]
    },
    {
      "cell_type": "code",
      "source": [
        "result.min()"
      ],
      "metadata": {
        "colab": {
          "base_uri": "https://localhost:8080/"
        },
        "id": "VtdSgM_5Osvm",
        "outputId": "04977827-82df-4059-c426-e5f4755e56f6"
      },
      "execution_count": null,
      "outputs": [
        {
          "output_type": "execute_result",
          "data": {
            "text/plain": [
              "0.8521739130434782"
            ]
          },
          "metadata": {},
          "execution_count": 124
        }
      ]
    },
    {
      "cell_type": "markdown",
      "source": [
        "# **Stratified K fold Cross Validation**"
      ],
      "metadata": {
        "id": "cR7DpE8Ke8QE"
      }
    },
    {
      "cell_type": "code",
      "source": [
        "from sklearn.model_selection import StratifiedKFold"
      ],
      "metadata": {
        "id": "Vg_v-F2AOsrc"
      },
      "execution_count": null,
      "outputs": []
    },
    {
      "cell_type": "code",
      "source": [
        "st=StratifiedKFold(n_splits=5)"
      ],
      "metadata": {
        "id": "X2VgLYbte7bC"
      },
      "execution_count": null,
      "outputs": []
    },
    {
      "cell_type": "code",
      "source": [
        "score2=cross_val_score(xgb,x_new,y_new,cv=st)"
      ],
      "metadata": {
        "id": "dd3YUB42e7Ti"
      },
      "execution_count": null,
      "outputs": []
    },
    {
      "cell_type": "code",
      "source": [
        "print(score2)"
      ],
      "metadata": {
        "colab": {
          "base_uri": "https://localhost:8080/"
        },
        "id": "BZG-fzE7e7ON",
        "outputId": "08ad5fe3-e660-46ff-a902-b860774aac65"
      },
      "execution_count": null,
      "outputs": [
        {
          "output_type": "stream",
          "name": "stdout",
          "text": [
            "[0.84975845 0.85700483 0.86714976 0.8699855  0.88641856]\n"
          ]
        }
      ]
    },
    {
      "cell_type": "code",
      "source": [
        "score2.mean()"
      ],
      "metadata": {
        "colab": {
          "base_uri": "https://localhost:8080/"
        },
        "id": "P7TRMij6e61S",
        "outputId": "40b8c00f-7a26-4ecf-bf50-425d4cde3cb8"
      },
      "execution_count": null,
      "outputs": [
        {
          "output_type": "execute_result",
          "data": {
            "text/plain": [
              "0.866063420682119"
            ]
          },
          "metadata": {},
          "execution_count": 129
        }
      ]
    },
    {
      "cell_type": "code",
      "source": [
        "score2.max()"
      ],
      "metadata": {
        "colab": {
          "base_uri": "https://localhost:8080/"
        },
        "id": "sj2uMccAe6wD",
        "outputId": "bdc4591f-189a-4ff0-ba10-cac8bde976af"
      },
      "execution_count": null,
      "outputs": [
        {
          "output_type": "execute_result",
          "data": {
            "text/plain": [
              "0.8864185596906718"
            ]
          },
          "metadata": {},
          "execution_count": 130
        }
      ]
    },
    {
      "cell_type": "code",
      "source": [
        "score2.min()"
      ],
      "metadata": {
        "colab": {
          "base_uri": "https://localhost:8080/"
        },
        "id": "iEo5kNsYe6rn",
        "outputId": "3bd6444d-160e-4d5a-9963-55ee888f80e2"
      },
      "execution_count": null,
      "outputs": [
        {
          "output_type": "execute_result",
          "data": {
            "text/plain": [
              "0.8497584541062801"
            ]
          },
          "metadata": {},
          "execution_count": 131
        }
      ]
    },
    {
      "cell_type": "markdown",
      "source": [
        "# **Leave One Out Cross Validation**"
      ],
      "metadata": {
        "id": "9mv_hXB2hEIK"
      }
    },
    {
      "cell_type": "code",
      "source": [
        "from sklearn.model_selection import LeaveOneOut"
      ],
      "metadata": {
        "id": "nAPNkv0ze6mF"
      },
      "execution_count": null,
      "outputs": []
    },
    {
      "cell_type": "code",
      "source": [
        "loo=LeaveOneOut()"
      ],
      "metadata": {
        "id": "qVyi9lele6h0"
      },
      "execution_count": null,
      "outputs": []
    },
    {
      "cell_type": "code",
      "source": [
        "#result3=cross_val_score(xgb,x_new,y_new,cv=loo)"
      ],
      "metadata": {
        "id": "LjuB8pv1e6dw"
      },
      "execution_count": null,
      "outputs": []
    },
    {
      "cell_type": "code",
      "source": [
        "#print(result3)"
      ],
      "metadata": {
        "id": "31-SaQ--e6ab"
      },
      "execution_count": null,
      "outputs": []
    },
    {
      "cell_type": "code",
      "source": [
        "#result3.mean()"
      ],
      "metadata": {
        "id": "HQNkEfxxe6W1"
      },
      "execution_count": null,
      "outputs": []
    },
    {
      "cell_type": "code",
      "source": [
        "result3.max()"
      ],
      "metadata": {
        "id": "BxZlzFLMe6Sz"
      },
      "execution_count": null,
      "outputs": []
    },
    {
      "cell_type": "code",
      "source": [
        "result3.min()"
      ],
      "metadata": {
        "id": "TwezPevde6PC"
      },
      "execution_count": null,
      "outputs": []
    },
    {
      "cell_type": "code",
      "source": [],
      "metadata": {
        "id": "gVyScnxVOsnf"
      },
      "execution_count": null,
      "outputs": []
    }
  ]
}